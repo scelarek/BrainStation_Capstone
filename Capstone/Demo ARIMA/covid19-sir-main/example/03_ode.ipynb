{
  "cells": [
    {
      "cell_type": "markdown",
      "metadata": {
        "id": "oVkKo7ZIxtr0"
      },
      "source": [
        "[![Binder](https://mybinder.org/badge_logo.svg)](https://mybinder.org/v2/gh/lisphilar/covid19-sir/HEAD?labpath=example%2F03_ode.ipynb)"
      ]
    },
    {
      "cell_type": "markdown",
      "metadata": {},
      "source": [
        "# SIR-derived ODE models\n",
        "SIR-derived ODE (ordinary differential equation) models are used in epidemiology. They are also named as compartment models and useful to understand the dynamics of outbreak of infectious diseases, including COVID-19.\n",
        "\n",
        "Mathematical model enables us to describe complicated systems with some parameters simply. So, we can study how to predict and end the outbreak in epidemiology."
      ]
    },
    {
      "cell_type": "code",
      "execution_count": null,
      "metadata": {
        "colab": {
          "base_uri": "https://localhost:8080/",
          "height": 507
        },
        "id": "OB01Ln_6k2aL",
        "outputId": "ab92a56f-7062-4c01-86f8-48dcd478eb56"
      },
      "outputs": [],
      "source": [
        "from copy import deepcopy\n",
        "from pprint import pprint\n",
        "import covsirphy as cs\n",
        "import numpy as np\n",
        "cs.__version__"
      ]
    },
    {
      "cell_type": "markdown",
      "metadata": {
        "id": "Y1WeSVlEymY6"
      },
      "source": [
        "## 1. SIR model\n",
        "SIR model is the simplest mathematical model with ODEs. Population is assigned to compartments named as follows.\n",
        "\n",
        "Let’s start with the simplest SIR model proposed by [Kermack, W. O., & McKendrick, A. G. (1927)](https://royalsocietypublishing.org/doi/10.1098/rspa.1927.0118). Population is assigned to some compartments. \"Susceptible people\" may meet \"Infected\" patients and may be confirmed as \"Infected\". \"Infected\" patients will move to \"Removed (Recovered or Fatal)\" compartment later."
      ]
    },
    {
      "cell_type": "markdown",
      "metadata": {
        "id": "8H2RtlDI3TTN"
      },
      "source": [
        "### 1-1. Definition"
      ]
    },
    {
      "cell_type": "markdown",
      "metadata": {
        "id": "Qw96ajfv2Ssu"
      },
      "source": [
        "\\begin{align*}\n",
        "\\mathrm{S} \\overset{\\beta I}{\\longrightarrow} \\mathrm{I} \\overset{\\gamma}{\\longrightarrow} \\mathrm{R}  \\\\\n",
        "\\end{align*}"
      ]
    },
    {
      "cell_type": "markdown",
      "metadata": {
        "id": "snIu-Rbm2v3-"
      },
      "source": [
        "Variables:  \n",
        "\n",
        "* $\\mathrm{S}$: Susceptible (= Population - Confirmed)  \n",
        "* $\\mathrm{I}$: Infected (=Confirmed - Recovered - Fatal)  \n",
        "* $\\mathrm{R}$: Recovered or Fatal (= Recovered + Fatal)  \n",
        "\n",
        "Parameters:  \n",
        "\n",
        "* $\\beta$: Effective contact rate $\\mathrm{[1/min]}$  \n",
        "* $\\gamma$: Recovery (+ Mortality) rate $\\mathrm{[1/min]}$  \n",
        "\n",
        "Note:  \n",
        "Though $R$ in SIR model is \"Recovered and have immunity\", we defines $R$ as \"Recovered or fatal\". This is because mortality rate cannot be ignored in our COVID-19 outbreak."
      ]
    },
    {
      "cell_type": "markdown",
      "metadata": {
        "id": "2PmWdZS83ArB"
      },
      "source": [
        "### 1-2. Non-dimensional SIR model\n",
        "To simplify the model, we will remove the units of the variables from the ODE model.\n",
        "\n",
        "Set $(S, I, R) = N \\times (x, y, z)$ and $(T, \\beta, \\gamma) = (\\tau t, \\tau^{-1} \\rho, \\tau^{-1} \\sigma)$.  \n",
        "\n",
        "This results in the ODE  \n",
        "\\begin{align*}\n",
        "& \\frac{\\mathrm{d}x}{\\mathrm{d}t}= - \\rho x y  \\\\\n",
        "& \\frac{\\mathrm{d}y}{\\mathrm{d}t}= \\rho x y - \\sigma y  \\\\\n",
        "& \\frac{\\mathrm{d}z}{\\mathrm{d}t}= \\sigma y  \\\\\n",
        "\\end{align*}\n",
        "\n",
        "Where $N$ is the total population and $\\tau$ is a coefficient ([min], is an integer to simplify)."
      ]
    },
    {
      "cell_type": "markdown",
      "metadata": {
        "id": "GSAw2DXi3GIt"
      },
      "source": [
        "Note regarding the roles of ODE parameter values:  \n",
        "When $\\rho$ is large, $\\beta$ is large. When $\\beta$ (effective contact rate [1/min]) is large, S -> I is faster because dI/dT = $\\beta$ * [S] [I]."
      ]
    },
    {
      "cell_type": "markdown",
      "metadata": {
        "id": "Nw3wdOu23bC6"
      },
      "source": [
        "### 1-3. Create sample data\n",
        "We use `SIRModel` class, a child class of `ODEModel`. They have class method `.from_sample(date_range=None, tau=1440)` (as default) and this method creates an instance with preset parameter values and initial values of variables."
      ]
    },
    {
      "cell_type": "code",
      "execution_count": null,
      "metadata": {
        "colab": {
          "base_uri": "https://localhost:8080/",
          "height": 53
        },
        "id": "sCC7Ceem2PBX",
        "outputId": "39514824-37fe-402f-d933-d965c95058f5"
      },
      "outputs": [],
      "source": [
        "sir = cs.SIRModel.from_sample()\n",
        "repr(sir)"
      ]
    },
    {
      "cell_type": "markdown",
      "metadata": {
        "id": "BN0Pri464cF1"
      },
      "source": [
        "We can specify the start/end date of dynamics and tau value as follows. Note that tau value [min] should be a divisor of 1440 to simplify operations."
      ]
    },
    {
      "cell_type": "code",
      "execution_count": null,
      "metadata": {
        "colab": {
          "base_uri": "https://localhost:8080/"
        },
        "id": "zH0mH8wa3rQL",
        "outputId": "5f7f5df9-6d2b-4380-f433-259f0573898e"
      },
      "outputs": [],
      "source": [
        "cs.SIRModel.from_sample(date_range=(\"01Jan2022\", \"31Dec2022\"), tau=720)"
      ]
    },
    {
      "cell_type": "markdown",
      "metadata": {
        "id": "V-FjMgLt5Hz6"
      },
      "source": [
        "When we need to change the values of arguments, create an instance directly with the class."
      ]
    },
    {
      "cell_type": "code",
      "execution_count": null,
      "metadata": {
        "colab": {
          "base_uri": "https://localhost:8080/"
        },
        "id": "cd4mykB140_J",
        "outputId": "70636beb-5be1-4979-d36d-62b5b7dd38ad"
      },
      "outputs": [],
      "source": [
        "cs.SIRModel(\n",
        "    date_range=('01Jan2022', '31Dec2022'),\n",
        "    tau=720,\n",
        "    initial_dict={'Susceptible': 995_000, 'Infected': 4_000, 'Fatal or Recovered': 1_000},\n",
        "    param_dict={'rho': 0.4, 'sigma': 0.075}\n",
        ")"
      ]
    },
    {
      "cell_type": "markdown",
      "metadata": {
        "id": "aGWKf2Bh55ex"
      },
      "source": [
        "We can also confirm the settings and definitions of the instance with instance method `ODEModel().settings()` and class method `ODEModel.definition()`."
      ]
    },
    {
      "cell_type": "code",
      "execution_count": null,
      "metadata": {
        "colab": {
          "base_uri": "https://localhost:8080/"
        },
        "id": "Mks5ki9n5vQP",
        "outputId": "1f6486f3-9a16-426c-85d4-71ee30de62fd"
      },
      "outputs": [],
      "source": [
        "pprint(sir.settings())"
      ]
    },
    {
      "cell_type": "code",
      "execution_count": null,
      "metadata": {
        "colab": {
          "base_uri": "https://localhost:8080/"
        },
        "id": "WekWolft6OEa",
        "outputId": "b4392341-39b3-4f38-956f-b43ca5134aa3"
      },
      "outputs": [],
      "source": [
        "# pprint(cs.SIRModel.definitions())\n",
        "pprint(sir.definitions())"
      ]
    },
    {
      "cell_type": "markdown",
      "metadata": {
        "id": "JzT7jHukFmB4"
      },
      "source": [
        "We can calculate dimensional parameter values with `ODEModel().dimensional_parameters()`."
      ]
    },
    {
      "cell_type": "code",
      "execution_count": null,
      "metadata": {
        "colab": {
          "base_uri": "https://localhost:8080/"
        },
        "id": "ge1i0bkSFlcq",
        "outputId": "00a337e5-6aa1-4ee8-d5fb-8f1ae33ea8fc"
      },
      "outputs": [],
      "source": [
        "sir.dimensional_parameters()"
      ]
    },
    {
      "cell_type": "markdown",
      "metadata": {
        "id": "lz6kxAkQ6lGP"
      },
      "source": [
        "### 1-4. Solve ODEs\n",
        "We can solve the ODEs with `ODEModel().solve()`."
      ]
    },
    {
      "cell_type": "code",
      "execution_count": null,
      "metadata": {
        "colab": {
          "base_uri": "https://localhost:8080/",
          "height": 238
        },
        "id": "1RdDaRWI6Yzi",
        "outputId": "e4da48e2-348e-4aaf-c28d-72a7efe7abfe"
      },
      "outputs": [],
      "source": [
        "sir_df = sir.solve()\n",
        "sir_df.tail()"
      ]
    },
    {
      "cell_type": "code",
      "execution_count": null,
      "metadata": {
        "colab": {
          "base_uri": "https://localhost:8080/",
          "height": 294
        },
        "id": "uzuTaOUM6zvj",
        "outputId": "3a1068dc-c870-41d8-ae0d-9abf449be2af"
      },
      "outputs": [],
      "source": [
        "cs.line_plot(sir_df, title=f\"Sample data of {sir}\", y_integer=True)"
      ]
    },
    {
      "cell_type": "markdown",
      "metadata": {
        "id": "OojXCEBJ7dGB"
      },
      "source": [
        "### 1-5. Reproduction number\n",
        "Reproduction number of SIR model is defined as follows.\n",
        "\n",
        "\\begin{align*}\n",
        "R_0 = \\rho \\sigma^{-1} = \\beta \\gamma^{-1}\n",
        "\\end{align*}\n",
        "\n",
        "$R_0$ (\"R naught\") means \"the average number of secondary infections caused by an infected host\" ([external link: Infection Modeling — Part 1](https://towardsdatascience.com/infection-modeling-part-1-87e74645568a)).  \n",
        "\n",
        "We can calculate reproduction number using `ODEModel().r0()` method."
      ]
    },
    {
      "cell_type": "code",
      "execution_count": null,
      "metadata": {
        "colab": {
          "base_uri": "https://localhost:8080/"
        },
        "id": "8vC-oZLD7IEB",
        "outputId": "aed756dd-cae8-4d05-e8e3-07d5661d0387"
      },
      "outputs": [],
      "source": [
        "sir.r0()"
      ]
    },
    {
      "cell_type": "markdown",
      "metadata": {
        "id": "p_kH1C4qCXNe"
      },
      "source": [
        "When $x=\\frac{1}{R_0}$, $\\frac{\\mathrm{d}y}{\\mathrm{d}t}=0$ (the number of infected cases does not change)  \n",
        "because $\\frac{\\mathrm{d}y}{\\mathrm{d}t}=\\rho x y - \\sigma y=\\rho \\times (\\rho \\sigma^{-1})^{-1} \\times y - \\sigma y=0$."
      ]
    },
    {
      "cell_type": "code",
      "execution_count": null,
      "metadata": {
        "colab": {
          "base_uri": "https://localhost:8080/",
          "height": 297
        },
        "id": "fyTApIbd7p7g",
        "outputId": "dbc08e1d-72e1-4174-ddcb-75de7d547cf7"
      },
      "outputs": [],
      "source": [
        "model = deepcopy(sir)\n",
        "df = sir_df.copy()\n",
        "# Calculate R0\n",
        "r0 = model.r0()\n",
        "# Prepare non-dimensional values\n",
        "tau = model.settings()[\"tau\"]\n",
        "df.index = ((df.index - df.index.min()) / np.timedelta64(1440, \"m\")).astype(np.int64)\n",
        "df.index.name = \"t\"\n",
        "population = sum(model.settings()[\"initial_dict\"].values())\n",
        "df[\"x\"] = df[\"Susceptible\"] / population\n",
        "df[\"y\"] = df[\"Infected\"] / population\n",
        "# t for x = 1/R0\n",
        "t0 = np.argmin(np.abs(df[\"x\"] - 1/r0))\n",
        "# y when x = 1/R0\n",
        "y0 = df.loc[t0, \"y\"]\n",
        "# Show x, y for t\n",
        "cs.line_plot(\n",
        "    df[[\"x\", \"y\"]],\n",
        "    title=f\"{model} with R0 = {r0}: x, y for t (vertical line: t when x = 1/R0)\", xlabel=\"t\", math_scale=False, ylabel=None,\n",
        "    h=[1/r0, y0], v=t0,\n",
        "    bbox_to_anchor=None, bbox_loc=\"upper right\", ncol=1,\n",
        ")"
      ]
    },
    {
      "cell_type": "markdown",
      "metadata": {
        "id": "mFO3L3OHG7fY"
      },
      "source": [
        "## 2. SIR-D model\n",
        "Because we are measuring the number of fatal cases and recovered cases separately, we can use two variables (\"Recovered\" and \"Deaths\") instead of \"Recovered + Deaths\" in the mathematical model. We call this model as SIR-D model."
      ]
    },
    {
      "cell_type": "markdown",
      "metadata": {
        "id": "Fl00Bu1qHTSJ"
      },
      "source": [
        "### 2-1. Definition"
      ]
    },
    {
      "cell_type": "markdown",
      "metadata": {
        "id": "G_sAJmGSHC6t"
      },
      "source": [
        "\\begin{align*}\n",
        "\\mathrm{S} \\overset{\\beta  I}{\\longrightarrow}\\ & \\mathrm{I} \\overset{\\gamma}{\\longrightarrow} \\mathrm{R}  \\\\\n",
        "& \\mathrm{I} \\overset{\\alpha}{\\longrightarrow} \\mathrm{D}  \\\\\n",
        "\\end{align*}"
      ]
    },
    {
      "cell_type": "markdown",
      "metadata": {
        "id": "qh743H5dHEQ0"
      },
      "source": [
        "Variables:  \n",
        "\n",
        "* $\\mathrm{S}$: Susceptible (= Population - Confirmed)  \n",
        "* $\\mathrm{I}$: Infected (=Confirmed - Recovered - Fatal)  \n",
        "* $\\mathrm{R}$: Recovered  \n",
        "* $\\mathrm{D}$: Fatal  \n",
        "\n",
        "Parameters:  \n",
        "\n",
        "* $\\alpha$: Mortality rate $\\mathrm{[1/min]}$  \n",
        "* $\\beta$: Effective contact rate $\\mathrm{[1/min]}$  \n",
        "* $\\gamma$: Recovery rate $\\mathrm{[1/min]}$  "
      ]
    },
    {
      "cell_type": "markdown",
      "metadata": {
        "id": "5obERwxKHFzn"
      },
      "source": [
        "### 2-2. Non-dimensional SIR-D model\n",
        "Set $(S, I, R, D) = N \\times (x, y, z, w)$ and $(T, \\alpha, \\beta, \\gamma) = (\\tau t, \\tau^{-1} \\kappa, \\tau^{-1} \\rho, \\tau^{-1} \\sigma)$.  \n",
        "This results in the ODE  \n",
        "\\begin{align*}\n",
        "& \\frac{\\mathrm{d}x}{\\mathrm{d}t}= - \\rho x y  \\\\\n",
        "& \\frac{\\mathrm{d}y}{\\mathrm{d}t}= \\rho x y - (\\sigma + \\kappa) y  \\\\\n",
        "& \\frac{\\mathrm{d}z}{\\mathrm{d}t}= \\sigma y  \\\\\n",
        "& \\frac{\\mathrm{d}w}{\\mathrm{d}t}= \\kappa y  \\\\\n",
        "\\end{align*}"
      ]
    },
    {
      "cell_type": "markdown",
      "metadata": {
        "id": "xKSN5tRNHa2O"
      },
      "source": [
        "### 2-3. Create sample data\n",
        "We use `SIRDModel` class, a child class of `ODEModel`. They have class method `.from_sample(date_range=None, tau=1440)` (as default)."
      ]
    },
    {
      "cell_type": "code",
      "execution_count": null,
      "metadata": {
        "colab": {
          "base_uri": "https://localhost:8080/",
          "height": 53
        },
        "id": "Db_4HO008-QT",
        "outputId": "8e72e1d8-c7dc-482f-bb6d-01fb52b5d685"
      },
      "outputs": [],
      "source": [
        "sird = cs.SIRDModel.from_sample()\n",
        "repr(sird)"
      ]
    },
    {
      "cell_type": "markdown",
      "metadata": {
        "id": "cvFHR04bHysQ"
      },
      "source": [
        "### 2-4. Solve ODEs\n",
        "We can solve the ODEs with `ODEModel().solve()`."
      ]
    },
    {
      "cell_type": "code",
      "execution_count": null,
      "metadata": {
        "colab": {
          "base_uri": "https://localhost:8080/",
          "height": 294
        },
        "id": "1G-T-sYSIDGi",
        "outputId": "f5f92d84-da24-44a1-a5b6-9f27b06edbb0"
      },
      "outputs": [],
      "source": [
        "sird_df = sird.solve()\n",
        "cs.line_plot(sird_df, title=f\"Sample data of {sird}\", y_integer=True)"
      ]
    },
    {
      "cell_type": "markdown",
      "metadata": {
        "id": "fNt3H84pIrJq"
      },
      "source": [
        "### 2-5. Reproduction number\n",
        "Reproduction number of SIR-D model is defined as follows.\n",
        "\n",
        "\\begin{align*}\n",
        "R_0 = \\rho (\\sigma + \\kappa)^{-1} = \\beta (\\gamma + \\alpha)^{-1}\n",
        "\\end{align*}"
      ]
    },
    {
      "cell_type": "code",
      "execution_count": null,
      "metadata": {
        "colab": {
          "base_uri": "https://localhost:8080/"
        },
        "id": "VaS6RLo6ILVF",
        "outputId": "23e77d5c-50e6-4039-95ed-ac258c632c62"
      },
      "outputs": [],
      "source": [
        "sird.r0()"
      ]
    },
    {
      "cell_type": "markdown",
      "metadata": {
        "id": "KdlzUtezI-tw"
      },
      "source": [
        "## 3. SIR-F model\n",
        "In the initial phase of COVID-19 outbreak, many cases were confirmed after they died. To consider this issue, \"S + I $\\to$ Fatal + I\" should be added. We call the next model as SIR-F model. This is an original model of CovsirPhy. When $\\alpha_{1}=0$, no difference with the SIR-D model.\n",
        "\n",
        "SIR-F model was developed with [Kaggle: COVID-19 data with SIR model](https://www.kaggle.com/lisphilar/covid-19-data-with-sir-model#SIR-to-SIR-F)."
      ]
    },
    {
      "cell_type": "markdown",
      "metadata": {
        "id": "YAwj5lV5I-tx"
      },
      "source": [
        "### 3-1. Definition"
      ]
    },
    {
      "cell_type": "markdown",
      "metadata": {
        "id": "rJai5EbGI-tx"
      },
      "source": [
        "\\begin{align*}\n",
        "\\mathrm{S} \\overset{\\beta I}{\\longrightarrow} \\mathrm{S}^\\ast \\overset{\\alpha_1}{\\longrightarrow}\\ & \\mathrm{F}    \\\\\n",
        "\\mathrm{S}^\\ast \\overset{1 - \\alpha_1}{\\longrightarrow}\\ & \\mathrm{I} \\overset{\\gamma}{\\longrightarrow} \\mathrm{R}    \\\\\n",
        "& \\mathrm{I} \\overset{\\alpha_2}{\\longrightarrow} \\mathrm{F}    \\\\\n",
        "\\end{align*}"
      ]
    },
    {
      "cell_type": "markdown",
      "metadata": {
        "id": "SUxDsgnHI-ty"
      },
      "source": [
        "Variables:  \n",
        "\n",
        "* $\\mathrm{S}$: Susceptible (= Population - Confirmed)  \n",
        "* $\\mathrm{S}^\\ast$: Confirmed and un-categorized  \n",
        "* $\\mathrm{I}$: Confirmed and categorized as Infected  \n",
        "* $\\mathrm{R}$: Confirmed and categorized as Recovered  \n",
        "* $\\mathrm{F}$: Confirmed and categorized as Fatal  \n",
        "\n",
        "Parameters:  \n",
        "\n",
        "* $\\alpha_1$: Direct fatality probability of $\\mathrm{S}^\\ast$ (non-dimensional) \n",
        "* $\\alpha_2$: Mortality rate of Infected cases $\\mathrm{[1/min]}$  \n",
        "* $\\beta$: Effective contact rate $\\mathrm{[1/min]}$  \n",
        "* $\\gamma$: Recovery rate $\\mathrm{[1/min]}$  \n"
      ]
    },
    {
      "cell_type": "markdown",
      "metadata": {
        "id": "FoWOwuBvJTh5"
      },
      "source": [
        "Notes on $\\mathrm{S}^\\ast$ variable:  \n",
        "$\\mathrm{S}^\\ast$ describes the cases who are actually carriers of the disease without anyone (including themselves) knowing about it, who either die and they are confirmed positive after death, while some others are moved to infected after being confirmed.\n",
        "\n",
        "In JHU-style dataset, we know the number of cases who were confirmed with COVID-19, but we do not know the number of died cases who died without COVID-19.\n",
        "Essentially $\\mathrm{S}^\\ast$ serves as an auxiliary compartment in SIR-F model to separate the two death situations and insert a probability factor of {$\\alpha_1$, $1 - \\alpha_1$}.  "
      ]
    },
    {
      "cell_type": "markdown",
      "metadata": {
        "id": "9dg_joTTJ2WZ"
      },
      "source": [
        "Note regarding the roles of ODE parameter values:  \n",
        "When $\\rho$ is large, $\\beta$ is large. When $\\beta$ (effective contact rate [1/min]) is large, S -> S* -> I is faster because dS*/dT = $\\beta$ * [S] [I].  \n",
        "When $\\theta$ is large, $\\alpha_1$ is large. When $\\alpha_1$ (direct fatality probability) is large, S -> S* -> F is faster because dF/dT = $\\alpha_1$ * [S*] + $\\alpha_2$ * [I]."
      ]
    },
    {
      "cell_type": "markdown",
      "metadata": {
        "id": "mx6VjJfkJX4-"
      },
      "source": [
        "Notes on the difference of SIR-D and SIR-F model:  \n",
        "$\\alpha_1$ is small at this time because performance of PCR tests was improved, but we can use SIR-F model rather than SIR-D model as an enhanced model even now because $\\alpha_1$ can be 0 in the ODE model."
      ]
    },
    {
      "cell_type": "markdown",
      "metadata": {
        "id": "yf_B4WmVI-ty"
      },
      "source": [
        "### 3-2. Non-dimensional SIR-F model\n",
        "Set $(S, I, R, F) = N \\times (x, y, z, w)$ and $(T, \\alpha_1, \\alpha_2, \\beta, \\gamma) = (\\tau t, \\theta, \\tau^{-1} \\kappa, \\tau^{-1} \\rho, \\tau^{-1} \\sigma)$.  \n",
        "This results in the ODE  \n",
        "\\begin{align*}\n",
        "& \\frac{\\mathrm{d}x}{\\mathrm{d}t}= - \\rho x y  \\\\\n",
        "& \\frac{\\mathrm{d}y}{\\mathrm{d}t}= \\rho (1-\\theta) x y - (\\sigma + \\kappa) y  \\\\\n",
        "& \\frac{\\mathrm{d}z}{\\mathrm{d}t}= \\sigma y  \\\\\n",
        "& \\frac{\\mathrm{d}w}{\\mathrm{d}t}= \\rho \\theta x y + \\kappa y  \\\\\n",
        "\\end{align*}"
      ]
    },
    {
      "cell_type": "markdown",
      "metadata": {
        "id": "wTFKRYwbI-ty"
      },
      "source": [
        "### 3-3. Create sample data\n",
        "We use `SIRFModel` class, a child class of `ODEModel`. They have class method `.from_sample(date_range=None, tau=1440)` (as default)."
      ]
    },
    {
      "cell_type": "code",
      "execution_count": null,
      "metadata": {
        "colab": {
          "base_uri": "https://localhost:8080/",
          "height": 53
        },
        "id": "i7ctasMAI-tz",
        "outputId": "d923c9aa-6702-4fe9-d3e0-71a0f89fa924"
      },
      "outputs": [],
      "source": [
        "sirf = cs.SIRFModel.from_sample()\n",
        "repr(sirf)"
      ]
    },
    {
      "cell_type": "markdown",
      "metadata": {
        "id": "D38Z23HrI-t0"
      },
      "source": [
        "### 3-4. Solve ODEs\n",
        "We can solve the ODEs with `ODEModel().solve()`."
      ]
    },
    {
      "cell_type": "code",
      "execution_count": null,
      "metadata": {
        "colab": {
          "base_uri": "https://localhost:8080/",
          "height": 294
        },
        "id": "QBt-wChGI-t0",
        "outputId": "505c7898-608c-4c28-dda3-d19dcb482ef1"
      },
      "outputs": [],
      "source": [
        "sirf_df = sirf.solve()\n",
        "cs.line_plot(sirf_df, title=f\"Sample data of {sirf}\", y_integer=True)"
      ]
    },
    {
      "cell_type": "markdown",
      "metadata": {
        "id": "Ogjfy9UcI-t0"
      },
      "source": [
        "### 3-5. Reproduction number\n",
        "Reproduction number of SIR-F model is defined as follows.\n",
        "\n",
        "\\begin{align*}\n",
        "R_0 = \\rho (1 - \\theta) (\\sigma + \\kappa)^{-1} = \\beta (1 - \\alpha_1) (\\gamma + \\alpha_2)^{-1}\n",
        "\\end{align*}"
      ]
    },
    {
      "cell_type": "code",
      "execution_count": null,
      "metadata": {
        "colab": {
          "base_uri": "https://localhost:8080/"
        },
        "id": "H1yv5t3LI-t1",
        "outputId": "75f4b9a3-7cce-477c-c018-08029db9238d"
      },
      "outputs": [],
      "source": [
        "sirf.r0()"
      ]
    },
    {
      "cell_type": "markdown",
      "metadata": {
        "id": "FfObxSnJKqyj"
      },
      "source": [
        "## 4. SIR-F with exposed/waiting cases\n",
        "The next model is SEWIR-F model.  \n",
        "The number of exposed cases in latent period (E) and waiting cases for confirmation (W) are un-measurable variables, but key variables as well as S, I, R, F. If E and W are large, outbreak will occur in the near future. Let's replace S$\\overset{\\beta I}{\\longrightarrow}$S$^\\ast$ as follows because W also has infectivity."
      ]
    },
    {
      "cell_type": "markdown",
      "metadata": {
        "id": "T43rPAl7LB0y"
      },
      "source": [
        "Note:  \n",
        "**We cannot use SEWIR-F model for parameter estimation because we do not have records of Exposed and Waiting. Please use SIR-F model.**"
      ]
    },
    {
      "cell_type": "markdown",
      "metadata": {
        "id": "uREwQ4-5KvvX"
      },
      "source": [
        "### 4-1. Definition"
      ]
    },
    {
      "cell_type": "markdown",
      "metadata": {
        "id": "Wr5fbxdeK2pB"
      },
      "source": [
        "\\begin{align*}\n",
        "\\mathrm{S} \\overset{\\beta_1 (W+I)}{\\longrightarrow} \\mathrm{E} \\overset{\\beta_2}{\\longrightarrow} \\mathrm{W} \\overset{\\beta_3}{\\longrightarrow} \\mathrm{S}^\\ast \\overset{\\alpha_1}{\\longrightarrow}\\ & \\mathrm{F}    \\\\\n",
        "\\mathrm{S}^\\ast \\overset{1 - \\alpha_1}{\\longrightarrow}\\ & \\mathrm{I} \\overset{\\gamma}{\\longrightarrow} \\mathrm{R}    \\\\\n",
        "& \\mathrm{I} \\overset{\\alpha_2}{\\longrightarrow} \\mathrm{F}    \\\\\n",
        "\\end{align*}"
      ]
    },
    {
      "cell_type": "markdown",
      "metadata": {
        "id": "eB0QWZ6HK5VH"
      },
      "source": [
        "Variables:  \n",
        "\n",
        "* $\\mathrm{S}$: Susceptible  \n",
        "* $\\mathrm{E}$: <u>Exposed and in latent period (without infectivity)</u>  \n",
        "* $\\mathrm{W}$: <u>Waiting for confirmation diagnosis (with infectivity)</u>  \n",
        "* $\\mathrm{S}^\\ast$: Confirmed and un-categorized  \n",
        "* $\\mathrm{I}$: Confirmed and categorized as Infected  \n",
        "* $\\mathrm{R}$: Confirmed and categorized as Recovered  \n",
        "* $\\mathrm{F}$: Confirmed and categorized as Fatal  \n",
        "\n",
        "Parameters:  \n",
        "\n",
        "* $\\alpha_1$: Direct fatality probability of $\\mathrm{S}^\\ast$ (non-dimensional) \n",
        "* $\\alpha_2$: Mortality rate of Infected cases $\\mathrm{[1/min]}$  \n",
        "* $\\beta_1$: <u>Exposure rate (the number of encounter with the virus in a minute)</u> $\\mathrm{[1/min]}$  \n",
        "* $\\beta_2$: <u>Inverse of latent period</u> $\\mathrm{[1/min]}$  \n",
        "* $\\beta_3$: <u>Inverse of waiting time for confirmation</u> $\\mathrm{[1/min]}$  \n",
        "* $\\gamma$: Recovery rate $\\mathrm{[1/min]}$ "
      ]
    },
    {
      "cell_type": "markdown",
      "metadata": {
        "id": "7TZFVvXfK75s"
      },
      "source": [
        "### 4-2. Non-dimensional SEWIR-F model\n",
        "Set $(S, E, W, I, R, F) = N \\times (x_1, x_2, x_3, y, z, w)$, $(T, \\alpha_1) = (\\tau t, \\theta)$ and $(\\alpha_2, \\beta_i, \\gamma) = \\tau^{-1} \\times (\\kappa, \\rho_i, \\sigma)$.  \n",
        "This results in the ODE  \n",
        "\\begin{align*}\n",
        "& \\frac{\\mathrm{d}x_1}{\\mathrm{d}t}= - \\rho_1 x_1 (x_3 + y)  \\\\\n",
        "& \\frac{\\mathrm{d}x_2}{\\mathrm{d}t}= \\rho_1 x_1 (x_3 + y) - \\rho_2 x_2  \\\\\n",
        "& \\frac{\\mathrm{d}x_3}{\\mathrm{d}t}= \\rho_2 x_2 - \\rho_3 x_3  \\\\\n",
        "& \\frac{\\mathrm{d}y}{\\mathrm{d}t}= (1-\\theta) \\rho_3 x_3 - (\\sigma + \\kappa) y  \\\\\n",
        "& \\frac{\\mathrm{d}z}{\\mathrm{d}t}= \\sigma y  \\\\\n",
        "& \\frac{\\mathrm{d}w}{\\mathrm{d}t}= \\theta \\rho_3 x_3 + \\kappa y  \\\\\n",
        "\\end{align*}"
      ]
    },
    {
      "cell_type": "markdown",
      "metadata": {
        "id": "h1EJK16BLZik"
      },
      "source": [
        "### 4-3. Create sample data\n",
        "We use `SEWIRFModel` class, a child class of `ODEModel`. They have class method `.from_sample(date_range=None, tau=1440)` (as default)."
      ]
    },
    {
      "cell_type": "code",
      "execution_count": null,
      "metadata": {
        "colab": {
          "base_uri": "https://localhost:8080/",
          "height": 53
        },
        "id": "mJdDP5iDLZil",
        "outputId": "e27e9f67-8db8-4abe-85c4-90d88c1f3a13"
      },
      "outputs": [],
      "source": [
        "sewirf = cs.SEWIRFModel.from_sample()\n",
        "repr(sewirf)"
      ]
    },
    {
      "cell_type": "markdown",
      "metadata": {
        "id": "0L5ku-tALZim"
      },
      "source": [
        "### 3-4. Solve ODEs\n",
        "We can solve the ODEs with `ODEModel().solve()`."
      ]
    },
    {
      "cell_type": "code",
      "execution_count": null,
      "metadata": {
        "colab": {
          "base_uri": "https://localhost:8080/",
          "height": 294
        },
        "id": "IM69WKcYLZim",
        "outputId": "5d27d898-76c3-4d61-aa5f-652ce31c0c26"
      },
      "outputs": [],
      "source": [
        "sewirf_df = sewirf.solve()\n",
        "cs.line_plot(sewirf_df, title=f\"Sample data of {sewirf}\", y_integer=True, bbox_to_anchor=(0.5, -0.3), ncol=3)"
      ]
    },
    {
      "cell_type": "markdown",
      "metadata": {
        "id": "m8Log7AULZin"
      },
      "source": [
        "### 4-5. Reproduction number\n",
        "Reproduction number of SEWIR-F model is defined as follows.\n",
        "\n",
        "\\begin{align*}\n",
        "R_0 = \\rho_1 /\\rho_2 * \\rho_3 (1-\\theta) (\\sigma + \\kappa)^{-1}\n",
        "\\end{align*}"
      ]
    },
    {
      "cell_type": "code",
      "execution_count": null,
      "metadata": {
        "colab": {
          "base_uri": "https://localhost:8080/"
        },
        "id": "CfXZHqa7LZin",
        "outputId": "6488e9b1-4d3f-45d9-844a-a66ebcb6c30d"
      },
      "outputs": [],
      "source": [
        "sewirf.r0()"
      ]
    },
    {
      "cell_type": "markdown",
      "metadata": {
        "id": "Ta3Qi8iPMEAf"
      },
      "source": [
        "## 5. SIR-F with vaccination\n",
        "Vaccination is a key factor to prevent outbreak as you know.\n",
        "\n",
        "In the previous version, we defined SIR-FV model with $\\omega$ (vaccination rate) and\n",
        "$$\n",
        "\\frac{\\mathrm{d}S}{\\mathrm{d}T}= - \\beta S I - \\omega N  \\\\\n",
        "$$\n",
        "\n",
        "However, **SIR-FV model was removed because vaccinated persons may move to the other compartments, including \"Susceptible\". Please use SIR-F model for simulation and parameter estimation with adjusted parameter values, considering the impact of vaccinations on infectivity, its effectivity and safety.**"
      ]
    },
    {
      "cell_type": "markdown",
      "metadata": {
        "id": "ZXWVHqE_MI8E"
      },
      "source": [
        "## 6. SIR-F with re-infection\n",
        "Re-infection (Recovered -> Susceptible) is sometimes reported and we can consider SIR-S (SIR-FS) model. However, this is not implemented at this time because we do not have data regarding re-infection. SIR-F model could be the final model in our data-driven approach at this time.  \n",
        "\n",
        "Re-infection changes the parameter values of SIR-F model. There are two patterns.\n",
        "\n",
        "1. If re-infected case are counted as new confirmed cases and removed from \"Recovered\" compartment, $\\sigma$ will be decreased.\n",
        "2. If re-infected cases are counted as new confirmed cases and **NOT** removed from \"Recovered\" compartment, $\\rho$ will be increased because \"Susceptible\" will be decreased."
      ]
    },
    {
      "cell_type": "markdown",
      "metadata": {
        "id": "Q1C86SgIMSIL"
      },
      "source": [
        "Thank you!"
      ]
    }
  ],
  "metadata": {
    "colab": {
      "collapsed_sections": [],
      "include_colab_link": true,
      "name": "03_ode.ipynb",
      "provenance": [],
      "toc_visible": true
    },
    "kernelspec": {
      "display_name": "Python 3.9.8 ('.venv': poetry)",
      "language": "python",
      "name": "python3"
    },
    "language_info": {
      "name": "python",
      "version": "3.10.7"
    },
    "vscode": {
      "interpreter": {
        "hash": "22bb74880181aee4909a67ef083e714bf83db977b91038d43aef8b1870a4f681"
      }
    }
  },
  "nbformat": 4,
  "nbformat_minor": 0
}
