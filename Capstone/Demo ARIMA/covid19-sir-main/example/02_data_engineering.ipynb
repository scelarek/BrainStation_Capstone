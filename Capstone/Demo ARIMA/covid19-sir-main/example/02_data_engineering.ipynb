{
  "cells": [
    {
      "attachments": {},
      "cell_type": "markdown",
      "metadata": {
        "id": "kUpbQk_WOhdK"
      },
      "source": [
        "[![Binder](https://mybinder.org/badge_logo.svg)](https://mybinder.org/v2/gh/lisphilar/covid19-sir/HEAD?labpath=example%2F02_data_engineering.ipynb)"
      ]
    },
    {
      "attachments": {},
      "cell_type": "markdown",
      "metadata": {},
      "source": [
        "# Data engineering\n",
        "With [Data preparation tutorial](https://github.com/lisphilar/covid19-sir/blob/master/example/01_data_preparation.ipynb), we prepared datasets (geospatial time-series data) to analyze.  As the next step of data engineering, we will perform the followings here.\n",
        "\n",
        "1. Data cleaning\n",
        "2. Data transformation\n",
        "3. Arithmetic operations\n",
        "4. EDA at a geospatial layer\n",
        "5. Data subsetting for a location and data complement\n",
        "6. EDA of subset\n",
        "\n",
        "Note that EDA = explanatory data analysis"
      ]
    },
    {
      "cell_type": "code",
      "execution_count": 1,
      "metadata": {
        "colab": {
          "base_uri": "https://localhost:8080/",
          "height": 507
        },
        "id": "j1uZf_TbOHX_",
        "outputId": "b1aa9e32-b054-4566-e201-e87bf7a717fe"
      },
      "outputs": [
        {
          "data": {
            "text/plain": [
              "'3.0.0'"
            ]
          },
          "execution_count": 1,
          "metadata": {},
          "output_type": "execute_result"
        }
      ],
      "source": [
        "from pprint import pprint\n",
        "import covsirphy as cs\n",
        "import numpy as np\n",
        "cs.__version__"
      ]
    },
    {
      "attachments": {},
      "cell_type": "markdown",
      "metadata": {
        "id": "3WbDfMogRp_v"
      },
      "source": [
        "We will use the recommended datasets at country-level data as an example."
      ]
    },
    {
      "cell_type": "code",
      "execution_count": 2,
      "metadata": {
        "colab": {
          "base_uri": "https://localhost:8080/"
        },
        "id": "wiAS8CkKRdCM",
        "outputId": "1d988331-a8bb-475f-a503-34affc86459f"
      },
      "outputs": [
        {
          "name": "stdout",
          "output_type": "stream",
          "text": [
            "<class 'pandas.core.frame.DataFrame'>\n",
            "RangeIndex: 276932 entries, 0 to 276931\n",
            "Data columns (total 27 columns):\n",
            " #   Column                               Non-Null Count   Dtype         \n",
            "---  ------                               --------------   -----         \n",
            " 0   ISO3                                 276932 non-null  category      \n",
            " 1   Province                             276932 non-null  category      \n",
            " 2   City                                 276932 non-null  category      \n",
            " 3   Date                                 276932 non-null  datetime64[ns]\n",
            " 4   Cancel_events                        197480 non-null  Float64       \n",
            " 5   Confirmed                            237858 non-null  Float64       \n",
            " 6   Contact_tracing                      197507 non-null  Float64       \n",
            " 7   Country                              270982 non-null  string        \n",
            " 8   Fatal                                220655 non-null  Float64       \n",
            " 9   Gatherings_restrictions              197480 non-null  Float64       \n",
            " 10  Information_campaigns                197507 non-null  Float64       \n",
            " 11  Internal_movement_restrictions       197506 non-null  Float64       \n",
            " 12  International_movement_restrictions  197513 non-null  Float64       \n",
            " 13  Population                           269820 non-null  Float64       \n",
            " 14  Product                              157957 non-null  string        \n",
            " 15  Recovered                            73195 non-null   Float64       \n",
            " 16  School_closing                       197505 non-null  Float64       \n",
            " 17  Stay_home_restrictions               197474 non-null  Float64       \n",
            " 18  Stringency_index                     197469 non-null  Float64       \n",
            " 19  Testing_policy                       197506 non-null  Float64       \n",
            " 20  Tests                                89772 non-null   Float64       \n",
            " 21  Transport_closing                    197486 non-null  Float64       \n",
            " 22  Vaccinated_full                      55372 non-null   Float64       \n",
            " 23  Vaccinated_once                      58862 non-null   Float64       \n",
            " 24  Vaccinations                         61816 non-null   Float64       \n",
            " 25  Vaccinations_boosters                32919 non-null   Float64       \n",
            " 26  Workplace_closing                    197505 non-null  Float64       \n",
            "dtypes: Float64(21), category(3), datetime64[ns](1), string(2)\n",
            "memory usage: 57.3 MB\n"
          ]
        }
      ],
      "source": [
        "eng = cs.DataEngineer()\n",
        "eng.download(databases=[\"covid19dh\", \"owid\"])\n",
        "eng.all().info()"
      ]
    },
    {
      "attachments": {},
      "cell_type": "markdown",
      "metadata": {
        "id": "ipoi8IyqQcry"
      },
      "source": [
        "## 1. Data cleaning\n",
        "`DataEngineer().clean()` performs the following data cleaning functionalities. By applying a list of strings to `kinds` argument (eg. `kinds=[\"resample\"]`), we can specify the cleaning method(s).\n",
        "\n",
        "\n",
        "* \"convert_date\": Convert dtype of date column to pandas.Timestamp.\n",
        "* \"resample\": Resample records with dates.\n",
        "* \"fillna\": Fill NA values with '-' (layers) and the previous values and 0.\n",
        "\n",
        "For \"convert_date\", keyword arguments of pandas.to_datetime() including \"dayfirst (bool): whether date format is DD/MM or not\" can be used.\n",
        "\n",
        "For \"resample\", `date_range=<tuple of (str or None, str or None) or None>)` can be applied as keyword arguments to set the range."
      ]
    },
    {
      "cell_type": "code",
      "execution_count": 3,
      "metadata": {
        "colab": {
          "base_uri": "https://localhost:8080/"
        },
        "id": "ijYm41OwTPrM",
        "outputId": "d3fdf5e7-a750-4018-c092-2a7193fa9418"
      },
      "outputs": [
        {
          "name": "stdout",
          "output_type": "stream",
          "text": [
            "<class 'pandas.core.frame.DataFrame'>\n",
            "RangeIndex: 277032 entries, 0 to 277031\n",
            "Data columns (total 27 columns):\n",
            " #   Column                               Non-Null Count   Dtype         \n",
            "---  ------                               --------------   -----         \n",
            " 0   ISO3                                 277032 non-null  category      \n",
            " 1   Province                             277032 non-null  category      \n",
            " 2   City                                 277032 non-null  category      \n",
            " 3   Date                                 277032 non-null  datetime64[ns]\n",
            " 4   Cancel_events                        277032 non-null  Float64       \n",
            " 5   Confirmed                            277032 non-null  Float64       \n",
            " 6   Contact_tracing                      277032 non-null  Float64       \n",
            " 7   Country                              277032 non-null  object        \n",
            " 8   Fatal                                277032 non-null  Float64       \n",
            " 9   Gatherings_restrictions              277032 non-null  Float64       \n",
            " 10  Information_campaigns                277032 non-null  Float64       \n",
            " 11  Internal_movement_restrictions       277032 non-null  Float64       \n",
            " 12  International_movement_restrictions  277032 non-null  Float64       \n",
            " 13  Population                           277032 non-null  Float64       \n",
            " 14  Product                              277032 non-null  object        \n",
            " 15  Recovered                            277032 non-null  Float64       \n",
            " 16  School_closing                       277032 non-null  Float64       \n",
            " 17  Stay_home_restrictions               277032 non-null  Float64       \n",
            " 18  Stringency_index                     277032 non-null  Float64       \n",
            " 19  Testing_policy                       277032 non-null  Float64       \n",
            " 20  Tests                                277032 non-null  Float64       \n",
            " 21  Transport_closing                    277032 non-null  Float64       \n",
            " 22  Vaccinated_full                      277032 non-null  Float64       \n",
            " 23  Vaccinated_once                      277032 non-null  Float64       \n",
            " 24  Vaccinations                         277032 non-null  Float64       \n",
            " 25  Vaccinations_boosters                277032 non-null  Float64       \n",
            " 26  Workplace_closing                    277032 non-null  Float64       \n",
            "dtypes: Float64(21), category(3), datetime64[ns](1), object(2)\n",
            "memory usage: 57.3+ MB\n"
          ]
        }
      ],
      "source": [
        "eng.clean()\n",
        "eng.all().info()"
      ]
    },
    {
      "attachments": {},
      "cell_type": "markdown",
      "metadata": {
        "id": "AZHepK1WQhAP"
      },
      "source": [
        "## 2. Data transformation\n",
        "Transform all registered data, calculating the number of susceptible and infected cases. This is required to analyze real data with SIR-derived models.\n",
        "\n",
        "- Susceptible = Population - Confirmed\n",
        "- Infected = Confirmed - Fatal - Recovered"
      ]
    },
    {
      "cell_type": "code",
      "execution_count": 4,
      "metadata": {
        "id": "Ah3PPRmkUTPm"
      },
      "outputs": [],
      "source": [
        "main_variables = [\"Population\", \"Susceptible\", \"Confirmed\", \"Infected\", \"Fatal\", \"Recovered\"]"
      ]
    },
    {
      "cell_type": "code",
      "execution_count": 5,
      "metadata": {
        "colab": {
          "base_uri": "https://localhost:8080/",
          "height": 206
        },
        "id": "mQljdcP3TxNz",
        "outputId": "fad8ba31-56b7-47e0-fee7-b74956b3ea41"
      },
      "outputs": [
        {
          "data": {
            "text/html": [
              "<div>\n",
              "<style scoped>\n",
              "    .dataframe tbody tr th:only-of-type {\n",
              "        vertical-align: middle;\n",
              "    }\n",
              "\n",
              "    .dataframe tbody tr th {\n",
              "        vertical-align: top;\n",
              "    }\n",
              "\n",
              "    .dataframe thead th {\n",
              "        text-align: right;\n",
              "    }\n",
              "</style>\n",
              "<table border=\"1\" class=\"dataframe\">\n",
              "  <thead>\n",
              "    <tr style=\"text-align: right;\">\n",
              "      <th></th>\n",
              "      <th>ISO3</th>\n",
              "      <th>Province</th>\n",
              "      <th>City</th>\n",
              "      <th>Date</th>\n",
              "      <th>Population</th>\n",
              "      <th>Susceptible</th>\n",
              "      <th>Confirmed</th>\n",
              "      <th>Infected</th>\n",
              "      <th>Fatal</th>\n",
              "      <th>Recovered</th>\n",
              "    </tr>\n",
              "  </thead>\n",
              "  <tbody>\n",
              "    <tr>\n",
              "      <th>277027</th>\n",
              "      <td>ZWE</td>\n",
              "      <td>-</td>\n",
              "      <td>-</td>\n",
              "      <td>2023-03-05</td>\n",
              "      <td>14439018.0</td>\n",
              "      <td>14174891.0</td>\n",
              "      <td>264127.0</td>\n",
              "      <td>175465.0</td>\n",
              "      <td>5668.0</td>\n",
              "      <td>82994.0</td>\n",
              "    </tr>\n",
              "    <tr>\n",
              "      <th>277028</th>\n",
              "      <td>ZWE</td>\n",
              "      <td>-</td>\n",
              "      <td>-</td>\n",
              "      <td>2023-03-06</td>\n",
              "      <td>14439018.0</td>\n",
              "      <td>14174891.0</td>\n",
              "      <td>264127.0</td>\n",
              "      <td>175465.0</td>\n",
              "      <td>5668.0</td>\n",
              "      <td>82994.0</td>\n",
              "    </tr>\n",
              "    <tr>\n",
              "      <th>277029</th>\n",
              "      <td>ZWE</td>\n",
              "      <td>-</td>\n",
              "      <td>-</td>\n",
              "      <td>2023-03-07</td>\n",
              "      <td>14439018.0</td>\n",
              "      <td>14174891.0</td>\n",
              "      <td>264127.0</td>\n",
              "      <td>175465.0</td>\n",
              "      <td>5668.0</td>\n",
              "      <td>82994.0</td>\n",
              "    </tr>\n",
              "    <tr>\n",
              "      <th>277030</th>\n",
              "      <td>ZWE</td>\n",
              "      <td>-</td>\n",
              "      <td>-</td>\n",
              "      <td>2023-03-08</td>\n",
              "      <td>14439018.0</td>\n",
              "      <td>14174742.0</td>\n",
              "      <td>264276.0</td>\n",
              "      <td>175611.0</td>\n",
              "      <td>5671.0</td>\n",
              "      <td>82994.0</td>\n",
              "    </tr>\n",
              "    <tr>\n",
              "      <th>277031</th>\n",
              "      <td>ZWE</td>\n",
              "      <td>-</td>\n",
              "      <td>-</td>\n",
              "      <td>2023-03-09</td>\n",
              "      <td>14439018.0</td>\n",
              "      <td>14174742.0</td>\n",
              "      <td>264276.0</td>\n",
              "      <td>175611.0</td>\n",
              "      <td>5671.0</td>\n",
              "      <td>82994.0</td>\n",
              "    </tr>\n",
              "  </tbody>\n",
              "</table>\n",
              "</div>"
            ],
            "text/plain": [
              "       ISO3 Province City       Date  Population  Susceptible  Confirmed  \\\n",
              "277027  ZWE        -    - 2023-03-05  14439018.0   14174891.0   264127.0   \n",
              "277028  ZWE        -    - 2023-03-06  14439018.0   14174891.0   264127.0   \n",
              "277029  ZWE        -    - 2023-03-07  14439018.0   14174891.0   264127.0   \n",
              "277030  ZWE        -    - 2023-03-08  14439018.0   14174742.0   264276.0   \n",
              "277031  ZWE        -    - 2023-03-09  14439018.0   14174742.0   264276.0   \n",
              "\n",
              "        Infected   Fatal  Recovered  \n",
              "277027  175465.0  5668.0    82994.0  \n",
              "277028  175465.0  5668.0    82994.0  \n",
              "277029  175465.0  5668.0    82994.0  \n",
              "277030  175611.0  5671.0    82994.0  \n",
              "277031  175611.0  5671.0    82994.0  "
            ]
          },
          "execution_count": 5,
          "metadata": {},
          "output_type": "execute_result"
        }
      ],
      "source": [
        "eng.transform()\n",
        "eng.all(variables=main_variables).tail()"
      ]
    },
    {
      "attachments": {},
      "cell_type": "markdown",
      "metadata": {
        "id": "M5K_aB8xUvtH"
      },
      "source": [
        "Recalculation of \"Population\" and \"Confirmed\" can be performed with `DataEngineer().inverse_transform()`, if necessary. (No impact with this example data.)"
      ]
    },
    {
      "cell_type": "code",
      "execution_count": 6,
      "metadata": {
        "colab": {
          "base_uri": "https://localhost:8080/",
          "height": 206
        },
        "id": "qYJoz5-tVKFh",
        "outputId": "7f5bf2eb-4e98-454c-bdb1-5ff33aa57dc3"
      },
      "outputs": [
        {
          "data": {
            "text/html": [
              "<div>\n",
              "<style scoped>\n",
              "    .dataframe tbody tr th:only-of-type {\n",
              "        vertical-align: middle;\n",
              "    }\n",
              "\n",
              "    .dataframe tbody tr th {\n",
              "        vertical-align: top;\n",
              "    }\n",
              "\n",
              "    .dataframe thead th {\n",
              "        text-align: right;\n",
              "    }\n",
              "</style>\n",
              "<table border=\"1\" class=\"dataframe\">\n",
              "  <thead>\n",
              "    <tr style=\"text-align: right;\">\n",
              "      <th></th>\n",
              "      <th>ISO3</th>\n",
              "      <th>Province</th>\n",
              "      <th>City</th>\n",
              "      <th>Date</th>\n",
              "      <th>Population</th>\n",
              "      <th>Susceptible</th>\n",
              "      <th>Confirmed</th>\n",
              "      <th>Infected</th>\n",
              "      <th>Fatal</th>\n",
              "      <th>Recovered</th>\n",
              "    </tr>\n",
              "  </thead>\n",
              "  <tbody>\n",
              "    <tr>\n",
              "      <th>277027</th>\n",
              "      <td>ZWE</td>\n",
              "      <td>-</td>\n",
              "      <td>-</td>\n",
              "      <td>2023-03-05</td>\n",
              "      <td>14439018</td>\n",
              "      <td>14174891.0</td>\n",
              "      <td>264127</td>\n",
              "      <td>175465.0</td>\n",
              "      <td>5668.0</td>\n",
              "      <td>82994.0</td>\n",
              "    </tr>\n",
              "    <tr>\n",
              "      <th>277028</th>\n",
              "      <td>ZWE</td>\n",
              "      <td>-</td>\n",
              "      <td>-</td>\n",
              "      <td>2023-03-06</td>\n",
              "      <td>14439018</td>\n",
              "      <td>14174891.0</td>\n",
              "      <td>264127</td>\n",
              "      <td>175465.0</td>\n",
              "      <td>5668.0</td>\n",
              "      <td>82994.0</td>\n",
              "    </tr>\n",
              "    <tr>\n",
              "      <th>277029</th>\n",
              "      <td>ZWE</td>\n",
              "      <td>-</td>\n",
              "      <td>-</td>\n",
              "      <td>2023-03-07</td>\n",
              "      <td>14439018</td>\n",
              "      <td>14174891.0</td>\n",
              "      <td>264127</td>\n",
              "      <td>175465.0</td>\n",
              "      <td>5668.0</td>\n",
              "      <td>82994.0</td>\n",
              "    </tr>\n",
              "    <tr>\n",
              "      <th>277030</th>\n",
              "      <td>ZWE</td>\n",
              "      <td>-</td>\n",
              "      <td>-</td>\n",
              "      <td>2023-03-08</td>\n",
              "      <td>14439018</td>\n",
              "      <td>14174742.0</td>\n",
              "      <td>264276</td>\n",
              "      <td>175611.0</td>\n",
              "      <td>5671.0</td>\n",
              "      <td>82994.0</td>\n",
              "    </tr>\n",
              "    <tr>\n",
              "      <th>277031</th>\n",
              "      <td>ZWE</td>\n",
              "      <td>-</td>\n",
              "      <td>-</td>\n",
              "      <td>2023-03-09</td>\n",
              "      <td>14439018</td>\n",
              "      <td>14174742.0</td>\n",
              "      <td>264276</td>\n",
              "      <td>175611.0</td>\n",
              "      <td>5671.0</td>\n",
              "      <td>82994.0</td>\n",
              "    </tr>\n",
              "  </tbody>\n",
              "</table>\n",
              "</div>"
            ],
            "text/plain": [
              "       ISO3 Province City       Date  Population  Susceptible  Confirmed  \\\n",
              "277027  ZWE        -    - 2023-03-05    14439018   14174891.0     264127   \n",
              "277028  ZWE        -    - 2023-03-06    14439018   14174891.0     264127   \n",
              "277029  ZWE        -    - 2023-03-07    14439018   14174891.0     264127   \n",
              "277030  ZWE        -    - 2023-03-08    14439018   14174742.0     264276   \n",
              "277031  ZWE        -    - 2023-03-09    14439018   14174742.0     264276   \n",
              "\n",
              "        Infected   Fatal  Recovered  \n",
              "277027  175465.0  5668.0    82994.0  \n",
              "277028  175465.0  5668.0    82994.0  \n",
              "277029  175465.0  5668.0    82994.0  \n",
              "277030  175611.0  5671.0    82994.0  \n",
              "277031  175611.0  5671.0    82994.0  "
            ]
          },
          "execution_count": 6,
          "metadata": {},
          "output_type": "execute_result"
        }
      ],
      "source": [
        "eng.inverse_transform()\n",
        "eng.all(variables=main_variables).tail()"
      ]
    },
    {
      "attachments": {},
      "cell_type": "markdown",
      "metadata": {
        "id": "DBQhq6sSVzaD"
      },
      "source": [
        "## 3. Arithmetic operations\n",
        "We can perform arithmetic operations to add new columns.\n",
        "\n",
        "* `.diff(column, suffix=\"_diff\", freq=\"D\")`: Calculate daily new cases with \"f(x>0) = F(x) - F(x-1), x(0) = 0 when F is cumulative numbers\".\n",
        "* `.add(columns, new=None, fill_value=0)`: Calculate element-wise addition with pandas.DataFrame.sum(axis=1), X1 + X2 + X3 +...\n",
        "* `.mul(columns, new=None, fill_value=0)`: Calculate element-wise multiplication with pandas.DataFrame.product(axis=1), X1 * X2 * X3 *...\n",
        "* `.sub(minuend, subtrahend, new=None, fill_value=0)`: Calculate element-wise subtraction with pandas.Series.sub(), minuend - subtrahend.\n",
        "* `.div(columns, new=None, fill_value=0)`: Calculate element-wise floating division with pandas.Series.div(), numerator / denominator.\n",
        "* `.assign(**kwargs))`: Assign a new column with pandas.DataFrame.assign().\n"
      ]
    },
    {
      "cell_type": "code",
      "execution_count": 7,
      "metadata": {
        "colab": {
          "base_uri": "https://localhost:8080/",
          "height": 206
        },
        "id": "qK40wmeuXUw1",
        "outputId": "b8e6bbb6-dc3b-42ab-bf88-a43f08028654"
      },
      "outputs": [
        {
          "data": {
            "text/html": [
              "<div>\n",
              "<style scoped>\n",
              "    .dataframe tbody tr th:only-of-type {\n",
              "        vertical-align: middle;\n",
              "    }\n",
              "\n",
              "    .dataframe tbody tr th {\n",
              "        vertical-align: top;\n",
              "    }\n",
              "\n",
              "    .dataframe thead th {\n",
              "        text-align: right;\n",
              "    }\n",
              "</style>\n",
              "<table border=\"1\" class=\"dataframe\">\n",
              "  <thead>\n",
              "    <tr style=\"text-align: right;\">\n",
              "      <th></th>\n",
              "      <th>ISO3</th>\n",
              "      <th>Province</th>\n",
              "      <th>City</th>\n",
              "      <th>Date</th>\n",
              "      <th>Confirmed</th>\n",
              "      <th>Confirmed_diff</th>\n",
              "    </tr>\n",
              "  </thead>\n",
              "  <tbody>\n",
              "    <tr>\n",
              "      <th>277027</th>\n",
              "      <td>ZWE</td>\n",
              "      <td>-</td>\n",
              "      <td>-</td>\n",
              "      <td>2023-03-05</td>\n",
              "      <td>264127</td>\n",
              "      <td>0</td>\n",
              "    </tr>\n",
              "    <tr>\n",
              "      <th>277028</th>\n",
              "      <td>ZWE</td>\n",
              "      <td>-</td>\n",
              "      <td>-</td>\n",
              "      <td>2023-03-06</td>\n",
              "      <td>264127</td>\n",
              "      <td>0</td>\n",
              "    </tr>\n",
              "    <tr>\n",
              "      <th>277029</th>\n",
              "      <td>ZWE</td>\n",
              "      <td>-</td>\n",
              "      <td>-</td>\n",
              "      <td>2023-03-07</td>\n",
              "      <td>264127</td>\n",
              "      <td>0</td>\n",
              "    </tr>\n",
              "    <tr>\n",
              "      <th>277030</th>\n",
              "      <td>ZWE</td>\n",
              "      <td>-</td>\n",
              "      <td>-</td>\n",
              "      <td>2023-03-08</td>\n",
              "      <td>264276</td>\n",
              "      <td>149</td>\n",
              "    </tr>\n",
              "    <tr>\n",
              "      <th>277031</th>\n",
              "      <td>ZWE</td>\n",
              "      <td>-</td>\n",
              "      <td>-</td>\n",
              "      <td>2023-03-09</td>\n",
              "      <td>264276</td>\n",
              "      <td>0</td>\n",
              "    </tr>\n",
              "  </tbody>\n",
              "</table>\n",
              "</div>"
            ],
            "text/plain": [
              "       ISO3 Province City       Date  Confirmed  Confirmed_diff\n",
              "277027  ZWE        -    - 2023-03-05     264127               0\n",
              "277028  ZWE        -    - 2023-03-06     264127               0\n",
              "277029  ZWE        -    - 2023-03-07     264127               0\n",
              "277030  ZWE        -    - 2023-03-08     264276             149\n",
              "277031  ZWE        -    - 2023-03-09     264276               0"
            ]
          },
          "execution_count": 7,
          "metadata": {},
          "output_type": "execute_result"
        }
      ],
      "source": [
        "# Diff\n",
        "eng.diff(column=\"Confirmed\", suffix=\"_diff\", freq=\"D\")\n",
        "eng.all(variables=[\"Confirmed\", \"Confirmed_diff\"]).tail()"
      ]
    },
    {
      "cell_type": "code",
      "execution_count": 8,
      "metadata": {
        "colab": {
          "base_uri": "https://localhost:8080/",
          "height": 206
        },
        "id": "7lyYpt0ZXjX7",
        "outputId": "4e3b20d3-a6de-442b-e173-379a45601117"
      },
      "outputs": [
        {
          "data": {
            "text/html": [
              "<div>\n",
              "<style scoped>\n",
              "    .dataframe tbody tr th:only-of-type {\n",
              "        vertical-align: middle;\n",
              "    }\n",
              "\n",
              "    .dataframe tbody tr th {\n",
              "        vertical-align: top;\n",
              "    }\n",
              "\n",
              "    .dataframe thead th {\n",
              "        text-align: right;\n",
              "    }\n",
              "</style>\n",
              "<table border=\"1\" class=\"dataframe\">\n",
              "  <thead>\n",
              "    <tr style=\"text-align: right;\">\n",
              "      <th></th>\n",
              "      <th>ISO3</th>\n",
              "      <th>Province</th>\n",
              "      <th>City</th>\n",
              "      <th>Date</th>\n",
              "      <th>Fatal</th>\n",
              "      <th>Recovered</th>\n",
              "      <th>Fatal+Recovered</th>\n",
              "    </tr>\n",
              "  </thead>\n",
              "  <tbody>\n",
              "    <tr>\n",
              "      <th>277027</th>\n",
              "      <td>ZWE</td>\n",
              "      <td>-</td>\n",
              "      <td>-</td>\n",
              "      <td>2023-03-05</td>\n",
              "      <td>5668.0</td>\n",
              "      <td>82994.0</td>\n",
              "      <td>88662</td>\n",
              "    </tr>\n",
              "    <tr>\n",
              "      <th>277028</th>\n",
              "      <td>ZWE</td>\n",
              "      <td>-</td>\n",
              "      <td>-</td>\n",
              "      <td>2023-03-06</td>\n",
              "      <td>5668.0</td>\n",
              "      <td>82994.0</td>\n",
              "      <td>88662</td>\n",
              "    </tr>\n",
              "    <tr>\n",
              "      <th>277029</th>\n",
              "      <td>ZWE</td>\n",
              "      <td>-</td>\n",
              "      <td>-</td>\n",
              "      <td>2023-03-07</td>\n",
              "      <td>5668.0</td>\n",
              "      <td>82994.0</td>\n",
              "      <td>88662</td>\n",
              "    </tr>\n",
              "    <tr>\n",
              "      <th>277030</th>\n",
              "      <td>ZWE</td>\n",
              "      <td>-</td>\n",
              "      <td>-</td>\n",
              "      <td>2023-03-08</td>\n",
              "      <td>5671.0</td>\n",
              "      <td>82994.0</td>\n",
              "      <td>88665</td>\n",
              "    </tr>\n",
              "    <tr>\n",
              "      <th>277031</th>\n",
              "      <td>ZWE</td>\n",
              "      <td>-</td>\n",
              "      <td>-</td>\n",
              "      <td>2023-03-09</td>\n",
              "      <td>5671.0</td>\n",
              "      <td>82994.0</td>\n",
              "      <td>88665</td>\n",
              "    </tr>\n",
              "  </tbody>\n",
              "</table>\n",
              "</div>"
            ],
            "text/plain": [
              "       ISO3 Province City       Date   Fatal  Recovered  Fatal+Recovered\n",
              "277027  ZWE        -    - 2023-03-05  5668.0    82994.0            88662\n",
              "277028  ZWE        -    - 2023-03-06  5668.0    82994.0            88662\n",
              "277029  ZWE        -    - 2023-03-07  5668.0    82994.0            88662\n",
              "277030  ZWE        -    - 2023-03-08  5671.0    82994.0            88665\n",
              "277031  ZWE        -    - 2023-03-09  5671.0    82994.0            88665"
            ]
          },
          "execution_count": 8,
          "metadata": {},
          "output_type": "execute_result"
        }
      ],
      "source": [
        "# Addition\n",
        "eng.add(columns=[\"Fatal\", \"Recovered\"])\n",
        "eng.all(variables=[\"Fatal\", \"Recovered\", \"Fatal+Recovered\"]).tail()"
      ]
    },
    {
      "cell_type": "code",
      "execution_count": 9,
      "metadata": {
        "colab": {
          "base_uri": "https://localhost:8080/",
          "height": 206
        },
        "id": "1mKRoxUVX1zh",
        "outputId": "e3f2eafc-fd0d-4a16-c6f3-235aebc63427"
      },
      "outputs": [
        {
          "data": {
            "text/html": [
              "<div>\n",
              "<style scoped>\n",
              "    .dataframe tbody tr th:only-of-type {\n",
              "        vertical-align: middle;\n",
              "    }\n",
              "\n",
              "    .dataframe tbody tr th {\n",
              "        vertical-align: top;\n",
              "    }\n",
              "\n",
              "    .dataframe thead th {\n",
              "        text-align: right;\n",
              "    }\n",
              "</style>\n",
              "<table border=\"1\" class=\"dataframe\">\n",
              "  <thead>\n",
              "    <tr style=\"text-align: right;\">\n",
              "      <th></th>\n",
              "      <th>ISO3</th>\n",
              "      <th>Province</th>\n",
              "      <th>City</th>\n",
              "      <th>Date</th>\n",
              "      <th>Confirmed</th>\n",
              "      <th>Recovered</th>\n",
              "      <th>Confirmed*Recovered</th>\n",
              "    </tr>\n",
              "  </thead>\n",
              "  <tbody>\n",
              "    <tr>\n",
              "      <th>277027</th>\n",
              "      <td>ZWE</td>\n",
              "      <td>-</td>\n",
              "      <td>-</td>\n",
              "      <td>2023-03-05</td>\n",
              "      <td>264127</td>\n",
              "      <td>82994.0</td>\n",
              "      <td>21920956238.0</td>\n",
              "    </tr>\n",
              "    <tr>\n",
              "      <th>277028</th>\n",
              "      <td>ZWE</td>\n",
              "      <td>-</td>\n",
              "      <td>-</td>\n",
              "      <td>2023-03-06</td>\n",
              "      <td>264127</td>\n",
              "      <td>82994.0</td>\n",
              "      <td>21920956238.0</td>\n",
              "    </tr>\n",
              "    <tr>\n",
              "      <th>277029</th>\n",
              "      <td>ZWE</td>\n",
              "      <td>-</td>\n",
              "      <td>-</td>\n",
              "      <td>2023-03-07</td>\n",
              "      <td>264127</td>\n",
              "      <td>82994.0</td>\n",
              "      <td>21920956238.0</td>\n",
              "    </tr>\n",
              "    <tr>\n",
              "      <th>277030</th>\n",
              "      <td>ZWE</td>\n",
              "      <td>-</td>\n",
              "      <td>-</td>\n",
              "      <td>2023-03-08</td>\n",
              "      <td>264276</td>\n",
              "      <td>82994.0</td>\n",
              "      <td>21933322344.0</td>\n",
              "    </tr>\n",
              "    <tr>\n",
              "      <th>277031</th>\n",
              "      <td>ZWE</td>\n",
              "      <td>-</td>\n",
              "      <td>-</td>\n",
              "      <td>2023-03-09</td>\n",
              "      <td>264276</td>\n",
              "      <td>82994.0</td>\n",
              "      <td>21933322344.0</td>\n",
              "    </tr>\n",
              "  </tbody>\n",
              "</table>\n",
              "</div>"
            ],
            "text/plain": [
              "       ISO3 Province City       Date  Confirmed  Recovered  \\\n",
              "277027  ZWE        -    - 2023-03-05     264127    82994.0   \n",
              "277028  ZWE        -    - 2023-03-06     264127    82994.0   \n",
              "277029  ZWE        -    - 2023-03-07     264127    82994.0   \n",
              "277030  ZWE        -    - 2023-03-08     264276    82994.0   \n",
              "277031  ZWE        -    - 2023-03-09     264276    82994.0   \n",
              "\n",
              "        Confirmed*Recovered  \n",
              "277027        21920956238.0  \n",
              "277028        21920956238.0  \n",
              "277029        21920956238.0  \n",
              "277030        21933322344.0  \n",
              "277031        21933322344.0  "
            ]
          },
          "execution_count": 9,
          "metadata": {},
          "output_type": "execute_result"
        }
      ],
      "source": [
        "# Multiplication\n",
        "eng.mul(columns=[\"Confirmed\", \"Recovered\"])\n",
        "eng.all(variables=[\"Confirmed\", \"Recovered\", \"Confirmed*Recovered\"]).tail()"
      ]
    },
    {
      "cell_type": "code",
      "execution_count": 10,
      "metadata": {
        "colab": {
          "base_uri": "https://localhost:8080/",
          "height": 206
        },
        "id": "5gMi1iFIXB8K",
        "outputId": "0ba84b4a-dbd4-4487-a058-dc484a1dd84c"
      },
      "outputs": [
        {
          "data": {
            "text/html": [
              "<div>\n",
              "<style scoped>\n",
              "    .dataframe tbody tr th:only-of-type {\n",
              "        vertical-align: middle;\n",
              "    }\n",
              "\n",
              "    .dataframe tbody tr th {\n",
              "        vertical-align: top;\n",
              "    }\n",
              "\n",
              "    .dataframe thead th {\n",
              "        text-align: right;\n",
              "    }\n",
              "</style>\n",
              "<table border=\"1\" class=\"dataframe\">\n",
              "  <thead>\n",
              "    <tr style=\"text-align: right;\">\n",
              "      <th></th>\n",
              "      <th>ISO3</th>\n",
              "      <th>Province</th>\n",
              "      <th>City</th>\n",
              "      <th>Date</th>\n",
              "      <th>Tests</th>\n",
              "      <th>Confirmed</th>\n",
              "      <th>Positive_rate_%</th>\n",
              "    </tr>\n",
              "  </thead>\n",
              "  <tbody>\n",
              "    <tr>\n",
              "      <th>277027</th>\n",
              "      <td>ZWE</td>\n",
              "      <td>-</td>\n",
              "      <td>-</td>\n",
              "      <td>2023-03-05</td>\n",
              "      <td>2379907.0</td>\n",
              "      <td>264127</td>\n",
              "      <td>11.098207</td>\n",
              "    </tr>\n",
              "    <tr>\n",
              "      <th>277028</th>\n",
              "      <td>ZWE</td>\n",
              "      <td>-</td>\n",
              "      <td>-</td>\n",
              "      <td>2023-03-06</td>\n",
              "      <td>2379907.0</td>\n",
              "      <td>264127</td>\n",
              "      <td>11.098207</td>\n",
              "    </tr>\n",
              "    <tr>\n",
              "      <th>277029</th>\n",
              "      <td>ZWE</td>\n",
              "      <td>-</td>\n",
              "      <td>-</td>\n",
              "      <td>2023-03-07</td>\n",
              "      <td>2379907.0</td>\n",
              "      <td>264127</td>\n",
              "      <td>11.098207</td>\n",
              "    </tr>\n",
              "    <tr>\n",
              "      <th>277030</th>\n",
              "      <td>ZWE</td>\n",
              "      <td>-</td>\n",
              "      <td>-</td>\n",
              "      <td>2023-03-08</td>\n",
              "      <td>2379907.0</td>\n",
              "      <td>264276</td>\n",
              "      <td>11.104468</td>\n",
              "    </tr>\n",
              "    <tr>\n",
              "      <th>277031</th>\n",
              "      <td>ZWE</td>\n",
              "      <td>-</td>\n",
              "      <td>-</td>\n",
              "      <td>2023-03-09</td>\n",
              "      <td>2379907.0</td>\n",
              "      <td>264276</td>\n",
              "      <td>11.104468</td>\n",
              "    </tr>\n",
              "  </tbody>\n",
              "</table>\n",
              "</div>"
            ],
            "text/plain": [
              "       ISO3 Province City       Date      Tests  Confirmed  Positive_rate_%\n",
              "277027  ZWE        -    - 2023-03-05  2379907.0     264127        11.098207\n",
              "277028  ZWE        -    - 2023-03-06  2379907.0     264127        11.098207\n",
              "277029  ZWE        -    - 2023-03-07  2379907.0     264127        11.098207\n",
              "277030  ZWE        -    - 2023-03-08  2379907.0     264276        11.104468\n",
              "277031  ZWE        -    - 2023-03-09  2379907.0     264276        11.104468"
            ]
          },
          "execution_count": 10,
          "metadata": {},
          "output_type": "execute_result"
        }
      ],
      "source": [
        "# Division\n",
        "eng.div(numerator=\"Confirmed\", denominator=\"Tests\", new=\"Positive_rate\")\n",
        "# Assignment of new a new column\n",
        "eng.assign(**{\"Positive_rate_%\": lambda x: x[\"Positive_rate\"] * 100})\n",
        "eng.all(variables=[\"Tests\", \"Confirmed\", \"Positive_rate_%\"]).tail()"
      ]
    },
    {
      "attachments": {},
      "cell_type": "markdown",
      "metadata": {
        "id": "iIXznltKQiCI"
      },
      "source": [
        "## 4. EDA at a geospatial layer\n",
        "`DataEngineer().layer()` returns the data at the selected layer in the date range.\n",
        "\n",
        "Arguments:\n",
        "\n",
        "* geo (tuple(list[str] or tuple(str) or str) or str or None): location names to specify the layer or None (the top level)\n",
        "* start_date (str or None): start date, like 22Jan2020\n",
        "* end_date (str or None): end date, like 01Feb2020\n",
        "* variables (list[str] or None): list of variables to add or None (all available columns)"
      ]
    },
    {
      "cell_type": "code",
      "execution_count": 11,
      "metadata": {
        "colab": {
          "base_uri": "https://localhost:8080/",
          "height": 300
        },
        "id": "I2MkSuAOZd7L",
        "outputId": "e784e4cd-cbec-4778-c4b7-acae97efc7aa"
      },
      "outputs": [
        {
          "data": {
            "text/html": [
              "<div>\n",
              "<style scoped>\n",
              "    .dataframe tbody tr th:only-of-type {\n",
              "        vertical-align: middle;\n",
              "    }\n",
              "\n",
              "    .dataframe tbody tr th {\n",
              "        vertical-align: top;\n",
              "    }\n",
              "\n",
              "    .dataframe thead th {\n",
              "        text-align: right;\n",
              "    }\n",
              "</style>\n",
              "<table border=\"1\" class=\"dataframe\">\n",
              "  <thead>\n",
              "    <tr style=\"text-align: right;\">\n",
              "      <th></th>\n",
              "      <th>ISO3</th>\n",
              "      <th>Province</th>\n",
              "      <th>City</th>\n",
              "      <th>Date</th>\n",
              "      <th>Cancel_events</th>\n",
              "      <th>Confirmed</th>\n",
              "      <th>Confirmed*Recovered</th>\n",
              "      <th>Confirmed_diff</th>\n",
              "      <th>Contact_tracing</th>\n",
              "      <th>Country</th>\n",
              "      <th>...</th>\n",
              "      <th>Stringency_index</th>\n",
              "      <th>Susceptible</th>\n",
              "      <th>Testing_policy</th>\n",
              "      <th>Tests</th>\n",
              "      <th>Transport_closing</th>\n",
              "      <th>Vaccinated_full</th>\n",
              "      <th>Vaccinated_once</th>\n",
              "      <th>Vaccinations</th>\n",
              "      <th>Vaccinations_boosters</th>\n",
              "      <th>Workplace_closing</th>\n",
              "    </tr>\n",
              "  </thead>\n",
              "  <tbody>\n",
              "    <tr>\n",
              "      <th>260254</th>\n",
              "      <td>USA</td>\n",
              "      <td>-</td>\n",
              "      <td>-</td>\n",
              "      <td>2023-06-17</td>\n",
              "      <td>0.0</td>\n",
              "      <td>103910034</td>\n",
              "      <td>0.0</td>\n",
              "      <td>0</td>\n",
              "      <td>1.0</td>\n",
              "      <td>United States</td>\n",
              "      <td>...</td>\n",
              "      <td>37.04</td>\n",
              "      <td>222777467.0</td>\n",
              "      <td>3.0</td>\n",
              "      <td>912769124.0</td>\n",
              "      <td>0.0</td>\n",
              "      <td>230637348.0</td>\n",
              "      <td>270227181.0</td>\n",
              "      <td>676728782.0</td>\n",
              "      <td>133062763.0</td>\n",
              "      <td>-1.0</td>\n",
              "    </tr>\n",
              "    <tr>\n",
              "      <th>260255</th>\n",
              "      <td>USA</td>\n",
              "      <td>-</td>\n",
              "      <td>-</td>\n",
              "      <td>2023-06-18</td>\n",
              "      <td>0.0</td>\n",
              "      <td>103910034</td>\n",
              "      <td>0.0</td>\n",
              "      <td>0</td>\n",
              "      <td>1.0</td>\n",
              "      <td>United States</td>\n",
              "      <td>...</td>\n",
              "      <td>37.04</td>\n",
              "      <td>222777467.0</td>\n",
              "      <td>3.0</td>\n",
              "      <td>912769124.0</td>\n",
              "      <td>0.0</td>\n",
              "      <td>230637348.0</td>\n",
              "      <td>270227181.0</td>\n",
              "      <td>676728782.0</td>\n",
              "      <td>133062763.0</td>\n",
              "      <td>-1.0</td>\n",
              "    </tr>\n",
              "    <tr>\n",
              "      <th>260256</th>\n",
              "      <td>USA</td>\n",
              "      <td>-</td>\n",
              "      <td>-</td>\n",
              "      <td>2023-06-19</td>\n",
              "      <td>0.0</td>\n",
              "      <td>103910034</td>\n",
              "      <td>0.0</td>\n",
              "      <td>0</td>\n",
              "      <td>1.0</td>\n",
              "      <td>United States</td>\n",
              "      <td>...</td>\n",
              "      <td>37.04</td>\n",
              "      <td>222777467.0</td>\n",
              "      <td>3.0</td>\n",
              "      <td>912769124.0</td>\n",
              "      <td>0.0</td>\n",
              "      <td>230637348.0</td>\n",
              "      <td>270227181.0</td>\n",
              "      <td>676728782.0</td>\n",
              "      <td>133062763.0</td>\n",
              "      <td>-1.0</td>\n",
              "    </tr>\n",
              "    <tr>\n",
              "      <th>260257</th>\n",
              "      <td>USA</td>\n",
              "      <td>-</td>\n",
              "      <td>-</td>\n",
              "      <td>2023-06-20</td>\n",
              "      <td>0.0</td>\n",
              "      <td>103910034</td>\n",
              "      <td>0.0</td>\n",
              "      <td>0</td>\n",
              "      <td>1.0</td>\n",
              "      <td>United States</td>\n",
              "      <td>...</td>\n",
              "      <td>37.04</td>\n",
              "      <td>222777467.0</td>\n",
              "      <td>3.0</td>\n",
              "      <td>912769124.0</td>\n",
              "      <td>0.0</td>\n",
              "      <td>230637348.0</td>\n",
              "      <td>270227181.0</td>\n",
              "      <td>676728782.0</td>\n",
              "      <td>133062763.0</td>\n",
              "      <td>-1.0</td>\n",
              "    </tr>\n",
              "    <tr>\n",
              "      <th>260258</th>\n",
              "      <td>USA</td>\n",
              "      <td>-</td>\n",
              "      <td>-</td>\n",
              "      <td>2023-06-21</td>\n",
              "      <td>0.0</td>\n",
              "      <td>103910034</td>\n",
              "      <td>0.0</td>\n",
              "      <td>0</td>\n",
              "      <td>1.0</td>\n",
              "      <td>United States</td>\n",
              "      <td>...</td>\n",
              "      <td>37.04</td>\n",
              "      <td>222777467.0</td>\n",
              "      <td>3.0</td>\n",
              "      <td>912769124.0</td>\n",
              "      <td>0.0</td>\n",
              "      <td>230637348.0</td>\n",
              "      <td>270227181.0</td>\n",
              "      <td>676728782.0</td>\n",
              "      <td>133062763.0</td>\n",
              "      <td>-1.0</td>\n",
              "    </tr>\n",
              "  </tbody>\n",
              "</table>\n",
              "<p>5 rows × 34 columns</p>\n",
              "</div>"
            ],
            "text/plain": [
              "       ISO3 Province City       Date  Cancel_events  Confirmed  \\\n",
              "260254  USA        -    - 2023-06-17            0.0  103910034   \n",
              "260255  USA        -    - 2023-06-18            0.0  103910034   \n",
              "260256  USA        -    - 2023-06-19            0.0  103910034   \n",
              "260257  USA        -    - 2023-06-20            0.0  103910034   \n",
              "260258  USA        -    - 2023-06-21            0.0  103910034   \n",
              "\n",
              "        Confirmed*Recovered  Confirmed_diff  Contact_tracing        Country  \\\n",
              "260254                  0.0               0              1.0  United States   \n",
              "260255                  0.0               0              1.0  United States   \n",
              "260256                  0.0               0              1.0  United States   \n",
              "260257                  0.0               0              1.0  United States   \n",
              "260258                  0.0               0              1.0  United States   \n",
              "\n",
              "        ...  Stringency_index  Susceptible  Testing_policy        Tests  \\\n",
              "260254  ...             37.04  222777467.0             3.0  912769124.0   \n",
              "260255  ...             37.04  222777467.0             3.0  912769124.0   \n",
              "260256  ...             37.04  222777467.0             3.0  912769124.0   \n",
              "260257  ...             37.04  222777467.0             3.0  912769124.0   \n",
              "260258  ...             37.04  222777467.0             3.0  912769124.0   \n",
              "\n",
              "        Transport_closing  Vaccinated_full  Vaccinated_once  Vaccinations  \\\n",
              "260254                0.0      230637348.0      270227181.0   676728782.0   \n",
              "260255                0.0      230637348.0      270227181.0   676728782.0   \n",
              "260256                0.0      230637348.0      270227181.0   676728782.0   \n",
              "260257                0.0      230637348.0      270227181.0   676728782.0   \n",
              "260258                0.0      230637348.0      270227181.0   676728782.0   \n",
              "\n",
              "        Vaccinations_boosters  Workplace_closing  \n",
              "260254            133062763.0               -1.0  \n",
              "260255            133062763.0               -1.0  \n",
              "260256            133062763.0               -1.0  \n",
              "260257            133062763.0               -1.0  \n",
              "260258            133062763.0               -1.0  \n",
              "\n",
              "[5 rows x 34 columns]"
            ]
          },
          "execution_count": 11,
          "metadata": {},
          "output_type": "execute_result"
        }
      ],
      "source": [
        "eng.layer().query(\"ISO3 == 'USA'\").tail()"
      ]
    },
    {
      "attachments": {},
      "cell_type": "markdown",
      "metadata": {
        "id": "vBEavSL6Z9uX"
      },
      "source": [
        "This dataset has only country-level data and `geo` should be country name. We can select the followings as `geo` argument for EDA at a geospatial layer when we have adequate data.\n",
        "\n",
        "* When `geo=None` or `geo=(None,)`, returns country-level data, assuming we have country/province/city as layers here.\n",
        "* When `geo=(\"Japan\",)` or `geo=\"Japan\"`, returns province-level data in Japan.\n",
        "* When `geo=([\"Japan\", \"UK\"],)`, returns province-level data in Japan and UK.\n",
        "* When `geo=(\"Japan\", \"Kanagawa\")`, returns city-level data in Kanagawa/Japan.\n",
        "* When `geo=(\"Japan\", [\"Tokyo\", \"Kanagawa\"])`, returns city-level data in Tokyo/Japan and Kanagawa/Japan."
      ]
    },
    {
      "attachments": {},
      "cell_type": "markdown",
      "metadata": {
        "id": "-JB4eLvta5Hy"
      },
      "source": [
        "Additionally, we can create a choropleth map with a data at a geospatial layer on a date.\n",
        "\n",
        "arguments of `DataEngineer().choropleth()`:\n",
        "\n",
        "* geo (tuple(list[str] or tuple(str) or str) or str or None): location names to specify the layer or None (the top level)\n",
        "* variable (str): variable name to show\n",
        "* on (str or None): the date, like 22Jan2020, or None (the last date of each location)\n",
        "* title (str): title of the map\n",
        "* filename (str or None): filename to save the figure or None (display)\n",
        "* logscale (bool): whether convert the value to log10 scale values or not\n",
        "* directory (str): directory to save GeoJSON file of \"Natural Earth\" GitHub repository\n",
        "* natural_earth (str or None): title of GeoJSON file (without extension) of \"Natural Earth\" GitHub repository or None (automatically determined)\n",
        "* **kwargs: keyword arguments of the following classes and methods.\n",
        "    * matplotlib.pyplot.savefig(), matplotlib.pyplot.legend(), and\n",
        "    * pandas.DataFrame.plot()"
      ]
    },
    {
      "cell_type": "code",
      "execution_count": 12,
      "metadata": {
        "colab": {
          "base_uri": "https://localhost:8080/",
          "height": 264
        },
        "id": "V1K8EXyDayT9",
        "outputId": "c2cc0d77-70e4-4f7a-d32e-24bb6b1b4a11"
      },
      "outputs": [],
      "source": [
        "# eng.choropleth(geo=None, variable=\"Confirmed\", title=\"Choropleth map: Confirmed on the last date of records\", filename=None)"
      ]
    },
    {
      "attachments": {},
      "cell_type": "markdown",
      "metadata": {
        "id": "1I6lrlFEX5ck"
      },
      "source": [
        "## 5. Data subsetting for a location and data complement\n",
        "The dataset is a geospatial time-series data. By selecting a location, the dataset will be converted to a time-series data, which is easier to analyze."
      ]
    },
    {
      "attachments": {},
      "cell_type": "markdown",
      "metadata": {
        "id": "WaTFw2EtQiFJ"
      },
      "source": [
        "### 5.1 Subsetting\n",
        "We will create a subset for selected location (eg. country, province/prefecture/state, city). Because the loaded dataset has country-level data, total values in United Kingdom (UK) on dates will be created here as an example.\n",
        "\n",
        "Arguments of `DataEngineer().subset()`:\n",
        "\n",
        "* geo (tuple(list[str] or tuple(str) or str) or str or None): location names to filter or None (total at the top level)\n",
        "* start_date (str or None): start date, like 22Jan2020\n",
        "* end_date (str or None): end date, like 01Feb2020\n",
        "* variables (list[str] or None): list of variables to add or None (all available columns)\n",
        "* complement (bool): whether perform data complement or not, True as default\n",
        "* get_dummies (bool): whether convert categorical variable into dummy variables or not, True as default\n",
        "* **Kwargs: keyword arguments for complement and default values\n",
        "    * recovery_period (int): expected value of recovery period [days], 17\n",
        "    * interval (int): expected update interval of the number of recovered cases [days], 2\n",
        "    * max_ignored (int): Max number of recovered cases to be ignored [cases], 100\n",
        "    * max_ending_unupdated (int): Max number of days to apply full complement, where max recovered cases are not updated [days], 14\n",
        "    * upper_limit_days (int): maximum number of valid partial recovery periods [days], 90\n",
        "    * lower_limit_days (int): minimum number of valid partial recovery periods [days], 7\n",
        "    * upper_percentage (float): fraction of partial recovery periods with value greater than upper_limit_days, 0.5\n",
        "    * lower_percentage (float): fraction of partial recovery periods with value less than lower_limit_days, 0.5"
      ]
    },
    {
      "attachments": {},
      "cell_type": "markdown",
      "metadata": {
        "id": "ZabXVUsySIPU"
      },
      "source": [
        "NOTE:  \n",
        "We can select the followings as `geo` argument for subsetting when we have adequate data.\n",
        "\n",
        "* When `geo=None` or `geo=(None,)`, returns global scale records (total values of all country-level data), assuming we have country/province/city as layers here.\n",
        "* When `geo=(\"Japan\",)` or `geo=\"Japan\"`, returns country-level data in Japan.\n",
        "* When `geo=([\"Japan\", \"UK\"],)`, returns country-level data of Japan and UK.\n",
        "* When `geo=(\"Japan\", \"Tokyo\")`, returns province-level data of Tokyo/Japan.\n",
        "* When `geo=(\"Japan\", [\"Tokyo\", \"Kanagawa\"])`, returns total values of province-level data of Tokyo/Japan and Kanagawa/Japan.\n",
        "* When `geo=(\"Japan\", \"Kanagawa\", \"Yokohama\")`, returns city-level data of Yokohama/Kanagawa/Japan.\n",
        "* When `geo=((\"Japan\", \"Kanagawa\", [\"Yokohama\", \"Kawasaki\"])`, returns total values of city-level data of Yokohama/Kanagawa/Japan and Kawasaki/Kanagawa/Japan."
      ]
    },
    {
      "cell_type": "code",
      "execution_count": 13,
      "metadata": {
        "colab": {
          "base_uri": "https://localhost:8080/",
          "height": 349
        },
        "id": "iENpcOUYTd0G",
        "outputId": "ac7c0655-f0c2-45d6-a51f-19394fbde40b"
      },
      "outputs": [
        {
          "name": "stdout",
          "output_type": "stream",
          "text": [
            "\n",
            "\n",
            "{}\n"
          ]
        },
        {
          "data": {
            "image/png": "[encoded data removed]",
            "text/plain": [
              "<Figure size 900x600 with 1 Axes>"
            ]
          },
          "metadata": {},
          "output_type": "display_data"
        }
      ],
      "source": [
        "# Without complement\n",
        "without_df, status, status_dict = eng.subset(geo=\"UK\", complement=False)\n",
        "print(f\"{status}\\n\")\n",
        "pprint(status_dict)\n",
        "cs.line_plot(without_df[[\"Confirmed\", \"Fatal\", \"Recovered\"]], title=\"UK: records WITHOUT complement\")"
      ]
    },
    {
      "cell_type": "code",
      "execution_count": 28,
      "metadata": {
        "colab": {
          "base_uri": "https://localhost:8080/",
          "height": 453
        },
        "id": "9l4AWOqcQnEH",
        "outputId": "203f6a36-a54c-45c0-f4cc-5e5089be3f31"
      },
      "outputs": [
        {
          "name": "stdout",
          "output_type": "stream",
          "text": [
            "monotonic increasing complemented confirmed data and \n",
            "monotonic increasing complemented fatal data and \n",
            "fully complemented recovered data\n",
            "\n",
            "{'Full_recovered': True,\n",
            " 'Monotonic_confirmed': True,\n",
            " 'Monotonic_fatal': False,\n",
            " 'Monotonic_recovered': True,\n",
            " 'Partial_recovered': True}\n"
          ]
        },
        {
          "data": {
            "image/png": "[encoded data removed]",
            "text/plain": [
              "<Figure size 900x600 with 1 Axes>"
            ]
          },
          "metadata": {},
          "output_type": "display_data"
        }
      ],
      "source": [
        "# With complement (default)\n",
        "with_df, status, status_dict = eng.subset(geo=\"UK\", complement=True)\n",
        "print(f\"{status}\\n\")\n",
        "pprint(status_dict)\n",
        "cs.line_plot(with_df[[\"Confirmed\", \"Fatal\", \"Recovered\"]], title=\"UK: records WITH complement\")"
      ]
    },
    {
      "cell_type": "code",
      "execution_count": 15,
      "metadata": {},
      "outputs": [
        {
          "name": "stdout",
          "output_type": "stream",
          "text": [
            "<class 'pandas.core.frame.DataFrame'>\n",
            "DatetimeIndex: 1189 entries, 2020-02-05 to 2023-05-08\n",
            "Data columns (total 32 columns):\n",
            " #   Column                                                         Non-Null Count  Dtype  \n",
            "---  ------                                                         --------------  -----  \n",
            " 0   Cancel_events                                                  1189 non-null   Float64\n",
            " 1   Confirmed*Recovered                                            1189 non-null   Float64\n",
            " 2   Confirmed_diff                                                 1189 non-null   Int64  \n",
            " 3   Contact_tracing                                                1189 non-null   Float64\n",
            " 4   Fatal+Recovered                                                1189 non-null   Int64  \n",
            " 5   Gatherings_restrictions                                        1189 non-null   Float64\n",
            " 6   Infected                                                       1189 non-null   Int64  \n",
            " 7   Information_campaigns                                          1189 non-null   Float64\n",
            " 8   Internal_movement_restrictions                                 1189 non-null   Float64\n",
            " 9   International_movement_restrictions                            1189 non-null   Float64\n",
            " 10  Population                                                     1189 non-null   Int64  \n",
            " 11  Positive_rate                                                  1189 non-null   Float64\n",
            " 12  Positive_rate_%                                                1189 non-null   Float64\n",
            " 13  School_closing                                                 1189 non-null   Float64\n",
            " 14  Stay_home_restrictions                                         1189 non-null   Float64\n",
            " 15  Stringency_index                                               1189 non-null   Float64\n",
            " 16  Susceptible                                                    1189 non-null   Int64  \n",
            " 17  Testing_policy                                                 1189 non-null   Float64\n",
            " 18  Tests                                                          1189 non-null   Float64\n",
            " 19  Transport_closing                                              1189 non-null   Float64\n",
            " 20  Vaccinated_full                                                1189 non-null   Float64\n",
            " 21  Vaccinated_once                                                1189 non-null   Float64\n",
            " 22  Vaccinations                                                   1189 non-null   Float64\n",
            " 23  Vaccinations_boosters                                          1189 non-null   Float64\n",
            " 24  Workplace_closing                                              1189 non-null   Float64\n",
            " 25  Confirmed                                                      1189 non-null   Int64  \n",
            " 26  Fatal                                                          1189 non-null   Int64  \n",
            " 27  Recovered                                                      1189 non-null   Int64  \n",
            " 28  Country_0                                                      1189 non-null   Int64  \n",
            " 29  Country_Japan                                                  1189 non-null   Int64  \n",
            " 30  Product_0                                                      1189 non-null   Int64  \n",
            " 31  Product_Moderna, Novavax, Oxford/AstraZeneca, Pfizer/BioNTech  1189 non-null   Int64  \n",
            "dtypes: Float64(20), Int64(12)\n",
            "memory usage: 343.7 KB\n"
          ]
        }
      ],
      "source": [
        "with_df.info()"
      ]
    },
    {
      "attachments": {},
      "cell_type": "markdown",
      "metadata": {
        "id": "pBc-JlShXyOu"
      },
      "source": [
        "### 5.2 Details of data complement\n",
        "When `complement=True` (default), data complement will be performed for confirmed/fatal/recovered data. This may be required for analysis because reported cumulative values sometimes show decreasing by changing accidentally for an example. Additionally, some countries, including UK, do not report the number of recovered cases.\n",
        "\n",
        "The possible kinds of complement for each country are the following:\n",
        "\n",
        "* \"Monotonic_confirmed/fatal/recovered\" (monotonic increasing complement) Force the variable show monotonic increasing.\n",
        "* \"Full_recovered\" (full complement of recovered data) Estimate the number of recovered cases using the value of estimated average recovery period.\n",
        "* \"Partial_recovered\" (partial complement of recovered data) When recovered values are not updated for some days, extrapolate the values."
      ]
    },
    {
      "attachments": {},
      "cell_type": "markdown",
      "metadata": {
        "id": "3jTq-GXnVpJP"
      },
      "source": [
        "### 5.3 Recovery period\n",
        "What is \"recovery period\"?  \n",
        "We defined \"recovery period\" as the time period between case confirmation and recovery (as it is subjectively defined per country). We can estimate the mode value of recovery period with class method `DataEngineer.recovery_period(data)`."
      ]
    },
    {
      "cell_type": "code",
      "execution_count": 16,
      "metadata": {
        "colab": {
          "base_uri": "https://localhost:8080/"
        },
        "id": "61jqclzxWCxU",
        "outputId": "630014d9-0b96-4df0-b04f-467c222c1dac"
      },
      "outputs": [
        {
          "name": "stdout",
          "output_type": "stream",
          "text": [
            "Mode value of recovery period in Japan: 10 [days]\n"
          ]
        }
      ],
      "source": [
        "jpn_df, *_ = eng.subset(geo=\"Japan\", variables=[\"Confirmed\", \"Fatal\", \"Recovered\"], complement=False)\n",
        "recovery_period = cs.DataEngineer.recovery_period(data=jpn_df)\n",
        "print(f\"Mode value of recovery period in Japan: {recovery_period} [days]\")"
      ]
    },
    {
      "attachments": {},
      "cell_type": "markdown",
      "metadata": {
        "id": "x4Sym5mFXnS7"
      },
      "source": [
        "Details of recovery period calculation:"
      ]
    },
    {
      "cell_type": "code",
      "execution_count": 17,
      "metadata": {
        "colab": {
          "base_uri": "https://localhost:8080/",
          "height": 278
        },
        "id": "CS84PGfbXusE",
        "outputId": "e2211a66-3c1e-4b49-bbda-2673a46e4dd6"
      },
      "outputs": [
        {
          "data": {
            "image/png": "[encoded data removed]",
            "text/plain": [
              "<Figure size 900x600 with 1 Axes>"
            ]
          },
          "metadata": {},
          "output_type": "display_data"
        }
      ],
      "source": [
        "df = jpn_df.resample(\"D\").sum()\n",
        "df[\"diff\"] = df[\"Confirmed\"] - df[\"Fatal\"]\n",
        "df = df.loc[:, [\"diff\", \"Recovered\"]].unstack().reset_index()\n",
        "df.columns = [\"Variable\", \"Date\", \"Number\"]\n",
        "df[\"Days\"] = (df[\"Date\"] - df[\"Date\"].min()).dt.days\n",
        "df = df.pivot_table(values=\"Days\", index=\"Number\", columns=\"Variable\")\n",
        "df = df.interpolate(limit_area=\"inside\").dropna().astype(np.int64)\n",
        "df[\"Elapsed\"] = df[\"Recovered\"] - df[\"diff\"]\n",
        "df = df.loc[df[\"Elapsed\"] > 0]\n",
        "# Calculate mode value\n",
        "mode_value = round(df[\"Elapsed\"].mode().mean())\n",
        "df[\"Elapsed\"].plot.hist(title=f\"Histogram of elapsed days of recovery, mode value: {mode_value} days\");"
      ]
    },
    {
      "attachments": {},
      "cell_type": "markdown",
      "metadata": {
        "id": "TYLSYjYZaA5m"
      },
      "source": [
        "### 5.4 Alias of subsets\n",
        "We can register alias names of subsets with `DataEngineer().subset_alias()`.\n",
        "\n",
        "Arguments:  \n",
        "* alias (str or None): alias name or None (list-up alias names)\n",
        "* update (bool): force updating the alias when @alias is not None\n",
        "* **kwargs: keyword arguments of covsirphy.DataEngineer().subset()"
      ]
    },
    {
      "cell_type": "code",
      "execution_count": 18,
      "metadata": {
        "colab": {
          "base_uri": "https://localhost:8080/"
        },
        "id": "9LNOkwRKaQm3",
        "outputId": "63ca258b-39d4-4872-933b-f0a926794188"
      },
      "outputs": [
        {
          "data": {
            "text/plain": [
              "True"
            ]
          },
          "execution_count": 18,
          "metadata": {},
          "output_type": "execute_result"
        }
      ],
      "source": [
        "# Register\n",
        "sub1, *_ = eng.subset_alias(alias=\"UK_with\", geo=\"UK\", complement=True)\n",
        "# Retrieve with alias\n",
        "sub2, *_ = eng.subset_alias(alias=\"UK_with\")\n",
        "# Comparison\n",
        "sub1.equals(sub2)"
      ]
    },
    {
      "attachments": {},
      "cell_type": "markdown",
      "metadata": {
        "id": "5tubFNqgRObT"
      },
      "source": [
        "## 7. EDA of subset\n",
        "With explanatory data analysis, we will get the figure of datasets."
      ]
    },
    {
      "attachments": {},
      "cell_type": "markdown",
      "metadata": {
        "id": "Fby-jSMtb7KY"
      },
      "source": [
        "### 7.1 Alias of variables\n",
        "We can specify variables with alias. For example, \"CIFR\" is equivalent to list `['Confirmed', 'Infected', 'Recovered', 'Fatal']`."
      ]
    },
    {
      "cell_type": "code",
      "execution_count": 19,
      "metadata": {
        "colab": {
          "base_uri": "https://localhost:8080/",
          "height": 238
        },
        "id": "mtRJ2D0sclri",
        "outputId": "bde935ee-06be-4fa0-a9f9-9cfb8bce4066"
      },
      "outputs": [
        {
          "data": {
            "text/html": [
              "<div>\n",
              "<style scoped>\n",
              "    .dataframe tbody tr th:only-of-type {\n",
              "        vertical-align: middle;\n",
              "    }\n",
              "\n",
              "    .dataframe tbody tr th {\n",
              "        vertical-align: top;\n",
              "    }\n",
              "\n",
              "    .dataframe thead th {\n",
              "        text-align: right;\n",
              "    }\n",
              "</style>\n",
              "<table border=\"1\" class=\"dataframe\">\n",
              "  <thead>\n",
              "    <tr style=\"text-align: right;\">\n",
              "      <th></th>\n",
              "      <th>Confirmed</th>\n",
              "      <th>Infected</th>\n",
              "      <th>Recovered</th>\n",
              "      <th>Fatal</th>\n",
              "    </tr>\n",
              "    <tr>\n",
              "      <th>Date</th>\n",
              "      <th></th>\n",
              "      <th></th>\n",
              "      <th></th>\n",
              "      <th></th>\n",
              "    </tr>\n",
              "  </thead>\n",
              "  <tbody>\n",
              "    <tr>\n",
              "      <th>2023-05-04</th>\n",
              "      <td>33766957</td>\n",
              "      <td>183112</td>\n",
              "      <td>33509231</td>\n",
              "      <td>74614</td>\n",
              "    </tr>\n",
              "    <tr>\n",
              "      <th>2023-05-05</th>\n",
              "      <td>33772764</td>\n",
              "      <td>177308</td>\n",
              "      <td>33520823</td>\n",
              "      <td>74633</td>\n",
              "    </tr>\n",
              "    <tr>\n",
              "      <th>2023-05-06</th>\n",
              "      <td>33778993</td>\n",
              "      <td>171454</td>\n",
              "      <td>33532894</td>\n",
              "      <td>74645</td>\n",
              "    </tr>\n",
              "    <tr>\n",
              "      <th>2023-05-07</th>\n",
              "      <td>33793429</td>\n",
              "      <td>175366</td>\n",
              "      <td>33543409</td>\n",
              "      <td>74654</td>\n",
              "    </tr>\n",
              "    <tr>\n",
              "      <th>2023-05-08</th>\n",
              "      <td>33802739</td>\n",
              "      <td>174660</td>\n",
              "      <td>33553410</td>\n",
              "      <td>74669</td>\n",
              "    </tr>\n",
              "  </tbody>\n",
              "</table>\n",
              "</div>"
            ],
            "text/plain": [
              "            Confirmed  Infected  Recovered  Fatal\n",
              "Date                                             \n",
              "2023-05-04   33766957    183112   33509231  74614\n",
              "2023-05-05   33772764    177308   33520823  74633\n",
              "2023-05-06   33778993    171454   33532894  74645\n",
              "2023-05-07   33793429    175366   33543409  74654\n",
              "2023-05-08   33802739    174660   33553410  74669"
            ]
          },
          "execution_count": 19,
          "metadata": {},
          "output_type": "execute_result"
        }
      ],
      "source": [
        "eng.subset(geo=\"Japan\", variables=\"CIRF\")[0].tail()"
      ]
    },
    {
      "attachments": {},
      "cell_type": "markdown",
      "metadata": {
        "id": "f8vRCthxczbK"
      },
      "source": [
        "All aliases can be checked with `DataEngineer().variables_alias()`."
      ]
    },
    {
      "cell_type": "code",
      "execution_count": 20,
      "metadata": {
        "colab": {
          "base_uri": "https://localhost:8080/"
        },
        "id": "5SjIOtZPRSUf",
        "outputId": "4d363305-b26f-4280-f558-1c27380fb9e9"
      },
      "outputs": [
        {
          "data": {
            "text/plain": [
              "{'N': ['Population'],\n",
              " 'S': ['Susceptible'],\n",
              " 'T': ['Tests'],\n",
              " 'C': ['Confirmed'],\n",
              " 'I': ['Infected'],\n",
              " 'F': ['Fatal'],\n",
              " 'R': ['Recovered'],\n",
              " 'CFR': ['Confirmed', 'Fatal', 'Recovered'],\n",
              " 'CIRF': ['Confirmed', 'Infected', 'Recovered', 'Fatal'],\n",
              " 'SIRF': ['Susceptible', 'Infected', 'Recovered', 'Fatal'],\n",
              " 'CR': ['Confirmed', 'Recovered']}"
            ]
          },
          "execution_count": 20,
          "metadata": {},
          "output_type": "execute_result"
        }
      ],
      "source": [
        "eng.variables_alias()"
      ]
    },
    {
      "attachments": {},
      "cell_type": "markdown",
      "metadata": {
        "id": "r4sftrXic-5M"
      },
      "source": [
        "We can register new alias \"p\" with `[\"Tests\", \"Confirmed\", \"Positive_rate_%\"]` as an example."
      ]
    },
    {
      "cell_type": "code",
      "execution_count": 21,
      "metadata": {
        "colab": {
          "base_uri": "https://localhost:8080/",
          "height": 238
        },
        "id": "dyqvSZPIcFv4",
        "outputId": "74bf0aa0-a663-49ba-e1c1-0698d339522e"
      },
      "outputs": [
        {
          "data": {
            "text/html": [
              "<div>\n",
              "<style scoped>\n",
              "    .dataframe tbody tr th:only-of-type {\n",
              "        vertical-align: middle;\n",
              "    }\n",
              "\n",
              "    .dataframe tbody tr th {\n",
              "        vertical-align: top;\n",
              "    }\n",
              "\n",
              "    .dataframe thead th {\n",
              "        text-align: right;\n",
              "    }\n",
              "</style>\n",
              "<table border=\"1\" class=\"dataframe\">\n",
              "  <thead>\n",
              "    <tr style=\"text-align: right;\">\n",
              "      <th></th>\n",
              "      <th>Tests</th>\n",
              "      <th>Confirmed</th>\n",
              "      <th>Positive_rate_%</th>\n",
              "    </tr>\n",
              "    <tr>\n",
              "      <th>Date</th>\n",
              "      <th></th>\n",
              "      <th></th>\n",
              "      <th></th>\n",
              "    </tr>\n",
              "  </thead>\n",
              "  <tbody>\n",
              "    <tr>\n",
              "      <th>2023-05-04</th>\n",
              "      <td>73655626.0</td>\n",
              "      <td>33766957</td>\n",
              "      <td>45.844369</td>\n",
              "    </tr>\n",
              "    <tr>\n",
              "      <th>2023-05-05</th>\n",
              "      <td>73655626.0</td>\n",
              "      <td>33772764</td>\n",
              "      <td>45.852253</td>\n",
              "    </tr>\n",
              "    <tr>\n",
              "      <th>2023-05-06</th>\n",
              "      <td>73655626.0</td>\n",
              "      <td>33778993</td>\n",
              "      <td>45.86071</td>\n",
              "    </tr>\n",
              "    <tr>\n",
              "      <th>2023-05-07</th>\n",
              "      <td>73655626.0</td>\n",
              "      <td>33793429</td>\n",
              "      <td>45.880309</td>\n",
              "    </tr>\n",
              "    <tr>\n",
              "      <th>2023-05-08</th>\n",
              "      <td>73655626.0</td>\n",
              "      <td>33802739</td>\n",
              "      <td>45.892949</td>\n",
              "    </tr>\n",
              "  </tbody>\n",
              "</table>\n",
              "</div>"
            ],
            "text/plain": [
              "                 Tests  Confirmed  Positive_rate_%\n",
              "Date                                              \n",
              "2023-05-04  73655626.0   33766957        45.844369\n",
              "2023-05-05  73655626.0   33772764        45.852253\n",
              "2023-05-06  73655626.0   33778993         45.86071\n",
              "2023-05-07  73655626.0   33793429        45.880309\n",
              "2023-05-08  73655626.0   33802739        45.892949"
            ]
          },
          "execution_count": 21,
          "metadata": {},
          "output_type": "execute_result"
        }
      ],
      "source": [
        "# Register new alias\n",
        "eng.variables_alias(alias=\"p\", variables=[\"Tests\", \"Confirmed\", \"Positive_rate_%\"])\n",
        "# Check the contents of an alias\n",
        "eng.variables_alias(alias=\"p\")\n",
        "# Subsetting with the variable alias\n",
        "eng.subset_alias(alias=\"jp\", geo=\"Japan\", variables=\"p\")[0].tail()"
      ]
    },
    {
      "attachments": {},
      "cell_type": "markdown",
      "metadata": {
        "id": "bRHNdhpHd7Y_"
      },
      "source": [
        "### 7.2 Line plot\n",
        "Show data with line plot. We can select function `line_plot` or class `LinePlot`."
      ]
    },
    {
      "cell_type": "code",
      "execution_count": 22,
      "metadata": {
        "id": "_Eb2dNUCdjVb"
      },
      "outputs": [],
      "source": [
        "line_df, *_ = eng.subset_alias(alias=\"jp\")"
      ]
    },
    {
      "attachments": {},
      "cell_type": "markdown",
      "metadata": {
        "id": "LUbB7XaNfSNP"
      },
      "source": [
        "With function:"
      ]
    },
    {
      "cell_type": "code",
      "execution_count": 23,
      "metadata": {
        "colab": {
          "base_uri": "https://localhost:8080/",
          "height": 297
        },
        "id": "ka4av_kcedN9",
        "outputId": "bb28b8d3-274c-4e2c-d6e5-005254f7fbc6"
      },
      "outputs": [
        {
          "data": {
            "image/png": "[encoded data removed]",
            "text/plain": [
              "<Figure size 900x600 with 1 Axes>"
            ]
          },
          "metadata": {},
          "output_type": "display_data"
        }
      ],
      "source": [
        "cs.line_plot(\n",
        "    line_df[\"Positive_rate_%\"],\n",
        "    title=\"Positive rate % in Japan\",\n",
        "    ylabel=\"Positive rate %\",\n",
        "    math_scale=False,\n",
        "    show_legend=False,\n",
        "    filename=None,\n",
        ")"
      ]
    },
    {
      "attachments": {},
      "cell_type": "markdown",
      "metadata": {
        "id": "8XSY2RTbfUb4"
      },
      "source": [
        "With class:"
      ]
    },
    {
      "cell_type": "code",
      "execution_count": 24,
      "metadata": {
        "colab": {
          "base_uri": "https://localhost:8080/",
          "height": 297
        },
        "id": "XXY-PDyEemL4",
        "outputId": "966a4e40-14be-4eaa-e2dc-87f02b58917c"
      },
      "outputs": [
        {
          "data": {
            "image/png": "[encoded data removed]",
            "text/plain": [
              "<Figure size 900x600 with 1 Axes>"
            ]
          },
          "metadata": {},
          "output_type": "display_data"
        }
      ],
      "source": [
        "with cs.LinePlot(filename=None) as lp:\n",
        "    lp.plot(line_df[\"Positive_rate_%\"])\n",
        "    lp.title = \"Positive rate % in Japan\"\n",
        "    lp.x_axis(xlabel=None)\n",
        "    lp.y_axis(ylabel=\"Positive rate %\", math_scale=False)\n",
        "    lp.legend_hide()"
      ]
    },
    {
      "attachments": {},
      "cell_type": "markdown",
      "metadata": {
        "id": "uoRQJ3V2goeO"
      },
      "source": [
        "### 7.3 Scatter plot\n",
        "Show data with scatter plot. We can select function `scatter_plot` or class `ScatterPlot`."
      ]
    },
    {
      "cell_type": "code",
      "execution_count": 25,
      "metadata": {
        "id": "suqWC1TxfG4b"
      },
      "outputs": [],
      "source": [
        "sc_df, *_ = eng.subset_alias(alias=\"jp\")\n",
        "sc_df.rename(columns={\"Tests\": \"x\", \"Confirmed\": \"y\"}, inplace=True)"
      ]
    },
    {
      "cell_type": "code",
      "execution_count": 26,
      "metadata": {
        "colab": {
          "base_uri": "https://localhost:8080/",
          "height": 297
        },
        "id": "77i3iMO-g0ZZ",
        "outputId": "30a57153-6792-403f-c833-a7660313b298"
      },
      "outputs": [
        {
          "data": {
            "image/png": "[encoded data removed]",
            "text/plain": [
              "<Figure size 900x600 with 1 Axes>"
            ]
          },
          "metadata": {},
          "output_type": "display_data"
        }
      ],
      "source": [
        "cs.scatter_plot(\n",
        "    sc_df,\n",
        "    title=\"Scatter plot\",\n",
        "    xlabel=\"Tests\", xlim=(0, None),\n",
        "    ylabel=\"Confirmed\",\n",
        "    filename=None,\n",
        ")"
      ]
    },
    {
      "cell_type": "code",
      "execution_count": 27,
      "metadata": {
        "colab": {
          "base_uri": "https://localhost:8080/",
          "height": 297
        },
        "id": "hnGua7mJhOB5",
        "outputId": "0a11beb5-f070-4a77-a2f2-6869b5945d35"
      },
      "outputs": [
        {
          "data": {
            "image/png": "[encoded data removed]",
            "text/plain": [
              "<Figure size 900x600 with 1 Axes>"
            ]
          },
          "metadata": {},
          "output_type": "display_data"
        }
      ],
      "source": [
        "with cs.ScatterPlot(filename=None) as sp:\n",
        "    sp.plot(sc_df)\n",
        "    sp.title = \"Scatter plot\"\n",
        "    sp.x_axis(xlabel=\"Tests\", xlim=(0, None))\n",
        "    sp.y_axis(ylabel=\"Confirmed\")\n",
        "    sp.line_straight(p1=(0, 0), p2=(max(sc_df[\"x\"]), max(sc_df[\"y\"])))"
      ]
    },
    {
      "attachments": {},
      "cell_type": "markdown",
      "metadata": {
        "id": "9a6fyDXKiPnm"
      },
      "source": [
        "Thank you!"
      ]
    }
  ],
  "metadata": {
    "colab": {
      "collapsed_sections": [],
      "include_colab_link": true,
      "name": "02_data_engineering.ipynb",
      "provenance": [],
      "toc_visible": true
    },
    "kernelspec": {
      "display_name": "Python 3.9.8 ('.venv': poetry)",
      "language": "python",
      "name": "python3"
    },
    "language_info": {
      "codemirror_mode": {
        "name": "ipython",
        "version": 3
      },
      "file_extension": ".py",
      "mimetype": "text/x-python",
      "name": "python",
      "nbconvert_exporter": "python",
      "pygments_lexer": "ipython3",
      "version": "3.9.16"
    },
    "vscode": {
      "interpreter": {
        "hash": "22bb74880181aee4909a67ef083e714bf83db977b91038d43aef8b1870a4f681"
      }
    }
  },
  "nbformat": 4,
  "nbformat_minor": 0
}
