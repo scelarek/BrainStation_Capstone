{
  "cells": [
    {
      "cell_type": "markdown",
      "metadata": {
        "id": "C5wmqlW7D-m3"
      },
      "source": [
        "[![Binder](https://mybinder.org/badge_logo.svg)](https://mybinder.org/v2/gh/lisphilar/covid19-sir/HEAD?labpath=example%2F05_scenario_analysis.ipynb)"
      ]
    },
    {
      "cell_type": "markdown",
      "metadata": {},
      "source": [
        "# Scenario analysis\n",
        "We will perform scenario analysis. Regarding phase-dependent SIR-derived ODE models, this analysis focused on the impact of changes of ODE parameter values on the number of cases."
      ]
    },
    {
      "cell_type": "code",
      "execution_count": null,
      "metadata": {
        "colab": {
          "base_uri": "https://localhost:8080/",
          "height": 35
        },
        "id": "wXiMVaCYDOUQ",
        "outputId": "c90d5969-3c9e-44f4-c475-b4394b642a6c"
      },
      "outputs": [],
      "source": [
        "from datetime import timedelta\n",
        "import pandas as pd\n",
        "import covsirphy as cs\n",
        "cs.__version__"
      ]
    },
    {
      "cell_type": "markdown",
      "metadata": {
        "id": "jezIiUuWEqv6"
      },
      "source": [
        "## 1. Create analyzer\n",
        "An instance of `ODEScenario()` will be created here. We have two options as follows.\n",
        "\n",
        "- With dataset of recommended servers\n",
        "- With `pandas.DataFrame`\n",
        "- With serialized ODEScenario object (JSON file, from version 2.28.0)"
      ]
    },
    {
      "cell_type": "markdown",
      "metadata": {
        "id": "zZX_xLvDGefb"
      },
      "source": [
        "### 1.1 With dataset of recommended servers\n",
        "We can create an instance with class method `ODEScenario.auto_build()` if the target dataset was registered in the recommended servers explained in [Data preparation]. As an example, we will use the dataset in Italy.\n",
        "\n",
        "The following steps will be performed automatically and \"Baseline\" scenario will be registered.\n",
        "\n",
        "Using `DataEngineer` class internally,\n",
        "\n",
        "* Data downloading\n",
        "* Data cleaning\n",
        "* Data transformation\n",
        "* Data subsetting\n",
        "* Data complement (if necessary and selected)\n",
        "\n",
        "Using `Dynamics` class internally,\n",
        "* Time-series segmentation with S-R change point analysis\n",
        "* Tau estimation\n",
        "* ODE parameter estimation"
      ]
    },
    {
      "cell_type": "code",
      "execution_count": null,
      "metadata": {
        "colab": {
          "base_uri": "https://localhost:8080/"
        },
        "id": "mWn-90BfIRRp",
        "outputId": "63ba1f8d-2dee-4ee7-e26d-060629b094a7"
      },
      "outputs": [],
      "source": [
        "snr_act = cs.ODEScenario.auto_build(geo=\"Italy\", model=cs.SIRFModel, complement=True)"
      ]
    },
    {
      "cell_type": "markdown",
      "metadata": {
        "id": "Uv_eCoAGU-fn"
      },
      "source": [
        "We can perform simulation with `ODEScenario().simulate()` directly."
      ]
    },
    {
      "cell_type": "code",
      "execution_count": null,
      "metadata": {
        "colab": {
          "base_uri": "https://localhost:8080/",
          "height": 435
        },
        "id": "_IpLdccaUrbx",
        "outputId": "4a1d92fb-4118-46ba-d841-5e9ccf76d5f6"
      },
      "outputs": [],
      "source": [
        "snr_act.simulate(name=\"Baseline\");"
      ]
    },
    {
      "cell_type": "markdown",
      "metadata": {
        "id": "MRqbOCamKW4E"
      },
      "source": [
        "Or, we can confirm the dynamics of the baseline scenario, producing `Dynamics` instance."
      ]
    },
    {
      "cell_type": "code",
      "execution_count": null,
      "metadata": {
        "colab": {
          "base_uri": "https://localhost:8080/",
          "height": 921
        },
        "id": "BSfNStmBKHJI",
        "outputId": "ca16e01b-7c55-48f2-dd01-94c2e3c6382a"
      },
      "outputs": [],
      "source": [
        "dyn_act = snr_act.to_dynamics(name=\"Baseline\")\n",
        "# Show summary\n",
        "display(dyn_act.summary())\n",
        "# Simulation\n",
        "dyn_act_df = dyn_act.simulate(model_specific=False)\n",
        "cs.line_plot(\n",
        "    dyn_act_df.drop(\"Susceptible\", axis=1), \"Italy: Simulated data (Baseline scenario)\")"
      ]
    },
    {
      "cell_type": "markdown",
      "metadata": {
        "id": "JypTh9TJz_s-"
      },
      "source": [
        "If `name` is not specified, actual records will be shown."
      ]
    },
    {
      "cell_type": "code",
      "execution_count": null,
      "metadata": {
        "colab": {
          "base_uri": "https://localhost:8080/",
          "height": 435
        },
        "id": "TxSRHJc50Gya",
        "outputId": "746160ce-8fb8-4ba9-c24a-9ab9599c19e9"
      },
      "outputs": [],
      "source": [
        "snr_act.simulate();"
      ]
    },
    {
      "cell_type": "markdown",
      "metadata": {
        "id": "aI3K38FMGUlO"
      },
      "source": [
        "### 1.2 With `pandas.DataFrame`\n",
        "The following solution is useful when we want to use `pandas.DataFrame` or sample data for scenario analysis."
      ]
    },
    {
      "cell_type": "markdown",
      "metadata": {
        "id": "5TYSIZdgNpoa"
      },
      "source": [
        "At first, we will prepare an instance of `Dynamics`."
      ]
    },
    {
      "cell_type": "code",
      "execution_count": null,
      "metadata": {
        "colab": {
          "base_uri": "https://localhost:8080/",
          "height": 439
        },
        "id": "a25VZSm2GT_H",
        "outputId": "ced0a512-ff27-4e96-cc46-f009e01b1c07"
      },
      "outputs": [],
      "source": [
        "dyn_sample = cs.Dynamics.from_sample(cs.SIRFModel, date_range=(\"01Jan2022\", \"31Jan2022\"), tau=1440)\n",
        "sample_df = dyn_sample.simulate()\n",
        "cs.line_plot(sample_df.drop(\"Susceptible\", axis=1), \"Sample: Simulated data (Baseline scenario)\")"
      ]
    },
    {
      "cell_type": "markdown",
      "metadata": {
        "id": "FLO1VEIOONKq"
      },
      "source": [
        "Then, prepare a `pandas.DataFrame` with time-index and Population/Confirmed/Recovered/Fatal columns. `DataEngineer` class will be useful."
      ]
    },
    {
      "cell_type": "code",
      "execution_count": null,
      "metadata": {
        "colab": {
          "base_uri": "https://localhost:8080/",
          "height": 458
        },
        "id": "WCphrsfUFDQI",
        "outputId": "544fa78b-ee03-4cba-9e36-ddbc7a87ac98"
      },
      "outputs": [],
      "source": [
        "eng = cs.DataEngineer(layers=[\"Country\"])\n",
        "df = sample_df.reset_index()\n",
        "df.insert(0, \"Country\", \"Sample\")\n",
        "eng.register(data=df)\n",
        "eng.inverse_transform()\n",
        "subset_df, *_ = eng.subset(\n",
        "    geo=\"Sample\", variables=[\"Population\", \"Confirmed\", \"Recovered\", \"Fatal\"]\n",
        ")\n",
        "display(subset_df.head())\n",
        "display(subset_df.tail())"
      ]
    },
    {
      "cell_type": "markdown",
      "metadata": {
        "id": "TrjAhb8JP07Q"
      },
      "source": [
        "Finally, we can create an instance of `ODEScenario`."
      ]
    },
    {
      "cell_type": "code",
      "execution_count": null,
      "metadata": {
        "colab": {
          "base_uri": "https://localhost:8080/",
          "height": 191
        },
        "id": "rr_pa09WP9z9",
        "outputId": "c885dfa9-31c1-40be-efe1-cb1823b880e5"
      },
      "outputs": [],
      "source": [
        "snr = cs.ODEScenario(data=subset_df, location_name=\"Sample\", complement=False)\n",
        "snr.build_with_dynamics(name=\"Baseline\", dynamics=dyn_sample)\n",
        "# Show summary\n",
        "snr.summary()"
      ]
    },
    {
      "cell_type": "markdown",
      "metadata": {
        "id": "naZ34Vj9QcAu"
      },
      "source": [
        "If we need to perform time-series segmentation, tau estimation and ODE parameter estimation, we can use `.build_with_model(name=<str>, model=<ODEModel>, data_range=<tuple of (str, str) or None>, tau=<int or None>` instead of `.build_with_dynamics()`."
      ]
    },
    {
      "cell_type": "markdown",
      "metadata": {},
      "source": [
        "### 1.3 With serialized `ODEScenario` object\n",
        "From version 2.28.0, we can save scenario settings as JSON file using `ODEScenario.to_json(filename)`. The JSON file will be used to re-create `ODEScenario` object, skipping ODE parameter estimation step and so on."
      ]
    },
    {
      "cell_type": "markdown",
      "metadata": {},
      "source": [
        "To JSON file:"
      ]
    },
    {
      "cell_type": "code",
      "execution_count": null,
      "metadata": {},
      "outputs": [],
      "source": [
        "# Create {\"filename\": <absolute path>} easily\n",
        "filer = cs.Filer(directory=\"input\", prefix=\"jpn\")\n",
        "file_dict = filer.json(title=\"scenarios\")\n",
        "# To JSON file\n",
        "json_file = snr.to_json(**file_dict)"
      ]
    },
    {
      "cell_type": "markdown",
      "metadata": {},
      "source": [
        "From JSON file:"
      ]
    },
    {
      "cell_type": "code",
      "execution_count": null,
      "metadata": {},
      "outputs": [],
      "source": [
        "snr_recreated = cs.ODEScenario.from_json(json_file)\n",
        "# Describe (explained later)\n",
        "snr_recreated.describe()"
      ]
    },
    {
      "cell_type": "markdown",
      "metadata": {
        "id": "--3knphyRAMq"
      },
      "source": [
        "## Set additional scenarios\n",
        "We will define the following scenario as an example to analyze the impact of ODE parameter changes, copying the baseline scenario and add a phase with the changed ODE parameter values. Note that this is just an assumption. It will be better to change ODE parameter values for your analysis.\n",
        "\n",
        "| name | 01Jan - 31Jan | $\\kappa$ (to 30Jun) | $\\rho$ (to 30Jun) | $\\sigma$ (to 30Jun) |\n",
        "|:---:|:---:|:---:|:---:|:---:|\n",
        "| Baseline | 100% | 100% | 100% | 100% |\n",
        "| Lockdown | 100% | 100% |  50% | 100% |\n",
        "| Medicine | 100% |  50% | 100% | 200% |\n",
        "| Vaccine  | 100% |  60% |  80% | 120% |"
      ]
    },
    {
      "cell_type": "markdown",
      "metadata": {
        "id": "Gv3gcVVUUphT"
      },
      "source": [
        "Get the baseline values of ODE parameters."
      ]
    },
    {
      "cell_type": "code",
      "execution_count": null,
      "metadata": {
        "colab": {
          "base_uri": "https://localhost:8080/"
        },
        "id": "eB6bF5q-UWhk",
        "outputId": "e4ed0d84-3109-4683-e584-d0310b4a70d1"
      },
      "outputs": [],
      "source": [
        "df = snr.summary()\n",
        "kappa, rho, sigma = df.loc[(\"Baseline\", \"0th\"), [\"kappa\", \"rho\", \"sigma\"]]\n",
        "print(f\"kappa={kappa:.4}, rho={rho:.4}, sigma={sigma:.4}\")"
      ]
    },
    {
      "cell_type": "markdown",
      "metadata": {
        "id": "biDXrfZiT1mp"
      },
      "source": [
        "### 2.1 Lockdown scenario\n",
        "This scenario assumes that $\\rho$ value will be decreased from 01Feb2022 because of stay-home restriction."
      ]
    },
    {
      "cell_type": "code",
      "execution_count": null,
      "metadata": {
        "colab": {
          "base_uri": "https://localhost:8080/",
          "height": 435
        },
        "id": "Ph_Z6Bi8Tx22",
        "outputId": "f6eab6c8-4373-482b-c071-810dd294a38d"
      },
      "outputs": [],
      "source": [
        "name = \"Lockdown\"\n",
        "snr.build_with_template(name=name, template=\"Baseline\")\n",
        "snr.append(name=name, end=\"30Jun2022\", rho=rho*0.5)\n",
        "# Simulation\n",
        "snr.simulate(name=name, v=\"01Feb2022\");"
      ]
    },
    {
      "cell_type": "markdown",
      "metadata": {
        "id": "rPbaOey8B3Xi"
      },
      "source": [
        "### 2.2 Medicine scenario\n",
        "This scenario assumes that $\\kappa$ will be decreased and $\\sigma$ will be increased because of new medicine development."
      ]
    },
    {
      "cell_type": "code",
      "execution_count": null,
      "metadata": {
        "colab": {
          "base_uri": "https://localhost:8080/",
          "height": 435
        },
        "id": "WhFfI8rDyJ6W",
        "outputId": "bd5828ca-3d0e-438f-84f1-d1ae550c8c90"
      },
      "outputs": [],
      "source": [
        "name = \"Medicine\"\n",
        "snr.build_with_template(name=name, template=\"Baseline\")\n",
        "snr.append(name=name, end=\"30Jun2022\", kappa=kappa*0.5, sigma=sigma*2)\n",
        "# Simulation\n",
        "snr.simulate(name=name, v=\"01Feb2022\");"
      ]
    },
    {
      "cell_type": "markdown",
      "metadata": {
        "id": "__oymzaryYIC"
      },
      "source": [
        "### 2.3 Vaccine scenario\n",
        "This scenario assumes that $\\kappa$ and $\\rho$ will be decreased and $\\sigma$ will be increased because of vaccination."
      ]
    },
    {
      "cell_type": "code",
      "execution_count": null,
      "metadata": {
        "colab": {
          "base_uri": "https://localhost:8080/",
          "height": 435
        },
        "id": "ZOTdW3BMytT7",
        "outputId": "7b5d1b92-cfad-4a4c-b5a0-77e2b7e28977"
      },
      "outputs": [],
      "source": [
        "name = \"Vaccine\"\n",
        "snr.build_with_template(name=name, template=\"Baseline\")\n",
        "snr.append(name=name, end=\"30Jun2022\", kappa=kappa*0.6, rho=rho*0.8, sigma=sigma*1.2)\n",
        "# Simulation\n",
        "snr.simulate(name=name, v=\"01Feb2022\");"
      ]
    },
    {
      "cell_type": "markdown",
      "metadata": {
        "id": "CGe7zV4ly8lh"
      },
      "source": [
        "### 2.4 Adjustment of the last dates\n",
        "The last dates of the new scenarios are 30Jun2022, but the baseline scenario ends on 31Jan2022. We need to extend the last phase to the baseline scenario analysis with `ODEScenario().append(name=\"Baseline\")` or `ODEScenario().append()` (useful when we have some unchanged scenarios)."
      ]
    },
    {
      "cell_type": "markdown",
      "metadata": {
        "id": "LNB9WLArzuOZ"
      },
      "source": [
        "Before appended:"
      ]
    },
    {
      "cell_type": "code",
      "execution_count": null,
      "metadata": {
        "colab": {
          "base_uri": "https://localhost:8080/",
          "height": 459
        },
        "id": "NxmTg_PNzrHg",
        "outputId": "e5c0da70-4599-4b0c-954a-9e7e14dcf2fb"
      },
      "outputs": [],
      "source": [
        "snr.summary().style.applymap(lambda x: \"background-color: yellow\", subset=pd.IndexSlice[(\"Baseline\", \"0th\"), \"End\"])"
      ]
    },
    {
      "cell_type": "markdown",
      "metadata": {
        "id": "LnHLIy1G0VvU"
      },
      "source": [
        "Append:"
      ]
    },
    {
      "cell_type": "code",
      "execution_count": null,
      "metadata": {
        "colab": {
          "base_uri": "https://localhost:8080/",
          "height": 459
        },
        "id": "obULOayg0YDH",
        "outputId": "922a88cb-7592-4d2c-ee16-b6e23628a8d3"
      },
      "outputs": [],
      "source": [
        "snr.append().summary().style.applymap(lambda x: \"background-color: yellow\", subset=pd.IndexSlice[(\"Baseline\", \"0th\"), \"End\"])"
      ]
    },
    {
      "cell_type": "markdown",
      "metadata": {
        "id": "53kUItYD5Ypt"
      },
      "source": [
        "If we need all values for dates, we can use `ODEScenario().track()` method."
      ]
    },
    {
      "cell_type": "code",
      "execution_count": null,
      "metadata": {
        "colab": {
          "base_uri": "https://localhost:8080/",
          "height": 499
        },
        "id": "LtdT1p0x5fis",
        "outputId": "c75446db-1978-4f4d-8c5c-bef97a8e512e"
      },
      "outputs": [],
      "source": [
        "snr.track()"
      ]
    },
    {
      "cell_type": "markdown",
      "metadata": {
        "id": "HJ_UDNVLBlc_"
      },
      "source": [
        "## 3. Compare and evaluate scenarios"
      ]
    },
    {
      "cell_type": "markdown",
      "metadata": {
        "id": "w7JabD7f0nVQ"
      },
      "source": [
        "### 3.1 Compare the params\n",
        "We will confirm the ODE parameter values and reproduction number with `ODEScenario().compare_param(param)` method."
      ]
    },
    {
      "cell_type": "markdown",
      "metadata": {
        "id": "DqXSKmVg5wz0"
      },
      "source": [
        "Reproduction number:"
      ]
    },
    {
      "cell_type": "code",
      "execution_count": null,
      "metadata": {
        "colab": {
          "base_uri": "https://localhost:8080/",
          "height": 435
        },
        "id": "hbQUQpkl1Q8B",
        "outputId": "4ca74959-58e6-4a26-e375-4c157600e53e"
      },
      "outputs": [],
      "source": [
        "snr.compare_param(\"Rt\");"
      ]
    },
    {
      "cell_type": "markdown",
      "metadata": {
        "id": "XIIEVOm75zQK"
      },
      "source": [
        "ODE parameter values:"
      ]
    },
    {
      "cell_type": "code",
      "execution_count": null,
      "metadata": {
        "colab": {
          "base_uri": "https://localhost:8080/",
          "height": 435
        },
        "id": "dEVoq0oe1gc4",
        "outputId": "45b3717f-cff6-4574-8353-b0158eb567b3"
      },
      "outputs": [],
      "source": [
        "snr.compare_param(\"kappa\");"
      ]
    },
    {
      "cell_type": "code",
      "execution_count": null,
      "metadata": {
        "colab": {
          "base_uri": "https://localhost:8080/",
          "height": 435
        },
        "id": "DbTlIE5I1Yn9",
        "outputId": "47766a8d-65bb-4a94-b6c4-ed6f51dc284d"
      },
      "outputs": [],
      "source": [
        "snr.compare_param(\"rho\");"
      ]
    },
    {
      "cell_type": "code",
      "execution_count": null,
      "metadata": {
        "colab": {
          "base_uri": "https://localhost:8080/",
          "height": 435
        },
        "id": "uVEMVhUc1l98",
        "outputId": "46999b78-0cfa-4772-e074-9094cc24e587"
      },
      "outputs": [],
      "source": [
        "snr.compare_param(\"sigma\");"
      ]
    },
    {
      "cell_type": "markdown",
      "metadata": {
        "id": "TwgTfy6J1raE"
      },
      "source": [
        "### 3.2 Compare simulated number of cases\n",
        "We will compare simulated number of cases with `ODEScenario().compare_cases(variable, date_range=<None or tuple of dates>)` method."
      ]
    },
    {
      "cell_type": "code",
      "execution_count": null,
      "metadata": {
        "colab": {
          "base_uri": "https://localhost:8080/",
          "height": 435
        },
        "id": "LnutBQe12Dc-",
        "outputId": "40d92850-1e73-4ace-b84f-7556bcfa9b2c"
      },
      "outputs": [],
      "source": [
        "snr.compare_cases(\"Confirmed\");"
      ]
    },
    {
      "cell_type": "code",
      "execution_count": null,
      "metadata": {
        "colab": {
          "base_uri": "https://localhost:8080/",
          "height": 435
        },
        "id": "Vc-TJYNv3RwK",
        "outputId": "1ad7b0c1-9c42-4c46-d3e5-fc4783cd1bf6"
      },
      "outputs": [],
      "source": [
        "snr.compare_cases(\"Fatal\");"
      ]
    },
    {
      "cell_type": "code",
      "execution_count": null,
      "metadata": {
        "colab": {
          "base_uri": "https://localhost:8080/",
          "height": 435
        },
        "id": "ddrWv2kt3caA",
        "outputId": "1706a836-84ca-4dc9-8846-4390ab63d10b"
      },
      "outputs": [],
      "source": [
        "snr.compare_cases(\"Recovered\");"
      ]
    },
    {
      "cell_type": "markdown",
      "metadata": {
        "id": "3RExHNBb3gNj"
      },
      "source": [
        "### 3.3 Describe representative values\n",
        "We can use `ODEScenario.describe()` to describe representative values of simulated number of cases. Max value of Infected and the number of cases on the last date will be shown as a `pandas.DataFrame`. This is useful to confirm the impact of OE parameter changes."
      ]
    },
    {
      "cell_type": "code",
      "execution_count": null,
      "metadata": {
        "colab": {
          "base_uri": "https://localhost:8080/",
          "height": 175
        },
        "id": "m7hi0xxd3v35",
        "outputId": "e04bc9ea-e89d-422d-c6dd-54fd60dcbbc6"
      },
      "outputs": [],
      "source": [
        "snr.describe()"
      ]
    },
    {
      "cell_type": "markdown",
      "metadata": {
        "id": "U_iHz9lw7xVN"
      },
      "source": [
        "### 3.4 Get representative scenario\n",
        "Which scenario is the best/worst scenario? Specifying quantile, variable name and date, we can confirm that with `ODEScenario().represent(q=<float or tuple of float>, variable=<str>, date=<str or None>, included=<list of str or None>, excluded=<list of str or None>)`. `date=None` means the last date of scenarios."
      ]
    },
    {
      "cell_type": "code",
      "execution_count": null,
      "metadata": {
        "colab": {
          "base_uri": "https://localhost:8080/"
        },
        "id": "jeeNiYC85SQQ",
        "outputId": "29801115-fc6a-46ff-ec6f-62878bdc8e70"
      },
      "outputs": [],
      "source": [
        "scenarios = snr.represent(q=(0.1, 0.9), variable=\"Confirmed\", excluded=[\"Baseline\"])\n",
        "print(f\" the best: {scenarios[0]} (small number of confirmed cases)\\nthe worst: {scenarios[1]} (large number of confirmed cases)\")"
      ]
    },
    {
      "cell_type": "markdown",
      "metadata": {
        "id": "-ZBov9rt-E-h"
      },
      "source": [
        "We can rename a scenario with `ODEScenario().rename(old, new)`."
      ]
    },
    {
      "cell_type": "code",
      "execution_count": null,
      "metadata": {
        "colab": {
          "base_uri": "https://localhost:8080/",
          "height": 175
        },
        "id": "S3z5INVB-VK8",
        "outputId": "54467122-c26c-4129-c9a9-250c85a21799"
      },
      "outputs": [],
      "source": [
        "snr.rename(old=scenarios[0], new=\"Best\")\n",
        "snr.rename(old=scenarios[1], new=\"Worst\").describe()"
      ]
    },
    {
      "cell_type": "markdown",
      "metadata": {
        "id": "7zEjX7Qu-Ufk"
      },
      "source": [
        "We can delete a scenario with `ODEScenario().delete(pattern, exact=True)`. Just for demonstration, we will delete the scenario which is not the baseline/best/worst scenario."
      ]
    },
    {
      "cell_type": "code",
      "execution_count": null,
      "metadata": {
        "colab": {
          "base_uri": "https://localhost:8080/"
        },
        "id": "BhhSqRGq-3Rv",
        "outputId": "b05ef307-3ffa-486c-9f59-a5ec9e1223c7"
      },
      "outputs": [],
      "source": [
        "deleted_scenarios = [name for name in snr.describe().index.unique() if name not in [*scenarios, \"Best\", \"Worst\", \"Baseline\"]]\n",
        "deleted_scenarios"
      ]
    },
    {
      "cell_type": "code",
      "execution_count": null,
      "metadata": {
        "colab": {
          "base_uri": "https://localhost:8080/",
          "height": 143
        },
        "id": "N9sudDgZ-3Wt",
        "outputId": "54d3943f-4948-43ed-993f-9dd43ad757e4"
      },
      "outputs": [],
      "source": [
        "for name in deleted_scenarios:\n",
        "    snr.delete(name, exact=True)\n",
        "snr.describe()"
      ]
    },
    {
      "cell_type": "markdown",
      "metadata": {
        "id": "t_heEk9UAON6"
      },
      "source": [
        "We can delete scenarios with regular expressions with `ODEScenario().delete(pattern, exact=True)`. Just for demonstration, we will add scenarios which names start with \"Deleted_\". Then, delete them."
      ]
    },
    {
      "cell_type": "code",
      "execution_count": null,
      "metadata": {
        "colab": {
          "base_uri": "https://localhost:8080/",
          "height": 206
        },
        "id": "7fAUdOuSAFZz",
        "outputId": "4ee5efdd-45e7-44de-de17-65ec28cbc177"
      },
      "outputs": [],
      "source": [
        "snr.build_with_template(name=\"Deleted_1\", template=\"Baseline\")\n",
        "snr.build_with_template(name=\"Deleted_2\", template=\"Baseline\").describe()"
      ]
    },
    {
      "cell_type": "code",
      "execution_count": null,
      "metadata": {
        "colab": {
          "base_uri": "https://localhost:8080/",
          "height": 143
        },
        "id": "-syGvy8hAvla",
        "outputId": "6b3ba673-4db3-4819-8c2b-04d8c5540a38"
      },
      "outputs": [],
      "source": [
        "snr.delete(\"Deleted_\", exact=False).describe()"
      ]
    },
    {
      "cell_type": "markdown",
      "metadata": {
        "id": "hl5DzpL_BLzu"
      },
      "source": [
        "As explained, we can compare the scenarios with the methods, `ODEScenario().compare_cases()` as an example."
      ]
    },
    {
      "cell_type": "code",
      "execution_count": null,
      "metadata": {
        "colab": {
          "base_uri": "https://localhost:8080/",
          "height": 435
        },
        "id": "dsVieSwTBWhH",
        "outputId": "83480148-4e60-48b8-91c3-e7add9c9a46b"
      },
      "outputs": [],
      "source": [
        "snr.compare_cases(\"Confirmed\");"
      ]
    },
    {
      "cell_type": "markdown",
      "metadata": {
        "id": "89LdylLoGiCE"
      },
      "source": [
        "Thank you!"
      ]
    }
  ],
  "metadata": {
    "colab": {
      "authorship_tag": "ABX9TyM3xkEXUsFUZn0HQ4JUNRGG",
      "include_colab_link": true,
      "name": "05_scenario_analysis.ipynb",
      "provenance": [],
      "toc_visible": true
    },
    "kernelspec": {
      "display_name": "Python 3.9.8 ('.venv': poetry)",
      "language": "python",
      "name": "python3"
    },
    "language_info": {
      "name": "python",
      "version": "3.10.7"
    },
    "vscode": {
      "interpreter": {
        "hash": "22bb74880181aee4909a67ef083e714bf83db977b91038d43aef8b1870a4f681"
      }
    }
  },
  "nbformat": 4,
  "nbformat_minor": 0
}
