{
 "cells": [
  {
   "attachments": {},
   "cell_type": "markdown",
   "metadata": {},
   "source": [
    "<div id=\"container\" style=\"position:relative;\">\n",
    "<div style=\"float:left\"><h1>  Intro to Scikit-Learn </h1></div>\n",
    "<div style=\"position:relative; float:right\"><img style=\"height:65px\" src =\"https://drive.google.com/uc?export=view&id=1EnB0x-fdqMp6I5iMoEBBEuxB_s7AmE2k\" />\n",
    "</div>\n",
    "</div>\n"
   ]
  },
  {
   "attachments": {},
   "cell_type": "markdown",
   "metadata": {},
   "source": [
    "This unit is focused on various supervised and unsupervised machine learning techniques. We'll primarily be working with `scikit-learn`, a widely-used machine learning package in Python which is now becoming industry standard. \n",
    "\n",
    "`scikit-learn` contains a plethora of machine learning tools, from data preprocessing, statistical models including linear and logistic regression, to advanced machine learning models, and more. \n",
    "\n",
    "In this lecture we'll dive into the `scikit-learn` interface, building a strong foundation with its fundamentals before progressing into more sophisticated applications in machine learning throughout the unit.\n",
    "\n",
    "First, let's import the packages we need:"
   ]
  },
  {
   "cell_type": "code",
   "execution_count": 171,
   "metadata": {},
   "outputs": [],
   "source": [
    "import numpy as np\n",
    "import pandas as pd\n",
    "import matplotlib.pyplot as plt"
   ]
  },
  {
   "attachments": {},
   "cell_type": "markdown",
   "metadata": {},
   "source": [
    "Note: We will never import all of `scikit-learn`, rather we'll import only the elements we'll need.\n",
    "\n",
    "For a thorough list of what is available in `scikit-learn` take a look at the API reference in the official documentation here: https://scikit-learn.org/stable/modules/classes.html"
   ]
  },
  {
   "attachments": {},
   "cell_type": "markdown",
   "metadata": {},
   "source": [
    "### Creating Models\n",
    "\n",
    "In the first part of the lecture, we'll walk through each of the steps to go from a data set to a complete model that we could deploy. The general process we will follow is:\n",
    "1. Load the data\n",
    "2. Fit the model\n",
    "3. Make predictions and evaluate the model"
   ]
  },
  {
   "attachments": {},
   "cell_type": "markdown",
   "metadata": {},
   "source": [
    "### Loading the Data\n",
    "\n",
    "Before we can begin fitting a model, we need data on which to fit it. This is also referred to as _training_ a model. For now, we're going to apply *supervised machine learning*, which is suitable for when we can divide our data into independent variables (usually denoted by $X$) and a dependent variable (denoted by $y$). \n",
    "\n",
    "(Later we will see how to perform *unsupervised machine learning*, which is used when our data has no dependent variable, or when we don't know what the dependent variable should be.) \n",
    "\n",
    "In a machine learning context: \n",
    "* Dependent variable = target = $y$\n",
    "* Independent variables = features = $X$\n"
   ]
  },
  {
   "attachments": {},
   "cell_type": "markdown",
   "metadata": {},
   "source": [
    "#### Data Sources \n",
    "\n",
    "**1. Synthetic Data**\n",
    "\n",
    "Many of the examples we've created use *synthetic data* — data that was specifically created for illustrative purposes:"
   ]
  },
  {
   "cell_type": "code",
   "execution_count": 172,
   "metadata": {},
   "outputs": [],
   "source": [
    "# Two normal distributions (the one at -1 has label 1, the one at 1 has label 0)\n",
    "X = pd.DataFrame(np.array(np.concatenate((np.random.randn(500) + (-1),np.random.randn(500) + (+1)), axis = 0)))\n",
    "y = pd.DataFrame(np.full((1000),0))\n",
    "y.loc[:500] = 1"
   ]
  },
  {
   "attachments": {},
   "cell_type": "markdown",
   "metadata": {},
   "source": [
    "**2. Comma Separated Value (CSV) files**\n",
    "\n",
    "Another source of data we use is CSV files. We've used these before, but as a refresher, each row in the file corresponds to a data point (or observation) and each column refers to a variable. \n",
    "\n",
    "We can load CSV files with Pandas as below (get the file [here](https://drive.google.com/file/d/1B8of0WSx7vkW66PlC0g0DcJXZjI2Fkgi/view?usp=sharing)):"
   ]
  },
  {
   "cell_type": "code",
   "execution_count": 173,
   "metadata": {},
   "outputs": [
    {
     "data": {
      "text/html": [
       "<div>\n",
       "<style scoped>\n",
       "    .dataframe tbody tr th:only-of-type {\n",
       "        vertical-align: middle;\n",
       "    }\n",
       "\n",
       "    .dataframe tbody tr th {\n",
       "        vertical-align: top;\n",
       "    }\n",
       "\n",
       "    .dataframe thead th {\n",
       "        text-align: right;\n",
       "    }\n",
       "</style>\n",
       "<table border=\"1\" class=\"dataframe\">\n",
       "  <thead>\n",
       "    <tr style=\"text-align: right;\">\n",
       "      <th></th>\n",
       "      <th>Credit Score</th>\n",
       "      <th>Loan Request Amount</th>\n",
       "      <th>Approval</th>\n",
       "    </tr>\n",
       "  </thead>\n",
       "  <tbody>\n",
       "    <tr>\n",
       "      <th>0</th>\n",
       "      <td>548</td>\n",
       "      <td>56</td>\n",
       "      <td>0</td>\n",
       "    </tr>\n",
       "    <tr>\n",
       "      <th>1</th>\n",
       "      <td>625</td>\n",
       "      <td>168</td>\n",
       "      <td>0</td>\n",
       "    </tr>\n",
       "    <tr>\n",
       "      <th>2</th>\n",
       "      <td>899</td>\n",
       "      <td>237</td>\n",
       "      <td>1</td>\n",
       "    </tr>\n",
       "    <tr>\n",
       "      <th>3</th>\n",
       "      <td>608</td>\n",
       "      <td>84</td>\n",
       "      <td>0</td>\n",
       "    </tr>\n",
       "    <tr>\n",
       "      <th>4</th>\n",
       "      <td>783</td>\n",
       "      <td>34</td>\n",
       "      <td>1</td>\n",
       "    </tr>\n",
       "    <tr>\n",
       "      <th>5</th>\n",
       "      <td>735</td>\n",
       "      <td>213</td>\n",
       "      <td>0</td>\n",
       "    </tr>\n",
       "    <tr>\n",
       "      <th>6</th>\n",
       "      <td>472</td>\n",
       "      <td>213</td>\n",
       "      <td>0</td>\n",
       "    </tr>\n",
       "    <tr>\n",
       "      <th>7</th>\n",
       "      <td>661</td>\n",
       "      <td>150</td>\n",
       "      <td>0</td>\n",
       "    </tr>\n",
       "    <tr>\n",
       "      <th>8</th>\n",
       "      <td>645</td>\n",
       "      <td>46</td>\n",
       "      <td>1</td>\n",
       "    </tr>\n",
       "    <tr>\n",
       "      <th>9</th>\n",
       "      <td>821</td>\n",
       "      <td>247</td>\n",
       "      <td>1</td>\n",
       "    </tr>\n",
       "  </tbody>\n",
       "</table>\n",
       "</div>"
      ],
      "text/plain": [
       "   Credit Score  Loan Request Amount  Approval\n",
       "0           548                   56         0\n",
       "1           625                  168         0\n",
       "2           899                  237         1\n",
       "3           608                   84         0\n",
       "4           783                   34         1\n",
       "5           735                  213         0\n",
       "6           472                  213         0\n",
       "7           661                  150         0\n",
       "8           645                   46         1\n",
       "9           821                  247         1"
      ]
     },
     "execution_count": 173,
     "metadata": {},
     "output_type": "execute_result"
    }
   ],
   "source": [
    "loans = pd.read_csv('data/loans.csv',index_col=0)\n",
    "loans.head(10)"
   ]
  },
  {
   "attachments": {},
   "cell_type": "markdown",
   "metadata": {},
   "source": [
    "Here the dependent variable (or target) is _Approval_ while the independent variables (or features) are the other two columns. With the data loaded as is, we would have to split the columns manually in order to pull out our $X$ and $y$:"
   ]
  },
  {
   "cell_type": "code",
   "execution_count": 174,
   "metadata": {},
   "outputs": [],
   "source": [
    "# Pretty easy to split data with Pandas!\n",
    "X = loans[['Credit Score','Loan Request Amount']] # independent variables or features\n",
    "y = loans['Approval'] # dependent variable or target"
   ]
  },
  {
   "attachments": {},
   "cell_type": "markdown",
   "metadata": {},
   "source": [
    "**3. `scikit-learn` Datasets**\n",
    "\n",
    "The final source of data we'll consider for now are the data sets included `scikit-learn`. The package has several great data sets to explore and model. For a complete list see: https://scikit-learn.org/stable/datasets.html\n",
    "\n",
    "Let's load in the California Housing dataset. This data contains various features of a home and with the average home price as the target variable. To load the data, we can use the following: "
   ]
  },
  {
   "cell_type": "code",
   "execution_count": 175,
   "metadata": {},
   "outputs": [
    {
     "name": "stdout",
     "output_type": "stream",
     "text": [
      "<class 'sklearn.utils._bunch.Bunch'>\n"
     ]
    }
   ],
   "source": [
    "from sklearn.datasets import fetch_california_housing\n",
    "\n",
    "california = fetch_california_housing()\n",
    "\n",
    "print(type(california))"
   ]
  },
  {
   "attachments": {},
   "cell_type": "markdown",
   "metadata": {},
   "source": [
    "As you can see this isn't a normal Pandas dataframe, it's a special type of object specific to sklearn, a _Bunch_."
   ]
  },
  {
   "attachments": {},
   "cell_type": "markdown",
   "metadata": {},
   "source": [
    "We can look at a summary of the data set using the following attribute stored within:"
   ]
  },
  {
   "cell_type": "code",
   "execution_count": 176,
   "metadata": {},
   "outputs": [],
   "source": [
    "# print(california.DESCR)"
   ]
  },
  {
   "attachments": {},
   "cell_type": "markdown",
   "metadata": {},
   "source": [
    "We can still extract the dependent and independent variables:"
   ]
  },
  {
   "cell_type": "code",
   "execution_count": 177,
   "metadata": {},
   "outputs": [
    {
     "name": "stdout",
     "output_type": "stream",
     "text": [
      "The shape of the dependent variable: (20640,)\n",
      "The shape of the independent variables: (20640, 8)\n"
     ]
    }
   ],
   "source": [
    "# The dependent variable\n",
    "y = california.target\n",
    "# The independent variables\n",
    "X = california.data\n",
    "\n",
    "print (f'The shape of the dependent variable: {y.shape}')\n",
    "print (f'The shape of the independent variables: {X.shape}')"
   ]
  },
  {
   "attachments": {},
   "cell_type": "markdown",
   "metadata": {},
   "source": [
    "This is now in a format we can use. As you can see there are 20,640 data points with 8 independent variables or features.\n",
    "\n",
    "**Note:** When we import data from `scikit-learn`, it is stored in a numpy array. If we want to convert it into a dataframe, we can use the `feature_names` attribute to provide the column names:"
   ]
  },
  {
   "cell_type": "code",
   "execution_count": 178,
   "metadata": {},
   "outputs": [
    {
     "data": {
      "text/html": [
       "<div>\n",
       "<style scoped>\n",
       "    .dataframe tbody tr th:only-of-type {\n",
       "        vertical-align: middle;\n",
       "    }\n",
       "\n",
       "    .dataframe tbody tr th {\n",
       "        vertical-align: top;\n",
       "    }\n",
       "\n",
       "    .dataframe thead th {\n",
       "        text-align: right;\n",
       "    }\n",
       "</style>\n",
       "<table border=\"1\" class=\"dataframe\">\n",
       "  <thead>\n",
       "    <tr style=\"text-align: right;\">\n",
       "      <th></th>\n",
       "      <th>MedInc</th>\n",
       "      <th>HouseAge</th>\n",
       "      <th>AveRooms</th>\n",
       "      <th>AveBedrms</th>\n",
       "      <th>Population</th>\n",
       "      <th>AveOccup</th>\n",
       "      <th>Latitude</th>\n",
       "      <th>Longitude</th>\n",
       "    </tr>\n",
       "  </thead>\n",
       "  <tbody>\n",
       "    <tr>\n",
       "      <th>0</th>\n",
       "      <td>8.3252</td>\n",
       "      <td>41.0</td>\n",
       "      <td>6.984127</td>\n",
       "      <td>1.023810</td>\n",
       "      <td>322.0</td>\n",
       "      <td>2.555556</td>\n",
       "      <td>37.88</td>\n",
       "      <td>-122.23</td>\n",
       "    </tr>\n",
       "    <tr>\n",
       "      <th>1</th>\n",
       "      <td>8.3014</td>\n",
       "      <td>21.0</td>\n",
       "      <td>6.238137</td>\n",
       "      <td>0.971880</td>\n",
       "      <td>2401.0</td>\n",
       "      <td>2.109842</td>\n",
       "      <td>37.86</td>\n",
       "      <td>-122.22</td>\n",
       "    </tr>\n",
       "    <tr>\n",
       "      <th>2</th>\n",
       "      <td>7.2574</td>\n",
       "      <td>52.0</td>\n",
       "      <td>8.288136</td>\n",
       "      <td>1.073446</td>\n",
       "      <td>496.0</td>\n",
       "      <td>2.802260</td>\n",
       "      <td>37.85</td>\n",
       "      <td>-122.24</td>\n",
       "    </tr>\n",
       "    <tr>\n",
       "      <th>3</th>\n",
       "      <td>5.6431</td>\n",
       "      <td>52.0</td>\n",
       "      <td>5.817352</td>\n",
       "      <td>1.073059</td>\n",
       "      <td>558.0</td>\n",
       "      <td>2.547945</td>\n",
       "      <td>37.85</td>\n",
       "      <td>-122.25</td>\n",
       "    </tr>\n",
       "    <tr>\n",
       "      <th>4</th>\n",
       "      <td>3.8462</td>\n",
       "      <td>52.0</td>\n",
       "      <td>6.281853</td>\n",
       "      <td>1.081081</td>\n",
       "      <td>565.0</td>\n",
       "      <td>2.181467</td>\n",
       "      <td>37.85</td>\n",
       "      <td>-122.25</td>\n",
       "    </tr>\n",
       "  </tbody>\n",
       "</table>\n",
       "</div>"
      ],
      "text/plain": [
       "   MedInc  HouseAge  AveRooms  AveBedrms  Population  AveOccup  Latitude  \\\n",
       "0  8.3252      41.0  6.984127   1.023810       322.0  2.555556     37.88   \n",
       "1  8.3014      21.0  6.238137   0.971880      2401.0  2.109842     37.86   \n",
       "2  7.2574      52.0  8.288136   1.073446       496.0  2.802260     37.85   \n",
       "3  5.6431      52.0  5.817352   1.073059       558.0  2.547945     37.85   \n",
       "4  3.8462      52.0  6.281853   1.081081       565.0  2.181467     37.85   \n",
       "\n",
       "   Longitude  \n",
       "0    -122.23  \n",
       "1    -122.22  \n",
       "2    -122.24  \n",
       "3    -122.25  \n",
       "4    -122.25  "
      ]
     },
     "execution_count": 178,
     "metadata": {},
     "output_type": "execute_result"
    }
   ],
   "source": [
    "X_dataframe = pd.DataFrame(X, columns = california.feature_names)\n",
    "X_dataframe.head()"
   ]
  },
  {
   "attachments": {},
   "cell_type": "markdown",
   "metadata": {},
   "source": [
    "There are several more ways of getting data into a format our model can understand. For example, by reading SQL tables into Pandas dataframes. This is by no means an exhaustive list. The important point is that we start with some source data and split it into dependent and independent variables (*i.e.* target and features)."
   ]
  },
  {
   "attachments": {},
   "cell_type": "markdown",
   "metadata": {},
   "source": [
    "### Fitting the Model\n",
    "\n",
    "Once we've loaded in our data and split it into the target and features, we can begin fitting our model. In the case of supervised learning, fitting a model just means that we learn how the target arises from the features. \n",
    "\n",
    "Certain models have assumptions built into them (like the target being a linear combination of the features), and others are more flexible. These assumptions will affect the patterns that are extracted from the data and the overall quality of a model's fit.\n",
    "\n",
    "The model we choose should be guided by:\n",
    "1. The type of data we have (*i.e.* is it categorical or continuous),\n",
    "2. The underlying relationships we expect to see between the features and target (or relationships that we've discovered during EDA).\n",
    "\n",
    "We'll focus on the first consideration for now."
   ]
  },
  {
   "attachments": {},
   "cell_type": "markdown",
   "metadata": {},
   "source": [
    "--- \n",
    "\n",
    "**Class Discussion Exercise**: From the models we have learned thus far, which is used to predict a categorical target and which is used to predict a continuous target?\n",
    "\n",
    "---"
   ]
  },
  {
   "attachments": {},
   "cell_type": "markdown",
   "metadata": {},
   "source": [
    "Once we've chosen a model and have put our data in the correct format, we can fit the model to the data using the `model.fit()` method. All of the models we've seen up to this point are *linear models*, (*i.e.* the target is predicted using a linear combination of the features). Most of these are located in `sklearn.linear_model` module  - for more information, see http://scikit-learn.org/stable/modules/linear_model.html. "
   ]
  },
  {
   "attachments": {},
   "cell_type": "markdown",
   "metadata": {},
   "source": [
    "### Example: Fitting a Linear Regression Model\n",
    "\n",
    "The first example of fitting a model with `scikit-learn` will be using the California housing data. We could fit a linear regression model using all of the features (8 in total), but for ease of visualization let's just pick one feature, the median income in the given block."
   ]
  },
  {
   "cell_type": "code",
   "execution_count": 179,
   "metadata": {},
   "outputs": [],
   "source": [
    "from sklearn.datasets import fetch_california_housing\n",
    "\n",
    "california = fetch_california_housing()\n",
    "# The dependent variable\n",
    "y = california.target\n",
    "# Take the first column (median income in block) as the independent variable\n",
    "X = california.data[:, 0]"
   ]
  },
  {
   "attachments": {},
   "cell_type": "markdown",
   "metadata": {},
   "source": [
    "#### Check the Shape of the Data \n",
    "\n",
    "When using `scikit-learn`, we have to be very specific about the shape of the data that the model will expect. In particular, \n",
    "- the features matrix, $X$ must be two dimensional: `(nrows, ncols)`\n",
    "- the target vector, $y$ must be one dimensional, *i.e.* a vector: `(nrows,)`"
   ]
  },
  {
   "cell_type": "code",
   "execution_count": 180,
   "metadata": {},
   "outputs": [
    {
     "data": {
      "text/plain": [
       "(20640,)"
      ]
     },
     "execution_count": 180,
     "metadata": {},
     "output_type": "execute_result"
    }
   ],
   "source": [
    "X.shape"
   ]
  },
  {
   "cell_type": "code",
   "execution_count": 181,
   "metadata": {},
   "outputs": [
    {
     "data": {
      "text/plain": [
       "(20640,)"
      ]
     },
     "execution_count": 181,
     "metadata": {},
     "output_type": "execute_result"
    }
   ],
   "source": [
    "y.shape"
   ]
  },
  {
   "attachments": {},
   "cell_type": "markdown",
   "metadata": {},
   "source": [
    "Since here our feature matrix $X$ only has variable and so is one dimensional, we'll have to make sure to reshape it to make it 2-D with dimensions `(20640, 1)`:"
   ]
  },
  {
   "cell_type": "code",
   "execution_count": 182,
   "metadata": {},
   "outputs": [],
   "source": [
    "# .reshape() takes in (nrown, ncols) as its arguements\n",
    "# We are asking for 1 column and 20640 rows\n",
    "X = X.reshape(20640, 1)\n",
    "\n",
    "# More common is to use the syntax below to accomplish the same reshaping\n",
    "# We are asking for 1 column and for however many rows needed to contain the data)\n",
    "# X = X.reshape(-1, 1)"
   ]
  },
  {
   "cell_type": "code",
   "execution_count": 183,
   "metadata": {},
   "outputs": [
    {
     "data": {
      "text/plain": [
       "(20640, 1)"
      ]
     },
     "execution_count": 183,
     "metadata": {},
     "output_type": "execute_result"
    }
   ],
   "source": [
    "X.shape"
   ]
  },
  {
   "attachments": {},
   "cell_type": "markdown",
   "metadata": {},
   "source": [
    "This is now exactly what we need! We can now move on to fitting a model. \n",
    "\n",
    "To build a model to fit to this data, we first define it using the appropriate model type from the `linear_model` sub-module. Here we will be using the `LinearRegression` model. First, we create a variable to hold our unfit model. This is called _instantiating_ the model. Then we use the `.fit()` method to learn the relationship between the dependent and independent variables. At this step, all of the necessary calculations are made, including the calculation of model coefficients (parameters). "
   ]
  },
  {
   "cell_type": "code",
   "execution_count": 184,
   "metadata": {},
   "outputs": [
    {
     "data": {
      "text/html": [
       "<style>#sk-container-id-14 {color: black;background-color: white;}#sk-container-id-14 pre{padding: 0;}#sk-container-id-14 div.sk-toggleable {background-color: white;}#sk-container-id-14 label.sk-toggleable__label {cursor: pointer;display: block;width: 100%;margin-bottom: 0;padding: 0.3em;box-sizing: border-box;text-align: center;}#sk-container-id-14 label.sk-toggleable__label-arrow:before {content: \"▸\";float: left;margin-right: 0.25em;color: #696969;}#sk-container-id-14 label.sk-toggleable__label-arrow:hover:before {color: black;}#sk-container-id-14 div.sk-estimator:hover label.sk-toggleable__label-arrow:before {color: black;}#sk-container-id-14 div.sk-toggleable__content {max-height: 0;max-width: 0;overflow: hidden;text-align: left;background-color: #f0f8ff;}#sk-container-id-14 div.sk-toggleable__content pre {margin: 0.2em;color: black;border-radius: 0.25em;background-color: #f0f8ff;}#sk-container-id-14 input.sk-toggleable__control:checked~div.sk-toggleable__content {max-height: 200px;max-width: 100%;overflow: auto;}#sk-container-id-14 input.sk-toggleable__control:checked~label.sk-toggleable__label-arrow:before {content: \"▾\";}#sk-container-id-14 div.sk-estimator input.sk-toggleable__control:checked~label.sk-toggleable__label {background-color: #d4ebff;}#sk-container-id-14 div.sk-label input.sk-toggleable__control:checked~label.sk-toggleable__label {background-color: #d4ebff;}#sk-container-id-14 input.sk-hidden--visually {border: 0;clip: rect(1px 1px 1px 1px);clip: rect(1px, 1px, 1px, 1px);height: 1px;margin: -1px;overflow: hidden;padding: 0;position: absolute;width: 1px;}#sk-container-id-14 div.sk-estimator {font-family: monospace;background-color: #f0f8ff;border: 1px dotted black;border-radius: 0.25em;box-sizing: border-box;margin-bottom: 0.5em;}#sk-container-id-14 div.sk-estimator:hover {background-color: #d4ebff;}#sk-container-id-14 div.sk-parallel-item::after {content: \"\";width: 100%;border-bottom: 1px solid gray;flex-grow: 1;}#sk-container-id-14 div.sk-label:hover label.sk-toggleable__label {background-color: #d4ebff;}#sk-container-id-14 div.sk-serial::before {content: \"\";position: absolute;border-left: 1px solid gray;box-sizing: border-box;top: 0;bottom: 0;left: 50%;z-index: 0;}#sk-container-id-14 div.sk-serial {display: flex;flex-direction: column;align-items: center;background-color: white;padding-right: 0.2em;padding-left: 0.2em;position: relative;}#sk-container-id-14 div.sk-item {position: relative;z-index: 1;}#sk-container-id-14 div.sk-parallel {display: flex;align-items: stretch;justify-content: center;background-color: white;position: relative;}#sk-container-id-14 div.sk-item::before, #sk-container-id-14 div.sk-parallel-item::before {content: \"\";position: absolute;border-left: 1px solid gray;box-sizing: border-box;top: 0;bottom: 0;left: 50%;z-index: -1;}#sk-container-id-14 div.sk-parallel-item {display: flex;flex-direction: column;z-index: 1;position: relative;background-color: white;}#sk-container-id-14 div.sk-parallel-item:first-child::after {align-self: flex-end;width: 50%;}#sk-container-id-14 div.sk-parallel-item:last-child::after {align-self: flex-start;width: 50%;}#sk-container-id-14 div.sk-parallel-item:only-child::after {width: 0;}#sk-container-id-14 div.sk-dashed-wrapped {border: 1px dashed gray;margin: 0 0.4em 0.5em 0.4em;box-sizing: border-box;padding-bottom: 0.4em;background-color: white;}#sk-container-id-14 div.sk-label label {font-family: monospace;font-weight: bold;display: inline-block;line-height: 1.2em;}#sk-container-id-14 div.sk-label-container {text-align: center;}#sk-container-id-14 div.sk-container {/* jupyter's `normalize.less` sets `[hidden] { display: none; }` but bootstrap.min.css set `[hidden] { display: none !important; }` so we also need the `!important` here to be able to override the default hidden behavior on the sphinx rendered scikit-learn.org. See: https://github.com/scikit-learn/scikit-learn/issues/21755 */display: inline-block !important;position: relative;}#sk-container-id-14 div.sk-text-repr-fallback {display: none;}</style><div id=\"sk-container-id-14\" class=\"sk-top-container\"><div class=\"sk-text-repr-fallback\"><pre>LinearRegression()</pre><b>In a Jupyter environment, please rerun this cell to show the HTML representation or trust the notebook. <br />On GitHub, the HTML representation is unable to render, please try loading this page with nbviewer.org.</b></div><div class=\"sk-container\" hidden><div class=\"sk-item\"><div class=\"sk-estimator sk-toggleable\"><input class=\"sk-toggleable__control sk-hidden--visually\" id=\"sk-estimator-id-14\" type=\"checkbox\" checked><label for=\"sk-estimator-id-14\" class=\"sk-toggleable__label sk-toggleable__label-arrow\">LinearRegression</label><div class=\"sk-toggleable__content\"><pre>LinearRegression()</pre></div></div></div></div></div>"
      ],
      "text/plain": [
       "LinearRegression()"
      ]
     },
     "execution_count": 184,
     "metadata": {},
     "output_type": "execute_result"
    }
   ],
   "source": [
    "from sklearn.linear_model import LinearRegression\n",
    "\n",
    "# 1. Instantiate the model\n",
    "linear_regression_model = LinearRegression()\n",
    "\n",
    "# 2. Fit the model -- gradient descent\n",
    "linear_regression_model.fit(X, y)"
   ]
  },
  {
   "attachments": {},
   "cell_type": "markdown",
   "metadata": {},
   "source": [
    "The `linear_regression_model` object now holds all of the information about our model. There is no summary table as when we used the `statsmodels` package, but we can extract those values one-by-one if required.\n",
    "\n",
    "In fact, to see what is stored within the `linear_regression_model` variable, we can add a period at the end in a block of code hit tab. This should pull out a list of methods and attributes specific to that variable and display them via Jupyter's autocomplete functionality:"
   ]
  },
  {
   "cell_type": "code",
   "execution_count": 185,
   "metadata": {},
   "outputs": [
    {
     "data": {
      "text/plain": [
       "array([272.93370681])"
      ]
     },
     "execution_count": 185,
     "metadata": {},
     "output_type": "execute_result"
    }
   ],
   "source": [
    "# uncomment the following line, place your cursor at the end of the line and click tab\n",
    "linear_regression_model.singular_"
   ]
  },
  {
   "cell_type": "code",
   "execution_count": 186,
   "metadata": {},
   "outputs": [
    {
     "data": {
      "text/plain": [
       "array([0.41793849])"
      ]
     },
     "execution_count": 186,
     "metadata": {},
     "output_type": "execute_result"
    }
   ],
   "source": [
    "linear_regression_model.coef_"
   ]
  },
  {
   "cell_type": "code",
   "execution_count": null,
   "metadata": {},
   "outputs": [],
   "source": []
  },
  {
   "cell_type": "code",
   "execution_count": null,
   "metadata": {},
   "outputs": [],
   "source": []
  },
  {
   "attachments": {},
   "cell_type": "markdown",
   "metadata": {},
   "source": [
    "Calculated model parameters and other special values related to the `.fit()` method in sklearn objects are stored in attributes with names ending in an underscore (`_`). For our linear regression model, the coefficients and intercept are contained in the following:\n",
    "\n",
    "**Intercept**: `linear_regression_model.intercept_`\n",
    "\n",
    "**Coefficients**: `linear_regression_model.coef_`\n",
    "\n",
    "Other statistics that we know from using `statsmodels` (such as $p$-values) are not calculated in `scikit-learn`. This is because this package is machine-learning oriented and focuses more on predictions, rather than statistical details. "
   ]
  },
  {
   "attachments": {},
   "cell_type": "markdown",
   "metadata": {},
   "source": [
    "We can always pull out the intercept and coefficients if needed:"
   ]
  },
  {
   "cell_type": "code",
   "execution_count": 187,
   "metadata": {},
   "outputs": [
    {
     "name": "stdout",
     "output_type": "stream",
     "text": [
      "Intercept: 0.4508557670326798\n",
      "Coefficients: 0.41793849201896255\n"
     ]
    }
   ],
   "source": [
    "#The intercept\n",
    "intercept = linear_regression_model.intercept_\n",
    "\n",
    "#The coefficient, notice it returns an array with one spot for each feature\n",
    "coefficient = linear_regression_model.coef_[0]\n",
    "\n",
    "print(f'Intercept: {intercept}')\n",
    "print(f'Coefficients: {coefficient}')\n"
   ]
  },
  {
   "attachments": {},
   "cell_type": "markdown",
   "metadata": {},
   "source": [
    "And we can plot our model:"
   ]
  },
  {
   "cell_type": "code",
   "execution_count": 188,
   "metadata": {},
   "outputs": [
    {
     "data": {
      "image/png": "[encoded data removed]",
      "text/plain": [
       "<Figure size 640x480 with 1 Axes>"
      ]
     },
     "metadata": {},
     "output_type": "display_data"
    }
   ],
   "source": [
    "# define line of best fit, (y = m*x + b)\n",
    "y_model = coefficient*X + intercept\n",
    "\n",
    "# create the plot\n",
    "plt.figure()\n",
    "plt.scatter(X, y, color='red')  # plot the data\n",
    "plt.plot(X, y_model, color='purple', linewidth=3)  # plot the line of best fit\n",
    "plt.xlabel('Median income on the block')\n",
    "plt.ylabel('House price')\n",
    "plt.show()"
   ]
  },
  {
   "attachments": {},
   "cell_type": "markdown",
   "metadata": {},
   "source": [
    "Fitting any other model essentially follows the same process, once we have the data loaded into a format scikit-learn can use we:\n",
    "1. Pick and instantiate a model with `my_model_instance = sklearn_model()`\n",
    "2. Fit the model to the data with `my_model_instance.fit(X, y)`"
   ]
  },
  {
   "attachments": {},
   "cell_type": "markdown",
   "metadata": {},
   "source": [
    "#### Making Predictions and Evaluating\n",
    "\n",
    "Once we have fit a model to the features, $X$, and target, $y$, we can test the relationship it learned between the dependent and independent variables. \n",
    "\n",
    "Given a set of independent variables $X'$ (which may or may not be the same as our original $X$), we can use `my_model_instance.predict(X')` to find what the model thinks the corresponding dependent variable ($y'$) is.\n",
    "\n",
    "Let's pass in the original $X$ data to get our model's prediction for each data point:"
   ]
  },
  {
   "cell_type": "code",
   "execution_count": 189,
   "metadata": {},
   "outputs": [],
   "source": [
    "model_prediction = linear_regression_model.predict(X)"
   ]
  },
  {
   "attachments": {},
   "cell_type": "markdown",
   "metadata": {},
   "source": [
    "If we want to visualize the model predictions and the actual values together we can plot them:"
   ]
  },
  {
   "cell_type": "code",
   "execution_count": 190,
   "metadata": {},
   "outputs": [
    {
     "data": {
      "image/png": "[encoded data removed]",
      "text/plain": [
       "<Figure size 640x480 with 1 Axes>"
      ]
     },
     "metadata": {},
     "output_type": "display_data"
    }
   ],
   "source": [
    "plt.figure()\n",
    "plt.scatter(X, y, c='red', label='data') # plot original data\n",
    "plt.scatter(X, model_prediction, c='blue', label='predictions') # plot predictions\n",
    "plt.legend()\n",
    "plt.xlabel('Median income on the block')\n",
    "plt.ylabel('House price')\n",
    "plt.show()"
   ]
  },
  {
   "attachments": {},
   "cell_type": "markdown",
   "metadata": {},
   "source": [
    "As expected, these predictions lie right on the line of best fit and they don't seem to match the data well. We can get an empirical evaluation of the model using the $R^2$, which we can calculate using the `r2_score` function from the `metrics` sub-module:"
   ]
  },
  {
   "cell_type": "code",
   "execution_count": 191,
   "metadata": {},
   "outputs": [
    {
     "name": "stdout",
     "output_type": "stream",
     "text": [
      "The R2 score: 0.47344749180719903\n"
     ]
    }
   ],
   "source": [
    "from sklearn.metrics import r2_score\n",
    "\n",
    "# Evaluate the model\n",
    "print(f'The R2 score: {r2_score(y, model_prediction)}')"
   ]
  },
  {
   "attachments": {},
   "cell_type": "markdown",
   "metadata": {},
   "source": [
    "The intuition we had from the plots turned out to be true, the model wasn't a great fit to the data."
   ]
  },
  {
   "attachments": {},
   "cell_type": "markdown",
   "metadata": {},
   "source": [
    "Above we used 2 steps to get the $R^2$ score: \n",
    "\n",
    "- `my_model.predict()`\n",
    "- `r2_score()`\n",
    "\n",
    "To get the $R^2$ in 1 step, we can use our model's built-in scoring method: `my_model.score()`"
   ]
  },
  {
   "cell_type": "code",
   "execution_count": 192,
   "metadata": {},
   "outputs": [
    {
     "data": {
      "text/plain": [
       "0.47344749180719903"
      ]
     },
     "execution_count": 192,
     "metadata": {},
     "output_type": "execute_result"
    }
   ],
   "source": [
    "# 3. Scoring the model\n",
    "linear_regression_model.score(X, y)"
   ]
  },
  {
   "attachments": {},
   "cell_type": "markdown",
   "metadata": {},
   "source": [
    "The `.score()` method returns different scores for different types of models — so bear this in mind depending on the type of problem you are working on and be careful in your interpretations. For regression models, `.score()` returns the $R^2$ score. For classification models, it returns the accuracy score, as we will see shortly with a logistic regression example."
   ]
  },
  {
   "attachments": {},
   "cell_type": "markdown",
   "metadata": {},
   "source": [
    "#### Summary\n",
    "\n",
    "In summary, fitting any model in `scikit-learn` consists of 3 steps: \n",
    "\n",
    "1. Instantiate\n",
    "2. Fit \n",
    "3. Score"
   ]
  },
  {
   "attachments": {},
   "cell_type": "markdown",
   "metadata": {},
   "source": [
    "#### Saving a Model\n",
    "\n",
    "Once we have a model that we are happy with, we often want to save it for future use. `scikit-learn` models may be saved as `.pkl` files, and we can create them using the `joblib.dump()` function.\n",
    "\n",
    "All we need to do is import the function, and specify the model instance we'd like to save and filename we want to use."
   ]
  },
  {
   "cell_type": "code",
   "execution_count": 193,
   "metadata": {},
   "outputs": [
    {
     "data": {
      "text/plain": [
       "['my_linreg_model.pkl']"
      ]
     },
     "execution_count": 193,
     "metadata": {},
     "output_type": "execute_result"
    }
   ],
   "source": [
    "import joblib\n",
    "\n",
    "joblib.dump(linear_regression_model, 'my_linreg_model.pkl') "
   ]
  },
  {
   "attachments": {},
   "cell_type": "markdown",
   "metadata": {},
   "source": [
    "We can now reload the model into a variable anytime we'd like to use it. (This can even be done in a new notebook or a different computer as long as the file is accessible.)"
   ]
  },
  {
   "cell_type": "code",
   "execution_count": 194,
   "metadata": {},
   "outputs": [],
   "source": [
    "my_new_model = joblib.load('my_linreg_model.pkl') "
   ]
  },
  {
   "attachments": {},
   "cell_type": "markdown",
   "metadata": {},
   "source": [
    "This model can now be used exactly as the original one was, as all the model parameters and attributes calculated during the fitting step have been saved:"
   ]
  },
  {
   "cell_type": "code",
   "execution_count": 195,
   "metadata": {},
   "outputs": [
    {
     "name": "stdout",
     "output_type": "stream",
     "text": [
      "0.47344749180719903\n"
     ]
    }
   ],
   "source": [
    "print(my_new_model.score(X, y))"
   ]
  },
  {
   "attachments": {},
   "cell_type": "markdown",
   "metadata": {},
   "source": [
    "### Example: Fitting a Logistic Regression Model\n",
    "\n",
    "We will now look at fitting a logistic regression model with `scikit-learn`. We will be using a randomly generated data set."
   ]
  },
  {
   "cell_type": "code",
   "execution_count": 196,
   "metadata": {},
   "outputs": [],
   "source": [
    "np.random.seed(12345)\n",
    "# Generating data of two classes\n",
    "\n",
    "# Data has one feature where the first 20 data points come from one distribution\n",
    "# and the other 20 come from a different distribution (to mimic two classes)\n",
    "X = pd.DataFrame(np.array(np.concatenate((np.random.randn(20) + (-1), np.random.randn(20) + (+1)), axis=0)),\n",
    "                 columns=['mydata'])\n",
    "\n",
    "# The target contains 20 1's and 20 0's\n",
    "y = pd.Series(np.full((40), 0))\n",
    "y.loc[:20] = 1"
   ]
  },
  {
   "attachments": {},
   "cell_type": "markdown",
   "metadata": {},
   "source": [
    "#### Check the Shape of the Data \n",
    "\n",
    "Remember that we have to check the shape of the data and it has to be in the following format:\n",
    "- the features matrix, $X$ must be two dimensional: `(nrows, ncols)`\n",
    "- the target vector, $y$ must be one dimensional, *i.e.* a vector: `(nrows,)`"
   ]
  },
  {
   "cell_type": "code",
   "execution_count": 197,
   "metadata": {},
   "outputs": [
    {
     "data": {
      "text/plain": [
       "(40, 1)"
      ]
     },
     "execution_count": 197,
     "metadata": {},
     "output_type": "execute_result"
    }
   ],
   "source": [
    "X.shape"
   ]
  },
  {
   "cell_type": "code",
   "execution_count": 198,
   "metadata": {},
   "outputs": [
    {
     "data": {
      "text/plain": [
       "(40,)"
      ]
     },
     "execution_count": 198,
     "metadata": {},
     "output_type": "execute_result"
    }
   ],
   "source": [
    "y.shape"
   ]
  },
  {
   "attachments": {},
   "cell_type": "markdown",
   "metadata": {},
   "source": [
    "This is exactly what we need! We can move on to fitting a model."
   ]
  },
  {
   "attachments": {},
   "cell_type": "markdown",
   "metadata": {},
   "source": [
    "Remember that we will need to complete three steps in the model fitting process: \n",
    "\n",
    "1. Instantiate\n",
    "2. Fit\n",
    "3. Score\n",
    "\n",
    "But since this is a classification task, we will use a `LogisticRegression` model (also imported from the `linear_model` module):"
   ]
  },
  {
   "cell_type": "code",
   "execution_count": 199,
   "metadata": {},
   "outputs": [
    {
     "data": {
      "text/html": [
       "<style>#sk-container-id-15 {color: black;background-color: white;}#sk-container-id-15 pre{padding: 0;}#sk-container-id-15 div.sk-toggleable {background-color: white;}#sk-container-id-15 label.sk-toggleable__label {cursor: pointer;display: block;width: 100%;margin-bottom: 0;padding: 0.3em;box-sizing: border-box;text-align: center;}#sk-container-id-15 label.sk-toggleable__label-arrow:before {content: \"▸\";float: left;margin-right: 0.25em;color: #696969;}#sk-container-id-15 label.sk-toggleable__label-arrow:hover:before {color: black;}#sk-container-id-15 div.sk-estimator:hover label.sk-toggleable__label-arrow:before {color: black;}#sk-container-id-15 div.sk-toggleable__content {max-height: 0;max-width: 0;overflow: hidden;text-align: left;background-color: #f0f8ff;}#sk-container-id-15 div.sk-toggleable__content pre {margin: 0.2em;color: black;border-radius: 0.25em;background-color: #f0f8ff;}#sk-container-id-15 input.sk-toggleable__control:checked~div.sk-toggleable__content {max-height: 200px;max-width: 100%;overflow: auto;}#sk-container-id-15 input.sk-toggleable__control:checked~label.sk-toggleable__label-arrow:before {content: \"▾\";}#sk-container-id-15 div.sk-estimator input.sk-toggleable__control:checked~label.sk-toggleable__label {background-color: #d4ebff;}#sk-container-id-15 div.sk-label input.sk-toggleable__control:checked~label.sk-toggleable__label {background-color: #d4ebff;}#sk-container-id-15 input.sk-hidden--visually {border: 0;clip: rect(1px 1px 1px 1px);clip: rect(1px, 1px, 1px, 1px);height: 1px;margin: -1px;overflow: hidden;padding: 0;position: absolute;width: 1px;}#sk-container-id-15 div.sk-estimator {font-family: monospace;background-color: #f0f8ff;border: 1px dotted black;border-radius: 0.25em;box-sizing: border-box;margin-bottom: 0.5em;}#sk-container-id-15 div.sk-estimator:hover {background-color: #d4ebff;}#sk-container-id-15 div.sk-parallel-item::after {content: \"\";width: 100%;border-bottom: 1px solid gray;flex-grow: 1;}#sk-container-id-15 div.sk-label:hover label.sk-toggleable__label {background-color: #d4ebff;}#sk-container-id-15 div.sk-serial::before {content: \"\";position: absolute;border-left: 1px solid gray;box-sizing: border-box;top: 0;bottom: 0;left: 50%;z-index: 0;}#sk-container-id-15 div.sk-serial {display: flex;flex-direction: column;align-items: center;background-color: white;padding-right: 0.2em;padding-left: 0.2em;position: relative;}#sk-container-id-15 div.sk-item {position: relative;z-index: 1;}#sk-container-id-15 div.sk-parallel {display: flex;align-items: stretch;justify-content: center;background-color: white;position: relative;}#sk-container-id-15 div.sk-item::before, #sk-container-id-15 div.sk-parallel-item::before {content: \"\";position: absolute;border-left: 1px solid gray;box-sizing: border-box;top: 0;bottom: 0;left: 50%;z-index: -1;}#sk-container-id-15 div.sk-parallel-item {display: flex;flex-direction: column;z-index: 1;position: relative;background-color: white;}#sk-container-id-15 div.sk-parallel-item:first-child::after {align-self: flex-end;width: 50%;}#sk-container-id-15 div.sk-parallel-item:last-child::after {align-self: flex-start;width: 50%;}#sk-container-id-15 div.sk-parallel-item:only-child::after {width: 0;}#sk-container-id-15 div.sk-dashed-wrapped {border: 1px dashed gray;margin: 0 0.4em 0.5em 0.4em;box-sizing: border-box;padding-bottom: 0.4em;background-color: white;}#sk-container-id-15 div.sk-label label {font-family: monospace;font-weight: bold;display: inline-block;line-height: 1.2em;}#sk-container-id-15 div.sk-label-container {text-align: center;}#sk-container-id-15 div.sk-container {/* jupyter's `normalize.less` sets `[hidden] { display: none; }` but bootstrap.min.css set `[hidden] { display: none !important; }` so we also need the `!important` here to be able to override the default hidden behavior on the sphinx rendered scikit-learn.org. See: https://github.com/scikit-learn/scikit-learn/issues/21755 */display: inline-block !important;position: relative;}#sk-container-id-15 div.sk-text-repr-fallback {display: none;}</style><div id=\"sk-container-id-15\" class=\"sk-top-container\"><div class=\"sk-text-repr-fallback\"><pre>LogisticRegression()</pre><b>In a Jupyter environment, please rerun this cell to show the HTML representation or trust the notebook. <br />On GitHub, the HTML representation is unable to render, please try loading this page with nbviewer.org.</b></div><div class=\"sk-container\" hidden><div class=\"sk-item\"><div class=\"sk-estimator sk-toggleable\"><input class=\"sk-toggleable__control sk-hidden--visually\" id=\"sk-estimator-id-15\" type=\"checkbox\" checked><label for=\"sk-estimator-id-15\" class=\"sk-toggleable__label sk-toggleable__label-arrow\">LogisticRegression</label><div class=\"sk-toggleable__content\"><pre>LogisticRegression()</pre></div></div></div></div></div>"
      ],
      "text/plain": [
       "LogisticRegression()"
      ]
     },
     "execution_count": 199,
     "metadata": {},
     "output_type": "execute_result"
    }
   ],
   "source": [
    "from sklearn.linear_model import LogisticRegression\n",
    "\n",
    "# 1. Instantiate the model\n",
    "logistic_regression_model = LogisticRegression()\n",
    "\n",
    "# 2. Fit the model\n",
    "logistic_regression_model.fit(X, y)"
   ]
  },
  {
   "attachments": {},
   "cell_type": "markdown",
   "metadata": {},
   "source": [
    "The `logistic_regression_model` variable now holds all of the information regarding our model. We can again pull out the coefficients if needed."
   ]
  },
  {
   "cell_type": "code",
   "execution_count": 200,
   "metadata": {},
   "outputs": [
    {
     "name": "stdout",
     "output_type": "stream",
     "text": [
      "Intercept: [0.17490132]\n",
      "Coefficients: [-1.14984997]\n"
     ]
    }
   ],
   "source": [
    "#The intercept\n",
    "intercept = logistic_regression_model.intercept_\n",
    "\n",
    "#The coefficient, notice it returns an array with one entry for each feature\n",
    "coefficient = logistic_regression_model.coef_[0]\n",
    "\n",
    "print(f'Intercept: {intercept}')\n",
    "print(f'Coefficients: {coefficient}')"
   ]
  },
  {
   "attachments": {},
   "cell_type": "markdown",
   "metadata": {},
   "source": [
    "#### Making Predictions and Evaluating\n",
    "\n",
    "We can again use `.predict()` to get the prediction the model makes for each data point it was fitted to:"
   ]
  },
  {
   "cell_type": "code",
   "execution_count": 201,
   "metadata": {},
   "outputs": [],
   "source": [
    "model_prediction = logistic_regression_model.predict(X)"
   ]
  },
  {
   "attachments": {},
   "cell_type": "markdown",
   "metadata": {},
   "source": [
    "If we want to visualize the model predictions and the actual values together we can plot them:"
   ]
  },
  {
   "cell_type": "code",
   "execution_count": 202,
   "metadata": {},
   "outputs": [
    {
     "data": {
      "image/png": "[encoded data removed]",
      "text/plain": [
       "<Figure size 640x480 with 1 Axes>"
      ]
     },
     "metadata": {},
     "output_type": "display_data"
    }
   ],
   "source": [
    "plt.figure()\n",
    "# plot the predictions\n",
    "plt.scatter(X, model_prediction, c='blue', label=\"predictions\") \n",
    "# plot original data (with the y-values offset a tiny bit to reduce overlap)\n",
    "plt.scatter(X, y+0.1, c ='red', label=\"data\")\n",
    "plt.legend()\n",
    "plt.xlabel('X value')\n",
    "plt.ylabel('class label (0 or 1)')\n",
    "plt.show()"
   ]
  },
  {
   "attachments": {},
   "cell_type": "markdown",
   "metadata": {},
   "source": [
    "This prediction appears pretty good, there are some mistakes in the middle, but this is to be expected for any model of this type.\n",
    "\n",
    "\n",
    "For classification tasks (categorical dependent variable) a common evaluation metric is the *accuracy score* - this is the fraction of data points for which our model correctly predicts the category. `scikit-learn` includes a function, `accuracy_score()`, which can compute this for us (there are many other classification metrics to be explored as well)."
   ]
  },
  {
   "cell_type": "code",
   "execution_count": 203,
   "metadata": {},
   "outputs": [
    {
     "data": {
      "text/plain": [
       "0.7"
      ]
     },
     "execution_count": 203,
     "metadata": {},
     "output_type": "execute_result"
    }
   ],
   "source": [
    "from sklearn.metrics import accuracy_score\n",
    "\n",
    "accuracy_score(y, model_prediction)"
   ]
  },
  {
   "attachments": {},
   "cell_type": "markdown",
   "metadata": {},
   "source": [
    "This seems like a reasonable accuracy for our model and matches what we saw visually above."
   ]
  },
  {
   "attachments": {},
   "cell_type": "markdown",
   "metadata": {},
   "source": [
    "Similar to the linear regression model, we used 2 steps to get the accuracy score: \n",
    "\n",
    "- `my_model.predict()`\n",
    "- `accuracy_score()`\n",
    "\n",
    "We can also calculate the accuracy score in 1 step using the `my_model.score()` method. Recall that the `.score()` method returns the accuracy score for a classification model.\n",
    "\n",
    "So instead of predicting and calculating the accuracy with the predictions, we can just do:"
   ]
  },
  {
   "cell_type": "code",
   "execution_count": 204,
   "metadata": {},
   "outputs": [
    {
     "data": {
      "text/plain": [
       "0.7"
      ]
     },
     "execution_count": 204,
     "metadata": {},
     "output_type": "execute_result"
    }
   ],
   "source": [
    "# 3. Score the model\n",
    "logistic_regression_model.score(X,y)"
   ]
  },
  {
   "attachments": {},
   "cell_type": "markdown",
   "metadata": {},
   "source": [
    "#### Predicting on Unseen Data"
   ]
  },
  {
   "attachments": {},
   "cell_type": "markdown",
   "metadata": {},
   "source": [
    "We can also use the `.predict()` method to make predictions on data the model was _not_ fitted to. Let's say we acquired more data from the same source (in this case, we generate more data points in the same fashion):"
   ]
  },
  {
   "cell_type": "code",
   "execution_count": 205,
   "metadata": {},
   "outputs": [],
   "source": [
    "np.random.seed(12345)\n",
    "\n",
    "# Generate 40 more points (use almost the same method)\n",
    "X_new = pd.DataFrame(np.array(np.concatenate(\n",
    "    (2*np.random.randn(20) + (-1), 2*np.random.randn(20) + (+1)), axis=0)))\n",
    "y_new = pd.DataFrame(np.full((40), 0))\n",
    "y_new.loc[:20] = 1"
   ]
  },
  {
   "attachments": {},
   "cell_type": "markdown",
   "metadata": {},
   "source": [
    "We will now try to predict the target for this data using the previously fit model, without refitting it on the new data.\n",
    "\n",
    "The idea is that if the new data comes from the same source as the original, the previously fit model should make pretty good predictions, even if it hasn't seen the new data."
   ]
  },
  {
   "cell_type": "code",
   "execution_count": 206,
   "metadata": {},
   "outputs": [
    {
     "name": "stderr",
     "output_type": "stream",
     "text": [
      "c:\\ProgramData\\Anaconda3\\lib\\site-packages\\sklearn\\base.py:439: UserWarning: X does not have valid feature names, but LogisticRegression was fitted with feature names\n",
      "  warnings.warn(\n"
     ]
    }
   ],
   "source": [
    "# Have the model predict the target for the new points\n",
    "model_prediction_new = logistic_regression_model.predict(X_new)"
   ]
  },
  {
   "cell_type": "code",
   "execution_count": 207,
   "metadata": {},
   "outputs": [
    {
     "data": {
      "image/png": "[encoded data removed]",
      "text/plain": [
       "<Figure size 640x480 with 1 Axes>"
      ]
     },
     "metadata": {},
     "output_type": "display_data"
    }
   ],
   "source": [
    "# plotting the new data\n",
    "plt.scatter(X_new, y_new+0.1,  color='red',label=\"new data\")\n",
    "# plotting the predictions for the new data\n",
    "plt.scatter(X_new, model_prediction_new, color='blue',label=\"new data predictions\")\n",
    "plt.legend()\n",
    "plt.xlabel('X value')\n",
    "plt.ylabel('class label (0 or 1)')\n",
    "plt.show()"
   ]
  },
  {
   "attachments": {},
   "cell_type": "markdown",
   "metadata": {},
   "source": [
    "These predictions appear slightly less accurate. We can calculate the accuracy score of our model on the new data and compare it to the accuracy score on the original data used to fit the model."
   ]
  },
  {
   "cell_type": "code",
   "execution_count": 208,
   "metadata": {},
   "outputs": [
    {
     "name": "stdout",
     "output_type": "stream",
     "text": [
      "Score on data model was fitted to\n"
     ]
    },
    {
     "data": {
      "text/plain": [
       "0.7"
      ]
     },
     "execution_count": 208,
     "metadata": {},
     "output_type": "execute_result"
    }
   ],
   "source": [
    "print('Score on data model was fitted to')\n",
    "\n",
    "logistic_regression_model.score(X,y)"
   ]
  },
  {
   "cell_type": "code",
   "execution_count": 209,
   "metadata": {},
   "outputs": [
    {
     "name": "stdout",
     "output_type": "stream",
     "text": [
      "Score on data model was NOT fitted to\n"
     ]
    },
    {
     "name": "stderr",
     "output_type": "stream",
     "text": [
      "c:\\ProgramData\\Anaconda3\\lib\\site-packages\\sklearn\\base.py:439: UserWarning: X does not have valid feature names, but LogisticRegression was fitted with feature names\n",
      "  warnings.warn(\n"
     ]
    },
    {
     "data": {
      "text/plain": [
       "0.575"
      ]
     },
     "execution_count": 209,
     "metadata": {},
     "output_type": "execute_result"
    }
   ],
   "source": [
    "print('Score on data model was NOT fitted to')\n",
    "\n",
    "logistic_regression_model.score(X_new,y_new)"
   ]
  },
  {
   "attachments": {},
   "cell_type": "markdown",
   "metadata": {},
   "source": [
    "The intuition we had from the plots turned out to be true, the model's predictions are worse for the data it had not seen before."
   ]
  },
  {
   "attachments": {},
   "cell_type": "markdown",
   "metadata": {},
   "source": [
    "**The Goal in Machine Learning:**\n",
    "\n",
    "The scores we saw above might make sense intuitively. In fact, a model's score on unseen data will nearly always be lower. \n",
    "\n",
    "In machine learning, though, the goal is to fit a model that will generalize well to new incoming data without actually fitting to this new data. Hence, when we evaluate a model, we will always calculate one score based on the data on which it *was* fit and another score based on the data it was *not*.\n",
    "\n",
    "We typically want to make sure that these two scores are very close to each other. And the true test for a model's predictive power will be its score on the data it has not yet seen."
   ]
  },
  {
   "attachments": {},
   "cell_type": "markdown",
   "metadata": {},
   "source": [
    "---\n",
    "\n",
    "#### Exercise 1:\n",
    "\n",
    "The `iris` dataset is the Hello World of machine learning and is available through `scikit-learn`.\n",
    "1. Load the data in using `scikit-learn`. Explore the data set. How many rows and columns are there? Is the target continuous or categorical?\n",
    "2. Of all the models we know so far, which model should be used for this data?\n",
    "3. Let's artificially create a scenario where we have some data that we fit the model to and some new data on which we will evaluate the model. Write some code that will randomly split the data into two sets, a smaller one and a larger one. (*Hint*: use a list of the numbers 1 to 150 (# of data points), shuffle it, and use it to pull out the two sets of data).\n",
    "4. Fit the model on the larger set of data, then calculate scores using both sets. Did the model predict well on the smaller set of data it hadn't seen?\n",
    "\n",
    "---"
   ]
  },
  {
   "attachments": {},
   "cell_type": "markdown",
   "metadata": {},
   "source": [
    "### The Train/Test Split\n",
    "\n",
    "The sets of data we created in the previous exercise are standard practice in machine learning. The two sets are called the *training set* and the *test set*.\n",
    "\n",
    "The model of interest will be fit on the training data and will be evaluated on both the training data and test data. The reason for splitting our data into train and test sets is to ensure models do not *overfit* to the data they are trained on and can generalize to new data. \n",
    "\n",
    "Since this is a standard procedure in model fitting, `scikit-learn` has a built-in function `train_test_split()`. This function expects the features, target variable, and a split size argument. It divides the data into a training set, which contains a random group of the data, and a test set, which contains the remainder of the data. The split size dictates the relative size of the two sets (for a full list of features see: http://scikit-learn.org/stable/modules/generated/sklearn.model_selection.train_test_split.html)."
   ]
  },
  {
   "attachments": {},
   "cell_type": "markdown",
   "metadata": {},
   "source": [
    "Let's go back to the iris data set and use the `train_test_split` function."
   ]
  },
  {
   "cell_type": "code",
   "execution_count": 253,
   "metadata": {},
   "outputs": [],
   "source": [
    "from sklearn.model_selection import train_test_split\n",
    "from sklearn.datasets import load_iris\n",
    "\n",
    "# Get the data:\n",
    "iris = load_iris()"
   ]
  },
  {
   "cell_type": "code",
   "execution_count": null,
   "metadata": {},
   "outputs": [],
   "source": [
    "\n",
    "y = iris.target\n",
    "X = iris.data\n",
    "\n",
    "# Split the data so the test set contains 20% of the points\n",
    "# (the training set will contain the rest of the points)\n",
    "# random state is setting the seed for the random split\n",
    "X_train, X_test, y_train, y_test = train_test_split(X, y, test_size=0.2, random_state=17)"
   ]
  },
  {
   "cell_type": "code",
   "execution_count": 255,
   "metadata": {},
   "outputs": [
    {
     "data": {
      "text/plain": [
       "[0, 1, 2, 3, 4, 5, 6, 7, 8, 9]"
      ]
     },
     "execution_count": 255,
     "metadata": {},
     "output_type": "execute_result"
    }
   ],
   "source": [
    "my_numbers = list(range(150)) ; my_numbers[:10]\n",
    "\n"
   ]
  },
  {
   "cell_type": "code",
   "execution_count": 256,
   "metadata": {},
   "outputs": [],
   "source": [
    "import random\n",
    "\n",
    "random.shuffle(my_numbers)"
   ]
  },
  {
   "cell_type": "code",
   "execution_count": 260,
   "metadata": {},
   "outputs": [
    {
     "data": {
      "text/plain": [
       "30"
      ]
     },
     "execution_count": 260,
     "metadata": {},
     "output_type": "execute_result"
    }
   ],
   "source": [
    "size_of_small = int(.2 * 150); size_of_small"
   ]
  },
  {
   "cell_type": "code",
   "execution_count": 263,
   "metadata": {},
   "outputs": [
    {
     "data": {
      "text/plain": [
       "30"
      ]
     },
     "execution_count": 263,
     "metadata": {},
     "output_type": "execute_result"
    }
   ],
   "source": [
    "smaller_set_ind = my_numbers[:size_of_small]\n",
    "larger_set_ind = my_numbers[size_of_small:] ; len(smaller_set_ind)"
   ]
  },
  {
   "cell_type": "code",
   "execution_count": null,
   "metadata": {},
   "outputs": [],
   "source": []
  },
  {
   "cell_type": "code",
   "execution_count": 249,
   "metadata": {},
   "outputs": [
    {
     "data": {
      "text/html": [
       "<div>\n",
       "<style scoped>\n",
       "    .dataframe tbody tr th:only-of-type {\n",
       "        vertical-align: middle;\n",
       "    }\n",
       "\n",
       "    .dataframe tbody tr th {\n",
       "        vertical-align: top;\n",
       "    }\n",
       "\n",
       "    .dataframe thead th {\n",
       "        text-align: right;\n",
       "    }\n",
       "</style>\n",
       "<table border=\"1\" class=\"dataframe\">\n",
       "  <thead>\n",
       "    <tr style=\"text-align: right;\">\n",
       "      <th></th>\n",
       "      <th>0</th>\n",
       "    </tr>\n",
       "  </thead>\n",
       "  <tbody>\n",
       "    <tr>\n",
       "      <th>0</th>\n",
       "      <td>0</td>\n",
       "    </tr>\n",
       "    <tr>\n",
       "      <th>1</th>\n",
       "      <td>0</td>\n",
       "    </tr>\n",
       "    <tr>\n",
       "      <th>2</th>\n",
       "      <td>0</td>\n",
       "    </tr>\n",
       "    <tr>\n",
       "      <th>3</th>\n",
       "      <td>0</td>\n",
       "    </tr>\n",
       "    <tr>\n",
       "      <th>4</th>\n",
       "      <td>0</td>\n",
       "    </tr>\n",
       "    <tr>\n",
       "      <th>...</th>\n",
       "      <td>...</td>\n",
       "    </tr>\n",
       "    <tr>\n",
       "      <th>145</th>\n",
       "      <td>2</td>\n",
       "    </tr>\n",
       "    <tr>\n",
       "      <th>146</th>\n",
       "      <td>2</td>\n",
       "    </tr>\n",
       "    <tr>\n",
       "      <th>147</th>\n",
       "      <td>2</td>\n",
       "    </tr>\n",
       "    <tr>\n",
       "      <th>148</th>\n",
       "      <td>2</td>\n",
       "    </tr>\n",
       "    <tr>\n",
       "      <th>149</th>\n",
       "      <td>2</td>\n",
       "    </tr>\n",
       "  </tbody>\n",
       "</table>\n",
       "<p>150 rows × 1 columns</p>\n",
       "</div>"
      ],
      "text/plain": [
       "     0\n",
       "0    0\n",
       "1    0\n",
       "2    0\n",
       "3    0\n",
       "4    0\n",
       "..  ..\n",
       "145  2\n",
       "146  2\n",
       "147  2\n",
       "148  2\n",
       "149  2\n",
       "\n",
       "[150 rows x 1 columns]"
      ]
     },
     "execution_count": 249,
     "metadata": {},
     "output_type": "execute_result"
    }
   ],
   "source": [
    "pd.DataFrame(iris.target)"
   ]
  },
  {
   "cell_type": "code",
   "execution_count": 241,
   "metadata": {},
   "outputs": [
    {
     "data": {
      "text/html": [
       "<div>\n",
       "<style scoped>\n",
       "    .dataframe tbody tr th:only-of-type {\n",
       "        vertical-align: middle;\n",
       "    }\n",
       "\n",
       "    .dataframe tbody tr th {\n",
       "        vertical-align: top;\n",
       "    }\n",
       "\n",
       "    .dataframe thead th {\n",
       "        text-align: right;\n",
       "    }\n",
       "</style>\n",
       "<table border=\"1\" class=\"dataframe\">\n",
       "  <thead>\n",
       "    <tr style=\"text-align: right;\">\n",
       "      <th></th>\n",
       "      <th>0</th>\n",
       "      <th>1</th>\n",
       "      <th>2</th>\n",
       "      <th>3</th>\n",
       "    </tr>\n",
       "  </thead>\n",
       "  <tbody>\n",
       "    <tr>\n",
       "      <th>0</th>\n",
       "      <td>5.1</td>\n",
       "      <td>3.5</td>\n",
       "      <td>1.4</td>\n",
       "      <td>0.2</td>\n",
       "    </tr>\n",
       "    <tr>\n",
       "      <th>1</th>\n",
       "      <td>4.9</td>\n",
       "      <td>3.0</td>\n",
       "      <td>1.4</td>\n",
       "      <td>0.2</td>\n",
       "    </tr>\n",
       "    <tr>\n",
       "      <th>2</th>\n",
       "      <td>4.7</td>\n",
       "      <td>3.2</td>\n",
       "      <td>1.3</td>\n",
       "      <td>0.2</td>\n",
       "    </tr>\n",
       "    <tr>\n",
       "      <th>3</th>\n",
       "      <td>4.6</td>\n",
       "      <td>3.1</td>\n",
       "      <td>1.5</td>\n",
       "      <td>0.2</td>\n",
       "    </tr>\n",
       "    <tr>\n",
       "      <th>4</th>\n",
       "      <td>5.0</td>\n",
       "      <td>3.6</td>\n",
       "      <td>1.4</td>\n",
       "      <td>0.2</td>\n",
       "    </tr>\n",
       "  </tbody>\n",
       "</table>\n",
       "</div>"
      ],
      "text/plain": [
       "     0    1    2    3\n",
       "0  5.1  3.5  1.4  0.2\n",
       "1  4.9  3.0  1.4  0.2\n",
       "2  4.7  3.2  1.3  0.2\n",
       "3  4.6  3.1  1.5  0.2\n",
       "4  5.0  3.6  1.4  0.2"
      ]
     },
     "execution_count": 241,
     "metadata": {},
     "output_type": "execute_result"
    }
   ],
   "source": [
    "pd.DataFrame(np.array(iris.data)).head()\n"
   ]
  },
  {
   "cell_type": "code",
   "execution_count": 242,
   "metadata": {},
   "outputs": [
    {
     "data": {
      "text/plain": [
       "array([0, 1, 2])"
      ]
     },
     "execution_count": 242,
     "metadata": {},
     "output_type": "execute_result"
    }
   ],
   "source": [
    "pd.DataFrame(np.array(y.data))[0].unique()\n"
   ]
  },
  {
   "attachments": {},
   "cell_type": "markdown",
   "metadata": {},
   "source": [
    "Now that we have the data split, we can fit and evaluate the model on the appropriate sets, respectively:"
   ]
  },
  {
   "cell_type": "code",
   "execution_count": 269,
   "metadata": {},
   "outputs": [
    {
     "name": "stdout",
     "output_type": "stream",
     "text": [
      "0.975\n",
      "0.9666666666666667\n"
     ]
    }
   ],
   "source": [
    "# 1. Instantiate model \n",
    "logistic_regression_model = LogisticRegression(max_iter=1000)\n",
    "\n",
    "# 2. Fit model on the training data\n",
    "logistic_regression_model.fit(X_train, y_train)\n",
    "\n",
    "# 3. Score on the training data \n",
    "print(logistic_regression_model.score(X_train, y_train))\n",
    "\n",
    "# 4. Score on the testing data\n",
    "print(logistic_regression_model.score(X_test, y_test))"
   ]
  },
  {
   "cell_type": "code",
   "execution_count": 265,
   "metadata": {},
   "outputs": [
    {
     "data": {
      "image/png": "[encoded data removed]",
      "text/plain": [
       "<Figure size 1000x700 with 2 Axes>"
      ]
     },
     "metadata": {},
     "output_type": "display_data"
    }
   ],
   "source": [
    "import seaborn as sns\n",
    "from sklearn.metrics import confusion_matrix\n",
    "import matplotlib.pyplot as plt\n",
    "\n",
    "# Predict the values from the test data\n",
    "y_pred = logistic_regression_model.predict(X_test)\n",
    "\n",
    "# Compute confusion matrix\n",
    "cnf_matrix = confusion_matrix(y_test, y_pred)\n",
    "\n",
    "# Plot confusion matrix using seaborn\n",
    "plt.figure(figsize=(10,7))\n",
    "sns.heatmap(cnf_matrix, annot=True, fmt='d', cmap='Blues')\n",
    "plt.xlabel('Predicted')\n",
    "plt.ylabel('True')\n",
    "plt.show()\n"
   ]
  },
  {
   "attachments": {},
   "cell_type": "markdown",
   "metadata": {},
   "source": [
    "*Note: we can ignore the warnings here*\n",
    "\n",
    "As we saw with the earlier examples, the accuracy is slightly higher for the data on which the model was fit."
   ]
  },
  {
   "attachments": {},
   "cell_type": "markdown",
   "metadata": {},
   "source": [
    "###  Overfitting \n",
    "\n",
    "Overfitting is when a model goes beyond fitting to the trend in the data and starts fitting to noise. This noise _happens_ to be correlated with the target variable in our data, and so increases performance metrics, but if we were given new data about the same phenomenon, our model would no longer perform so well.\n",
    "\n",
    "<img src = \"https://drive.google.com/uc?export=view&id=1I0h7hk2qBel8NvykkeYAJh6eIGiwEycg\" width = 800 >\n",
    "\n",
    "We can detect overfitting by comparing performance scores on the training set and the test set. \n",
    "- If the training score and test score are both low, that's a sign of _underfitting_. The model hasn't picked up the relationship between the features and target. \n",
    "- If the training score and test score are both high, that's a sign of a good fit. The model has picked up the relationship between the features and target.\n",
    "- If the training score is much higher than the test score, that's a sign of _overfitting_. The model has fit to noise in the training set, missing out on the underlying relationship between the features and target.\n",
    "\n",
    "One of the main reasons for withholding a test set is for it to act as an unbiased sample and measure of model performance. It allows us to evaluate whether our model has picked up the general trend in the training data or whether it has been overfit to random noise in the particular data on which we happened to train it.\n",
    "\n",
    "In the iris dataset example earlier, the performance was pretty similar between the train and test sets, so it doesn't seem like overfitting is a problem there."
   ]
  },
  {
   "attachments": {},
   "cell_type": "markdown",
   "metadata": {},
   "source": [
    "---\n",
    "#### Exercise 2\n",
    "\n",
    "1. Load the breast cancer data set from `scikit-learn` using the code below. Each row in this dataset is a tumor found in a patient and the columns contain different measurements thereof. The goal is to model whether the tumor is benign or malignant based on its measurements. Fit a logistic regression model using 25% of the data in the test set and evaluate the performance on both sets of data. Repeat this with a test set size of 75%. Do you see any pattern in the results? "
   ]
  },
  {
   "cell_type": "code",
   "execution_count": 311,
   "metadata": {},
   "outputs": [
    {
     "name": "stdout",
     "output_type": "stream",
     "text": [
      "Training Acurracy: 0.9582417582417583\n",
      "Testing Acurracy: 0.8947368421052632\n"
     ]
    }
   ],
   "source": [
    "from sklearn.datasets import load_breast_cancer\n",
    "from sklearn.model_selection import train_test_split\n",
    "\n",
    "# Load in the breast cancer data\n",
    "cancer = load_breast_cancer()\n",
    "X = cancer.data\n",
    "y = cancer.target\n",
    "\n",
    "# NOTE: Here we add some random noise to the X data to make this\n",
    "# a more difficult classification problem\n",
    "random_state = np.random.RandomState(10)\n",
    "n_samples, n_features = X.shape\n",
    "X = X + (random_state.randn(n_samples, n_features) * 10)\n",
    "\n",
    "# Your code goes here\n",
    "X_train, X_test, y_train, y_test = train_test_split(X, y, test_size=0.2, random_state=random_state)\n",
    "\n",
    "\n",
    "\n",
    "# 1. Instantiate model \n",
    "logistic_regression_model = LogisticRegression(max_iter=1000)\n",
    "\n",
    "# 2. Fit model on the training data\n",
    "logistic_regression_model.fit(X_train, y_train)\n",
    "\n",
    "# 3. Score on the training data \n",
    "print(f'Training Acurracy: {logistic_regression_model.score(X_train, y_train)}')\n",
    "\n",
    "# 4. Score on the testing data\n",
    "print(f'Testing Acurracy: {logistic_regression_model.score(X_test, y_test)}')"
   ]
  },
  {
   "attachments": {},
   "cell_type": "markdown",
   "metadata": {},
   "source": [
    "2. Imagine we had just run many different model fits on a dataset, each with a different proportion of data in the training set. Our results are below. Run the script to plot the training and test set scores across different split sizes. How do you explain what is going on in the graph? Is there any pattern? \n",
    "\n",
    "_Note: While this is an interesting exercise, optimizing test scores based upon the size of the split is not something that should be done in practice. The goal of using a test set is to have an unbiased measure of how well our models would do on new, unseen data. So normally we will decide on a train/test split at the beginning and stick with it throughout our entire analysis._"
   ]
  },
  {
   "cell_type": "code",
   "execution_count": 312,
   "metadata": {},
   "outputs": [
    {
     "data": {
      "image/png": "[encoded data removed]",
      "text/plain": [
       "<Figure size 640x480 with 1 Axes>"
      ]
     },
     "metadata": {},
     "output_type": "display_data"
    }
   ],
   "source": [
    "'''\n",
    "Plot train/test split\n",
    "'''\n",
    "\n",
    "# lists of training and test accuracies/scores\n",
    "train_scores = [0.88284688, 0.88846094, 0.79057243, 0.78705259,\\\n",
    "                0.78778089, 0.76681602, 0.76445634, 0.77297187, 0.76286908]\n",
    "test_scores = [0.45039566, 0.64134249, 0.66715683, 0.67892978,\\\n",
    "            0.66617014, 0.68817849, 0.67352809, 0.68920115, 0.68513161]\n",
    "\n",
    "split_range = np.arange(.1,1,.1) \n",
    "\n",
    "plt.axvline(.2)\n",
    "plt.plot(split_range, test_scores,  color='red',label=\"test set\")\n",
    "plt.plot(split_range, train_scores, color='blue',label=\"training set\")\n",
    "plt.ylabel('Score (closer to 1 is better)')\n",
    "plt.xlabel('Fraction of data in the training set')\n",
    "plt.legend()\n",
    "plt.show()"
   ]
  },
  {
   "attachments": {},
   "cell_type": "markdown",
   "metadata": {},
   "source": [
    "---"
   ]
  },
  {
   "attachments": {},
   "cell_type": "markdown",
   "metadata": {},
   "source": [
    "### Regularization\n",
    "\n",
    "What would be our next step if our model was overfitting to the training data? With linear and logistic regression models, we have the option of using *regularization*.\n",
    "\n",
    "Broadly speaking, regularization refers to altering the optimization problem so that we arrive at different model parameters. When a model is trained, the coefficients are calculated based on the data given to it. Hence, these parameters control both the fit and behavior of the model. \n",
    "\n",
    "Ideally, we want to have a way to adjust how the model parameters are calculated to control how the model learns based on the training data."
   ]
  },
  {
   "attachments": {},
   "cell_type": "markdown",
   "metadata": {},
   "source": [
    "#### Penalty for the Cost Function\n",
    "For both linear and logistic regression, to calculate the model parameters (coefficients), we need to solve some optimization problem, *i.e.* optimize against a cost function. For the linear models we have seen thus far, these cost functions are based upon the following:\n",
    "\n",
    "- Linear regression: Minimize the sum of squared residuals (SSR) to find the coefficients\n",
    "- Logistic regression: Maximize the likelihood to find the coefficients \n",
    "\n",
    "To apply regularization means to alter what we are trying to optimize to hopefully end up at better model parameters and hence models which generalize better to unseen data.\n",
    "\n",
    "To achieve this in linear regression, we add in a 'penalty' term to the SSR to penalize large model coefficients. We then try to minimize the SSR plus this penalty and this becomes our new optimization problem. \n",
    "\n",
    "To achieve this in logistic regression, we add in a 'penalty' term to the likelihood. We then try to minimize the likelihood plus this penalty and this becomes our new optimization problem. "
   ]
  },
  {
   "attachments": {},
   "cell_type": "markdown",
   "metadata": {},
   "source": [
    "#### L1 and L2 Penalties\n",
    "\n",
    "If our goal is to shrink extreme coefficient values, there are two penalties that we can add. \n",
    "\n",
    "The first is the $L2$ penalty:\n",
    "\n",
    "$$P(\\beta) = \\alpha \\sum_i \\beta_i ^2$$\n",
    "\n",
    "$$Cost = SSR + \\alpha \\sum_i \\beta_i ^2$$\n",
    "\n",
    "Using the $L2$ penalty is also called *Ridge Regression*. \n",
    "\n",
    "We can also use the $L1$ penalty:\n",
    "\n",
    "$$P(\\beta) = \\alpha \\sum_i |\\beta_i|$$\n",
    "\n",
    "$$Cost = SSR + \\alpha \\sum_i |\\beta_i|$$\n",
    "\n",
    "Using this penalty is called *Lasso Regression*.\n",
    "\n",
    "The $\\alpha$ term is the weight of the regularization. The higher it is, the more the penalty term affects the calculation of the parameters. Whatever regression we pick, the model is now biased to select smaller coefficients - the $\\beta$ terms - as when these become large, greater penalties will be applied. Since the underlying optimization goal has been changed, the trained model will likely be different, usually returning a different solution for its parameters."
   ]
  },
  {
   "attachments": {},
   "cell_type": "markdown",
   "metadata": {},
   "source": [
    "#### Comparison of L1 and L2\n",
    "Now that we have a basic understanding of what regularization is and how it is applied to Linear and Logistic Regression, let's compare the $L1$ and $L2$ penalties in more detail. We will start by plotting the underlying functions of both L1 and L2, the absolute value function and the square function:"
   ]
  },
  {
   "cell_type": "code",
   "execution_count": null,
   "metadata": {},
   "outputs": [
    {
     "data": {
      "image/png": "[encoded data removed]",
      "text/plain": [
       "<Figure size 640x480 with 1 Axes>"
      ]
     },
     "metadata": {},
     "output_type": "display_data"
    }
   ],
   "source": [
    "# Data points for creating the lines in our visual.\n",
    "x = np.linspace(-1.5, 1.5, 100)\n",
    "\n",
    "# Plot x^2 and abs(x) on the same visual\n",
    "plt.plot()\n",
    "plt.plot(x, np.abs(x), label=\"L1: $y = |x|$\")\n",
    "plt.plot(x, np.power(x, 2), label=\"L2: $y = x^2$\")\n",
    "plt.title(\"Comparision of Regularization Functions\")\n",
    "plt.legend()\n",
    "plt.xlabel(\"x\")\n",
    "plt.ylabel(\"y\")\n",
    "plt.show()"
   ]
  },
  {
   "attachments": {},
   "cell_type": "markdown",
   "metadata": {},
   "source": [
    "There are a few similarities and differences between these two functions that are of interest to us:\n",
    "1. $L2$ regularization provides much greater penalties than $L1$ for large coefficients, but a smaller penalty for coefficients close to 0.\n",
    "2. Both $L1$ and $L2$ have the smallest penalties at 0, this encourages the coefficients to become smaller, or even shrink them to 0. In fact, with the $L1$ penalty (Lasso), the parameters can be brought directly to 0 while with the $L2$ penalty (Ridge) they can get close to 0 but never be exactly 0."
   ]
  },
  {
   "attachments": {},
   "cell_type": "markdown",
   "metadata": {},
   "source": [
    "#### Regularization and Multicollinearity\n",
    "In addition to overfitting, regularization tends to help with the issue of multicollinearity, as it reduces the effect of many of the features included in the model. $L1$ regularization is often thought of as an automatic way of performing feature selection as it can potentially force some of the coefficients to 0."
   ]
  },
  {
   "attachments": {},
   "cell_type": "markdown",
   "metadata": {},
   "source": [
    "#### Regularization With `scikit-learn`\n",
    "Now that we have an understanding of how regularization works, let's implement it in `scikit-learn`. "
   ]
  },
  {
   "attachments": {},
   "cell_type": "markdown",
   "metadata": {},
   "source": [
    "#### Logistic Regression\n",
    "We can set the regularization type with the `penalty` parameter and the inverse of the weight with the `C` parameter (in our above equation $\\alpha = 1/C$). \n",
    "\n",
    "    1. penalty: The type of regularization method used (defaults to L2)\n",
    "    2. C: The inverse of the regularization strength (lower values mean a stronger regularization term)\n",
    "    \n",
    "In `scikit-learn`, when fitting a logistic regression model, the default settings apply $L2$ regularization with a weight ($\\alpha$ or $C$) of $1$. If you would like to turn it off, you need to set `penalty='none'` when initializing the model."
   ]
  },
  {
   "attachments": {},
   "cell_type": "markdown",
   "metadata": {},
   "source": [
    "#### Linear Regression\n",
    "For linear regression, in order to fit a model with regularization, we use the `linear_model.Ridge()` or `linear_model.Lasso()` and control the strength of the penalty ($\\alpha$) by the `alpha` parameter. \n",
    "\n",
    "For more detail see the official documentation on these model types: [Ridge](https://scikit-learn.org/stable/modules/generated/sklearn.linear_model.Ridge.html), [Lasso](https://scikit-learn.org/stable/modules/generated/sklearn.linear_model.Lasso.html#sklearn.linear_model.Lasso)"
   ]
  },
  {
   "attachments": {},
   "cell_type": "markdown",
   "metadata": {},
   "source": [
    "#### Example of the Effects of Regularization Using `scikit-learn`\n",
    "We now know what regularization does and how to apply it using `scikit-learn`. Let's explore the effect of regularization on a toy example to better solidify our understanding and motivation for its use."
   ]
  },
  {
   "cell_type": "code",
   "execution_count": null,
   "metadata": {},
   "outputs": [],
   "source": [
    "# Create a simple train set\n",
    "X_train = np.array([1.0, 1.1, 1.3, 1.5, 1.6, 1.8, 2.0]).reshape(-1,1)\n",
    "y_train = np.array([1.0, 2.1, 2.1, 2.0, 3.0, 2.6, 3.5])\n",
    "\n",
    "# Create a simple test set\n",
    "X_test = np.array([1.3, 1.6, 1.8, 2.6, 3.5, 4.0]).reshape(-1,1)\n",
    "y_test = np.array([1.4, 2.6, 3.1, 3.2, 4.6, 5.2])"
   ]
  },
  {
   "attachments": {},
   "cell_type": "markdown",
   "metadata": {},
   "source": [
    "We will start by fitting two linear regression models on the training data set. One without regularization and the other using $L2$ regularization (Ridge Regression)."
   ]
  },
  {
   "cell_type": "code",
   "execution_count": null,
   "metadata": {},
   "outputs": [
    {
     "data": {
      "text/html": [
       "<style>#sk-container-id-12 {color: black;background-color: white;}#sk-container-id-12 pre{padding: 0;}#sk-container-id-12 div.sk-toggleable {background-color: white;}#sk-container-id-12 label.sk-toggleable__label {cursor: pointer;display: block;width: 100%;margin-bottom: 0;padding: 0.3em;box-sizing: border-box;text-align: center;}#sk-container-id-12 label.sk-toggleable__label-arrow:before {content: \"▸\";float: left;margin-right: 0.25em;color: #696969;}#sk-container-id-12 label.sk-toggleable__label-arrow:hover:before {color: black;}#sk-container-id-12 div.sk-estimator:hover label.sk-toggleable__label-arrow:before {color: black;}#sk-container-id-12 div.sk-toggleable__content {max-height: 0;max-width: 0;overflow: hidden;text-align: left;background-color: #f0f8ff;}#sk-container-id-12 div.sk-toggleable__content pre {margin: 0.2em;color: black;border-radius: 0.25em;background-color: #f0f8ff;}#sk-container-id-12 input.sk-toggleable__control:checked~div.sk-toggleable__content {max-height: 200px;max-width: 100%;overflow: auto;}#sk-container-id-12 input.sk-toggleable__control:checked~label.sk-toggleable__label-arrow:before {content: \"▾\";}#sk-container-id-12 div.sk-estimator input.sk-toggleable__control:checked~label.sk-toggleable__label {background-color: #d4ebff;}#sk-container-id-12 div.sk-label input.sk-toggleable__control:checked~label.sk-toggleable__label {background-color: #d4ebff;}#sk-container-id-12 input.sk-hidden--visually {border: 0;clip: rect(1px 1px 1px 1px);clip: rect(1px, 1px, 1px, 1px);height: 1px;margin: -1px;overflow: hidden;padding: 0;position: absolute;width: 1px;}#sk-container-id-12 div.sk-estimator {font-family: monospace;background-color: #f0f8ff;border: 1px dotted black;border-radius: 0.25em;box-sizing: border-box;margin-bottom: 0.5em;}#sk-container-id-12 div.sk-estimator:hover {background-color: #d4ebff;}#sk-container-id-12 div.sk-parallel-item::after {content: \"\";width: 100%;border-bottom: 1px solid gray;flex-grow: 1;}#sk-container-id-12 div.sk-label:hover label.sk-toggleable__label {background-color: #d4ebff;}#sk-container-id-12 div.sk-serial::before {content: \"\";position: absolute;border-left: 1px solid gray;box-sizing: border-box;top: 0;bottom: 0;left: 50%;z-index: 0;}#sk-container-id-12 div.sk-serial {display: flex;flex-direction: column;align-items: center;background-color: white;padding-right: 0.2em;padding-left: 0.2em;position: relative;}#sk-container-id-12 div.sk-item {position: relative;z-index: 1;}#sk-container-id-12 div.sk-parallel {display: flex;align-items: stretch;justify-content: center;background-color: white;position: relative;}#sk-container-id-12 div.sk-item::before, #sk-container-id-12 div.sk-parallel-item::before {content: \"\";position: absolute;border-left: 1px solid gray;box-sizing: border-box;top: 0;bottom: 0;left: 50%;z-index: -1;}#sk-container-id-12 div.sk-parallel-item {display: flex;flex-direction: column;z-index: 1;position: relative;background-color: white;}#sk-container-id-12 div.sk-parallel-item:first-child::after {align-self: flex-end;width: 50%;}#sk-container-id-12 div.sk-parallel-item:last-child::after {align-self: flex-start;width: 50%;}#sk-container-id-12 div.sk-parallel-item:only-child::after {width: 0;}#sk-container-id-12 div.sk-dashed-wrapped {border: 1px dashed gray;margin: 0 0.4em 0.5em 0.4em;box-sizing: border-box;padding-bottom: 0.4em;background-color: white;}#sk-container-id-12 div.sk-label label {font-family: monospace;font-weight: bold;display: inline-block;line-height: 1.2em;}#sk-container-id-12 div.sk-label-container {text-align: center;}#sk-container-id-12 div.sk-container {/* jupyter's `normalize.less` sets `[hidden] { display: none; }` but bootstrap.min.css set `[hidden] { display: none !important; }` so we also need the `!important` here to be able to override the default hidden behavior on the sphinx rendered scikit-learn.org. See: https://github.com/scikit-learn/scikit-learn/issues/21755 */display: inline-block !important;position: relative;}#sk-container-id-12 div.sk-text-repr-fallback {display: none;}</style><div id=\"sk-container-id-12\" class=\"sk-top-container\"><div class=\"sk-text-repr-fallback\"><pre>LinearRegression()</pre><b>In a Jupyter environment, please rerun this cell to show the HTML representation or trust the notebook. <br />On GitHub, the HTML representation is unable to render, please try loading this page with nbviewer.org.</b></div><div class=\"sk-container\" hidden><div class=\"sk-item\"><div class=\"sk-estimator sk-toggleable\"><input class=\"sk-toggleable__control sk-hidden--visually\" id=\"sk-estimator-id-12\" type=\"checkbox\" checked><label for=\"sk-estimator-id-12\" class=\"sk-toggleable__label sk-toggleable__label-arrow\">LinearRegression</label><div class=\"sk-toggleable__content\"><pre>LinearRegression()</pre></div></div></div></div></div>"
      ],
      "text/plain": [
       "LinearRegression()"
      ]
     },
     "execution_count": 160,
     "metadata": {},
     "output_type": "execute_result"
    }
   ],
   "source": [
    "lin_reg = LinearRegression()\n",
    "lin_reg.fit(X_train, y_train)"
   ]
  },
  {
   "cell_type": "code",
   "execution_count": null,
   "metadata": {},
   "outputs": [
    {
     "data": {
      "text/html": [
       "<style>#sk-container-id-13 {color: black;background-color: white;}#sk-container-id-13 pre{padding: 0;}#sk-container-id-13 div.sk-toggleable {background-color: white;}#sk-container-id-13 label.sk-toggleable__label {cursor: pointer;display: block;width: 100%;margin-bottom: 0;padding: 0.3em;box-sizing: border-box;text-align: center;}#sk-container-id-13 label.sk-toggleable__label-arrow:before {content: \"▸\";float: left;margin-right: 0.25em;color: #696969;}#sk-container-id-13 label.sk-toggleable__label-arrow:hover:before {color: black;}#sk-container-id-13 div.sk-estimator:hover label.sk-toggleable__label-arrow:before {color: black;}#sk-container-id-13 div.sk-toggleable__content {max-height: 0;max-width: 0;overflow: hidden;text-align: left;background-color: #f0f8ff;}#sk-container-id-13 div.sk-toggleable__content pre {margin: 0.2em;color: black;border-radius: 0.25em;background-color: #f0f8ff;}#sk-container-id-13 input.sk-toggleable__control:checked~div.sk-toggleable__content {max-height: 200px;max-width: 100%;overflow: auto;}#sk-container-id-13 input.sk-toggleable__control:checked~label.sk-toggleable__label-arrow:before {content: \"▾\";}#sk-container-id-13 div.sk-estimator input.sk-toggleable__control:checked~label.sk-toggleable__label {background-color: #d4ebff;}#sk-container-id-13 div.sk-label input.sk-toggleable__control:checked~label.sk-toggleable__label {background-color: #d4ebff;}#sk-container-id-13 input.sk-hidden--visually {border: 0;clip: rect(1px 1px 1px 1px);clip: rect(1px, 1px, 1px, 1px);height: 1px;margin: -1px;overflow: hidden;padding: 0;position: absolute;width: 1px;}#sk-container-id-13 div.sk-estimator {font-family: monospace;background-color: #f0f8ff;border: 1px dotted black;border-radius: 0.25em;box-sizing: border-box;margin-bottom: 0.5em;}#sk-container-id-13 div.sk-estimator:hover {background-color: #d4ebff;}#sk-container-id-13 div.sk-parallel-item::after {content: \"\";width: 100%;border-bottom: 1px solid gray;flex-grow: 1;}#sk-container-id-13 div.sk-label:hover label.sk-toggleable__label {background-color: #d4ebff;}#sk-container-id-13 div.sk-serial::before {content: \"\";position: absolute;border-left: 1px solid gray;box-sizing: border-box;top: 0;bottom: 0;left: 50%;z-index: 0;}#sk-container-id-13 div.sk-serial {display: flex;flex-direction: column;align-items: center;background-color: white;padding-right: 0.2em;padding-left: 0.2em;position: relative;}#sk-container-id-13 div.sk-item {position: relative;z-index: 1;}#sk-container-id-13 div.sk-parallel {display: flex;align-items: stretch;justify-content: center;background-color: white;position: relative;}#sk-container-id-13 div.sk-item::before, #sk-container-id-13 div.sk-parallel-item::before {content: \"\";position: absolute;border-left: 1px solid gray;box-sizing: border-box;top: 0;bottom: 0;left: 50%;z-index: -1;}#sk-container-id-13 div.sk-parallel-item {display: flex;flex-direction: column;z-index: 1;position: relative;background-color: white;}#sk-container-id-13 div.sk-parallel-item:first-child::after {align-self: flex-end;width: 50%;}#sk-container-id-13 div.sk-parallel-item:last-child::after {align-self: flex-start;width: 50%;}#sk-container-id-13 div.sk-parallel-item:only-child::after {width: 0;}#sk-container-id-13 div.sk-dashed-wrapped {border: 1px dashed gray;margin: 0 0.4em 0.5em 0.4em;box-sizing: border-box;padding-bottom: 0.4em;background-color: white;}#sk-container-id-13 div.sk-label label {font-family: monospace;font-weight: bold;display: inline-block;line-height: 1.2em;}#sk-container-id-13 div.sk-label-container {text-align: center;}#sk-container-id-13 div.sk-container {/* jupyter's `normalize.less` sets `[hidden] { display: none; }` but bootstrap.min.css set `[hidden] { display: none !important; }` so we also need the `!important` here to be able to override the default hidden behavior on the sphinx rendered scikit-learn.org. See: https://github.com/scikit-learn/scikit-learn/issues/21755 */display: inline-block !important;position: relative;}#sk-container-id-13 div.sk-text-repr-fallback {display: none;}</style><div id=\"sk-container-id-13\" class=\"sk-top-container\"><div class=\"sk-text-repr-fallback\"><pre>Ridge()</pre><b>In a Jupyter environment, please rerun this cell to show the HTML representation or trust the notebook. <br />On GitHub, the HTML representation is unable to render, please try loading this page with nbviewer.org.</b></div><div class=\"sk-container\" hidden><div class=\"sk-item\"><div class=\"sk-estimator sk-toggleable\"><input class=\"sk-toggleable__control sk-hidden--visually\" id=\"sk-estimator-id-13\" type=\"checkbox\" checked><label for=\"sk-estimator-id-13\" class=\"sk-toggleable__label sk-toggleable__label-arrow\">Ridge</label><div class=\"sk-toggleable__content\"><pre>Ridge()</pre></div></div></div></div></div>"
      ],
      "text/plain": [
       "Ridge()"
      ]
     },
     "execution_count": 161,
     "metadata": {},
     "output_type": "execute_result"
    }
   ],
   "source": [
    "from sklearn.linear_model import Ridge\n",
    "\n",
    "ridge_reg = Ridge()\n",
    "ridge_reg.fit(X_train, y_train)"
   ]
  },
  {
   "attachments": {},
   "cell_type": "markdown",
   "metadata": {},
   "source": [
    "Fortunately, this is a very simple regression with just a single feature, so we can easily visualize the result by looking at the line of best fit overlayed on our data."
   ]
  },
  {
   "cell_type": "code",
   "execution_count": null,
   "metadata": {},
   "outputs": [],
   "source": [
    "# Data points for creating the line in our visual.\n",
    "x = np.linspace(1,2,10).reshape(-1,1)\n",
    "\n",
    "# Calculate the value of the points along the line of best fit.\n",
    "y_none = lin_reg.predict(x)\n",
    "y_ridge = ridge_reg.predict(x)"
   ]
  },
  {
   "cell_type": "code",
   "execution_count": null,
   "metadata": {},
   "outputs": [
    {
     "data": {
      "image/png": "[encoded data removed]",
      "text/plain": [
       "<Figure size 1200x500 with 1 Axes>"
      ]
     },
     "metadata": {},
     "output_type": "display_data"
    }
   ],
   "source": [
    "# Create a visual of the two lines of best fit with only the train data.\n",
    "plt.figure(figsize=(12,5))\n",
    "plt.scatter(X_train, y_train, label=\"Train Data\", s=50)\n",
    "plt.plot(x,y_none, label=\"Linear Regression (None)\", color=\"teal\")\n",
    "plt.plot(x,y_ridge, label=\"Ridge Regression (L2)\", color=\"indigo\")\n",
    "plt.title(\"Comparison of Linear Regression With and Without Regularization\")\n",
    "plt.xlabel(\"x\")\n",
    "plt.ylabel(\"y\")\n",
    "plt.legend()\n",
    "plt.show()"
   ]
  },
  {
   "cell_type": "code",
   "execution_count": null,
   "metadata": {},
   "outputs": [
    {
     "name": "stdout",
     "output_type": "stream",
     "text": [
      "R^2 of the Linear Regression (None) for train data: 0.7663946276607032\n",
      "R^2 of the Ridge Regression (L2) for train data: 0.5283440427271459\n"
     ]
    }
   ],
   "source": [
    "print(f\"R^2 of the Linear Regression (None) for train data: {lin_reg.score(X_train, y_train)}\")\n",
    "print(f\"R^2 of the Ridge Regression (L2) for train data: {ridge_reg.score(X_train, y_train)}\")"
   ]
  },
  {
   "attachments": {},
   "cell_type": "markdown",
   "metadata": {},
   "source": [
    "It looks like $L2$ regularization has made the slope of the best fit line less steep. This is exactly what we would expect as the slope of the best fit line is the coefficient of our model and regularization encourages our coefficients to be smaller.\n",
    "\n",
    "Based on this result, it looks like linear regression without regularization does a better job of fitting to our data. This is confirmed when we look at the $R^2$ scores as well. But remember, so far we are only looking at the training data. Let's create the same visual, but this time include the test data as well. "
   ]
  },
  {
   "cell_type": "code",
   "execution_count": null,
   "metadata": {},
   "outputs": [],
   "source": [
    "# Data points for creating the line in our visual.\n",
    "x = np.linspace(1,4,10).reshape(-1,1)\n",
    "\n",
    "# Calculate the value of the points along the line of best fit.\n",
    "y_none = lin_reg.predict(x)\n",
    "y_ridge = ridge_reg.predict(x)"
   ]
  },
  {
   "cell_type": "code",
   "execution_count": null,
   "metadata": {},
   "outputs": [
    {
     "data": {
      "image/png": "[encoded data removed]",
      "text/plain": [
       "<Figure size 1200x500 with 1 Axes>"
      ]
     },
     "metadata": {},
     "output_type": "display_data"
    }
   ],
   "source": [
    "# Create a visual of the two lines of best fit with the train and test data.\n",
    "plt.figure(figsize=(12,5))\n",
    "plt.scatter(X_train, y_train, label=\"Train Data\", s=50)\n",
    "plt.scatter(X_test, y_test, label=\"Test Data\", s=50)\n",
    "plt.plot(x,y_none, label=\"Linear Regression (None)\", color=\"teal\")\n",
    "plt.plot(x,y_ridge, label=\"Ridge Regression (L2)\", color=\"indigo\")\n",
    "plt.title(\"Comparison of Linear Regression With and Without Regularization\")\n",
    "plt.xlabel(\"x\")\n",
    "plt.ylabel(\"y\")\n",
    "plt.legend()\n",
    "plt.show()"
   ]
  },
  {
   "cell_type": "code",
   "execution_count": null,
   "metadata": {},
   "outputs": [
    {
     "name": "stdout",
     "output_type": "stream",
     "text": [
      "R^2 of the Linear Regression (None) for test data: 0.05794598917290794\n",
      "R^2 of the Ridge Regression (L2) for test data: 0.8226613847072138\n"
     ]
    }
   ],
   "source": [
    "print(f\"R^2 of the Linear Regression (None) for test data: {lin_reg.score(X_test, y_test)}\")\n",
    "print(f\"R^2 of the Ridge Regression (L2) for test data: {ridge_reg.score(X_test, y_test)}\")"
   ]
  },
  {
   "attachments": {},
   "cell_type": "markdown",
   "metadata": {},
   "source": [
    "When we include our test data we can see that the Ridge Regression ($L2$) is the better fit for our data. One of the features of this test set is that it has values beyond the range of our training data. If we were to trust the model with no regularization we would have overestimated these values, instead, regularization tells our model to not put as much trust in these trends. With many real datasets, some level of regularization tends to improve the performance of our models."
   ]
  },
  {
   "attachments": {},
   "cell_type": "markdown",
   "metadata": {},
   "source": [
    "---\n",
    "#### Exercise 3\n",
    "Using the iris data, let's try a few combinations of the `penalty` and `C` values to see if we can get closer accuracy values on the training and test data. \n",
    "\n",
    "Remember, the default settings are `penalty = 'l2', C=1`.\n",
    "\n",
    "Try: \n",
    "- `penalty = 'l2', C=0.1`\n",
    "- `penalty = 'l1', C=1, solver='liblinear'`\n",
    "- `penalty = 'l1', C=0.01, solver='liblinear'`\n",
    "\n",
    "Using all of these combinations and any others you tried, which model has the least overfitting (*i.e.* the closest accuracies on train and test set)?\n",
    "\n",
    "**Note on Solvers:** _Behind the scenes Logistic Regression uses a specific algorithm, called a solver, to determine the best coefficients of the model. There are many different solvers that we can employ depending on the characteristics of our data. Some of the solvers only support certain regularization methods, hence why we have provided alternative solvers for L1 regularization._\n",
    "\n",
    "---"
   ]
  },
  {
   "cell_type": "code",
   "execution_count": null,
   "metadata": {},
   "outputs": [],
   "source": [
    "from sklearn.model_selection import train_test_split\n",
    "from sklearn.datasets import load_iris\n",
    "   \n",
    "# Get the data:\n",
    "iris = load_iris()\n",
    "\n",
    "y = iris.target\n",
    "X = iris.data\n",
    "\n",
    "# Split the data so the test set contains 20% of the samples\n",
    "X_train, X_test, y_train, y_test = train_test_split(X, y, test_size=0.2, random_state=17)"
   ]
  },
  {
   "attachments": {},
   "cell_type": "markdown",
   "metadata": {},
   "source": [
    "<div id=\"container\" style=\"position:relative;\">\n",
    "<div style=\"position:relative; float:right\"><img style=\"height:25px\"\"width: 50px\" src =\"https://drive.google.com/uc?export=view&id=14VoXUJftgptWtdNhtNYVm6cjVmEWpki1\" />\n",
    "</div>\n",
    "</div>"
   ]
  }
 ],
 "metadata": {
  "hide_input": false,
  "kernelspec": {
   "display_name": "Python 3",
   "language": "python",
   "name": "python3"
  },
  "language_info": {
   "codemirror_mode": {
    "name": "ipython",
    "version": 3
   },
   "file_extension": ".py",
   "mimetype": "text/x-python",
   "name": "python",
   "nbconvert_exporter": "python",
   "pygments_lexer": "ipython3",
   "version": "3.9.16"
  }
 },
 "nbformat": 4,
 "nbformat_minor": 4
}
