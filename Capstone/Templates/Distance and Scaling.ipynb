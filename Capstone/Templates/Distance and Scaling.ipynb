{
 "cells": [
  {
   "cell_type": "markdown",
   "metadata": {
    "id": "tLAwnAYbHiy5",
    "toc-hr-collapsed": false
   },
   "source": [
    "<div id=\"container\" style=\"position:relative;\">\n",
    "<div style=\"float:left\"><h1> Scaling and Distances </h1></div>\n",
    "<div style=\"position:relative; float:right\"><img style=\"height:65px\" src =\"https://drive.google.com/uc?export=view&id=1EnB0x-fdqMp6I5iMoEBBEuxB_s7AmE2k\" />\n",
    "</div>\n",
    "</div>\n"
   ]
  },
  {
   "cell_type": "code",
   "execution_count": 1,
   "metadata": {
    "id": "q0g-cPv5Hiy9"
   },
   "outputs": [],
   "source": [
    "import numpy as np\n",
    "import pandas as pd\n",
    "import matplotlib.pyplot as plt\n",
    "import math"
   ]
  },
  {
   "cell_type": "markdown",
   "metadata": {
    "id": "MBLJHqgEHiy-",
    "toc-hr-collapsed": false
   },
   "source": [
    "## Distances\n",
    "\n",
    "With both the linear regression and logistic regression models we've seen so far, we have tried to answer a simple question: If a given feature increases by some amount $\\Delta x$ then how will a given target increase?\n",
    "\n",
    "For a linear regression, the coefficients tell us that if a certain feature increases by 1, our response $y$ will increase by $\\beta_i$, where $\\beta_i$ is the coefficient for feature $i$.\n",
    "\n",
    "For a logistic regression, the coefficients tell us that if a certain feature increases by 1, our odds of seeing the response as 1 vs 0 increase by a factor of $e^{\\beta_i}$.\n",
    "\n",
    "Both methods use some linear function to determine either the response for a regression problem, or the odds of a response for a classification problem. However, models we will explore in the future employ the notion of distance between points to perform both regression and classification. Therefore, we need to be familiar with certain definitions around the notion of distance."
   ]
  },
  {
   "cell_type": "markdown",
   "metadata": {
    "id": "BnbtrHvUHiy-",
    "toc-hr-collapsed": false
   },
   "source": [
    "### Data Points as Points in Space\n",
    "\n",
    "Let's look at the loans dataset again. You can download the data [here](https://drive.google.com/open?id=1aKVuOX9UB3arbycymUG3HmcbKJHignyG)."
   ]
  },
  {
   "cell_type": "code",
   "execution_count": 2,
   "metadata": {
    "id": "t90twMgxHiy_",
    "outputId": "752cf5c2-30b1-4bdb-c85c-3d3062bfb143"
   },
   "outputs": [
    {
     "data": {
      "text/html": [
       "<div>\n",
       "<style scoped>\n",
       "    .dataframe tbody tr th:only-of-type {\n",
       "        vertical-align: middle;\n",
       "    }\n",
       "\n",
       "    .dataframe tbody tr th {\n",
       "        vertical-align: top;\n",
       "    }\n",
       "\n",
       "    .dataframe thead th {\n",
       "        text-align: right;\n",
       "    }\n",
       "</style>\n",
       "<table border=\"1\" class=\"dataframe\">\n",
       "  <thead>\n",
       "    <tr style=\"text-align: right;\">\n",
       "      <th></th>\n",
       "      <th>Credit Score</th>\n",
       "      <th>Loan Request Amount</th>\n",
       "      <th>Approval</th>\n",
       "    </tr>\n",
       "  </thead>\n",
       "  <tbody>\n",
       "    <tr>\n",
       "      <th>0</th>\n",
       "      <td>548</td>\n",
       "      <td>56</td>\n",
       "      <td>0</td>\n",
       "    </tr>\n",
       "    <tr>\n",
       "      <th>1</th>\n",
       "      <td>625</td>\n",
       "      <td>168</td>\n",
       "      <td>0</td>\n",
       "    </tr>\n",
       "    <tr>\n",
       "      <th>2</th>\n",
       "      <td>899</td>\n",
       "      <td>237</td>\n",
       "      <td>1</td>\n",
       "    </tr>\n",
       "    <tr>\n",
       "      <th>3</th>\n",
       "      <td>608</td>\n",
       "      <td>84</td>\n",
       "      <td>0</td>\n",
       "    </tr>\n",
       "    <tr>\n",
       "      <th>4</th>\n",
       "      <td>783</td>\n",
       "      <td>34</td>\n",
       "      <td>1</td>\n",
       "    </tr>\n",
       "  </tbody>\n",
       "</table>\n",
       "</div>"
      ],
      "text/plain": [
       "   Credit Score  Loan Request Amount  Approval\n",
       "0           548                   56         0\n",
       "1           625                  168         0\n",
       "2           899                  237         1\n",
       "3           608                   84         0\n",
       "4           783                   34         1"
      ]
     },
     "execution_count": 2,
     "metadata": {},
     "output_type": "execute_result"
    }
   ],
   "source": [
    "loans_df = pd.read_csv('data/loans.csv').iloc[:, 1:]\n",
    "loans_df.head()"
   ]
  },
  {
   "cell_type": "markdown",
   "metadata": {
    "id": "cnkbeJj3HizA"
   },
   "source": [
    "Every data point has two features, or attributes, inside it: the credit score, and the loan request amount. We can imagine these points as living in a two dimensional space. We will refrain from calling this space as composed of an $x$ and $y$ axis, since $y$ is usually the dependent variable. \n",
    "\n",
    "Instead, we will call our first axis $x_1$ and the second $x_2$. So in our case, $x_1$ is credit score, and $x_2$ is loan request amount.\n",
    "\n",
    "We can employ `matplotlib` to plot the points in space."
   ]
  },
  {
   "cell_type": "code",
   "execution_count": 3,
   "metadata": {
    "id": "Od7iSMBkHizA",
    "outputId": "fb540860-de38-4bac-b0c4-ad0c853e45f0"
   },
   "outputs": [
    {
     "data": {
      "image/png": "[encoded data removed]",
      "text/plain": [
       "<Figure size 720x360 with 1 Axes>"
      ]
     },
     "metadata": {
      "needs_background": "light"
     },
     "output_type": "display_data"
    }
   ],
   "source": [
    "approved_mask = loans_df[\"Approval\"] == 1\n",
    "\n",
    "plt.figure(figsize=(10,5))\n",
    "plt.scatter(loans_df[\"Credit Score\"][approved_mask], \n",
    "            loans_df[\"Loan Request Amount\"][approved_mask], \n",
    "            c = \"blue\",\n",
    "            s=100,\n",
    "            label=\"Approved Requests\")\n",
    "plt.scatter(loans_df[\"Credit Score\"][~approved_mask], \n",
    "            loans_df[\"Loan Request Amount\"][~approved_mask], \n",
    "            c = \"red\",\n",
    "            s=100,\n",
    "            label=\"Unapproved Requests\")\n",
    "plt.legend(loc=\"upper right\")\n",
    "plt.xlabel(\"x1 - Credit Score\", fontsize=\"20\")\n",
    "plt.ylabel(\"x2 - Loan Request Amount\", fontsize=\"20\")\n",
    "plt.show();"
   ]
  },
  {
   "cell_type": "markdown",
   "metadata": {
    "id": "NOECx8B2HizB"
   },
   "source": [
    "Looking at these points plotted, we can probably estimate where a logisitic regression model would draw a separation. However, we can also see that we would not always need a logistic regression model to help us estimate what kind of response a given credit request would provide.\n",
    "\n",
    "Consider the following new point in the plot below: Do you think this request would get approved or denied?"
   ]
  },
  {
   "cell_type": "code",
   "execution_count": 4,
   "metadata": {
    "id": "LBzReRW3HizC",
    "outputId": "ff41aa0a-1e94-4325-a2a4-6b0abda5b783"
   },
   "outputs": [
    {
     "data": {
      "image/png": "[encoded data removed]",
      "text/plain": [
       "<Figure size 720x360 with 1 Axes>"
      ]
     },
     "metadata": {
      "needs_background": "light"
     },
     "output_type": "display_data"
    }
   ],
   "source": [
    "approved_mask = loans_df[\"Approval\"] == 1\n",
    "\n",
    "plt.figure(figsize=(10,5))\n",
    "plt.scatter(loans_df[\"Credit Score\"][approved_mask], \n",
    "            loans_df[\"Loan Request Amount\"][approved_mask], \n",
    "            c = \"blue\",\n",
    "            s=100,\n",
    "            label=\"Approved Requests\")\n",
    "plt.scatter(loans_df[\"Credit Score\"][~approved_mask], \n",
    "            loans_df[\"Loan Request Amount\"][~approved_mask], \n",
    "            c = \"red\",\n",
    "            s=100,\n",
    "            label=\"Unapproved Requests\")\n",
    "plt.scatter([350], [200], c=\"black\", s=300, marker=\"o\", label=\"New Point\")\n",
    "plt.legend(loc=\"upper right\")\n",
    "plt.xlabel(\"x1 - Credit Score\", fontsize=\"20\")\n",
    "plt.ylabel(\"x2 - Loan Request Amount\", fontsize=\"20\")\n",
    "plt.show();"
   ]
  },
  {
   "cell_type": "markdown",
   "metadata": {
    "id": "0sBsqFM0HizD"
   },
   "source": [
    "What about the one below?"
   ]
  },
  {
   "cell_type": "code",
   "execution_count": 5,
   "metadata": {
    "id": "CBnkbawqHizD",
    "outputId": "6792ee1e-cf96-4b4f-a59d-681db07d46bc"
   },
   "outputs": [
    {
     "data": {
      "image/png": "[encoded data removed]",
      "text/plain": [
       "<Figure size 720x360 with 1 Axes>"
      ]
     },
     "metadata": {
      "needs_background": "light"
     },
     "output_type": "display_data"
    }
   ],
   "source": [
    "approved_mask = loans_df[\"Approval\"] == 1\n",
    "\n",
    "plt.figure(figsize=(10,5))\n",
    "plt.scatter(loans_df[\"Credit Score\"][approved_mask], \n",
    "            loans_df[\"Loan Request Amount\"][approved_mask], \n",
    "            c = \"blue\",\n",
    "            s=100,\n",
    "            label=\"Approved Requests\")\n",
    "plt.scatter(loans_df[\"Credit Score\"][~approved_mask], \n",
    "            loans_df[\"Loan Request Amount\"][~approved_mask], \n",
    "            c = \"red\",\n",
    "            s=100,\n",
    "            label=\"Unapproved Requests\")\n",
    "plt.scatter([850], [50], c=\"black\", s=300, marker=\"o\", label=\"New Point\")\n",
    "plt.legend(loc=\"upper right\")\n",
    "plt.xlabel(\"x1 - Credit Score\", fontsize=\"20\")\n",
    "plt.ylabel(\"x2 - Loan Request Amount\", fontsize=\"20\")\n",
    "plt.show();"
   ]
  },
  {
   "cell_type": "markdown",
   "metadata": {
    "id": "4_BUXTQUHizD"
   },
   "source": [
    "We have an intuitive notion of other points of the same type being \"close\" to it, and we base our estimate on those points. This behaviour is seen in machine learning models such as K-Nearest Neighbour classifiers (not covered in this lecture). But for now, let's consider two limitations to the visual method:\n",
    "\n",
    "1. Our data is 2-Dimensional, which makes the comparison easy. If our data contained many points and were 3-Dimensional, or higher, we would have a hard time.\n",
    "2. The points chosen were easy to classify, to deal with points along the border with this method, we need a more objective definition of distance.\n",
    "\n",
    "It turns out, we have several definitions of distance between points that are employed in different scenarios."
   ]
  },
  {
   "cell_type": "markdown",
   "metadata": {
    "id": "eep4Q4MWHizE"
   },
   "source": [
    "### Distance Metrics\n",
    "\n",
    "We will be exploring four different distance metrics:\n",
    "\n",
    "1. Euclidean Distance\n",
    "2. Manhattan Distance\n",
    "3. Cosine Similarity\n",
    "4. Levenshtein distance"
   ]
  },
  {
   "cell_type": "markdown",
   "metadata": {
    "id": "6clZIAu-HizE"
   },
   "source": [
    "---\n",
    "\n",
    "#### Exercise 1\n",
    "\n",
    "1. Get into 4 groups (one for each distance metric) and spend some time exploring the distance metric assigned by your instructor. \n",
    "2. Present an explanation of the distance metric you've been assigned back to the class.\n",
    "\n",
    "---"
   ]
  },
  {
   "cell_type": "markdown",
   "metadata": {
    "id": "DpOCjrHtHizE"
   },
   "source": [
    "### 1. Euclidean Distance\n",
    "\n",
    "This is often what we mean we say \"distance.\" The shortest distance between point $a$ and point $b$. The formula for the Euclidean distance (named after [Euclid](https://en.wikipedia.org/wiki/Euclid)) is defined as:\n",
    "\n",
    "$$d(a, b) = \\sqrt{(b_1 - a_1)^2+(b_2 - a_2)^2+...+(b_n - a_n)^2}$$\n",
    "\n",
    "where $n$ is the number of dimensions our points have. In our previous example, each point had 2 dimensions, so the formula would be\n",
    "\n",
    "$$d(a, b) = \\sqrt{(b_{credit\\_score} - a_{credit\\_score})^2 + (b_{loan\\_request\\_amount} - a_{loan\\_request\\_amount})^2}$$\n",
    "\n",
    "Euclidean distance is a very convenient and intuitive measure of distance between points, and is by far the one used most often. It is also sometimes called \"$L2$ norm\""
   ]
  },
  {
   "cell_type": "markdown",
   "metadata": {
    "id": "7q-RqG3CHizF"
   },
   "source": [
    "--- \n",
    "\n",
    "#### Exercise 2\n",
    "\n",
    "1. Given a new point: `Credit Score` = 300 and `Loan Request Amount` = 100, what is the closest point to it? What is the closest point's class? Use the Euclidean distance as a distance measure."
   ]
  },
  {
   "cell_type": "markdown",
   "metadata": {
    "id": "9lSlkacBHizF"
   },
   "source": [
    "------------"
   ]
  },
  {
   "cell_type": "markdown",
   "metadata": {
    "id": "nOjmdMDfHizF"
   },
   "source": [
    "While Euclidean distance is by far the most widely used distance measure, it is not the only one. "
   ]
  },
  {
   "cell_type": "markdown",
   "metadata": {
    "id": "iqv1nxe4HizF"
   },
   "source": [
    "### 2. Manhattan Distance\n",
    "\n",
    "Manhattan distance is similar to Euclidean distance, but it does not employ the squaring or square root of the differences. It is simply the absolute value of all differences summed.\n",
    "\n",
    "Mathematically it looks like this:\n",
    "\n",
    "$$d(a,b) = |a_1 - b_1| + |a_2 - b_2| + ... + |a_n - b_n|$$\n",
    "\n",
    "and for our example it would look like this:\n",
    "\n",
    "$$d(a, b) = |a_{credit\\_score} - b_{credit\\_score}| + |a_{loan\\_request\\_amount} - b_{loan\\_request\\_amount}|$$\n",
    "\n",
    "\n",
    "This seems like an odd distance at first, but consider the following scenario:\n",
    "![L1Distance](https://drive.google.com/uc?export=view&id=1LJkP0Rc3r4kAtr7GPpZYNQ2UcXOPZNZu)<br>\n",
    "<center> <i> Image taken from https://medium.com/@paubric/the-square-circle-exploiting-distance-cef434f7f550 </i> \n",
    "</center> \n",
    "\n",
    "Let's say you're in position \"Start\" and want to get to position \"End\". True enough, the shortest distance between Start and End is the Euclidean distance (pink). However, unless you are Spiderman, you cannot take advantage of that distance. You have to take advantage of the grid-like structure of city streets and travel the Manhattan distance (blue). The Manhattan distance is sometimes referred to as the \"L1 distance\" or \"L1 norm\"."
   ]
  },
  {
   "cell_type": "markdown",
   "metadata": {
    "id": "4Rnk-TMUHizG"
   },
   "source": [
    "Both L2 and L1 are distances between points, and are specific cases of what is called [Minkowski Distance](https://en.wikipedia.org/wiki/Minkowski_distance). Given two points $p$ and $q$, both Manhattan and Euclidean distance help us answer the question \"How close is $p$ to $q$?\"\n",
    "\n",
    "However, other distance metrics exist to answer different questions about point. One of these is the Cosine Similarity."
   ]
  },
  {
   "cell_type": "markdown",
   "metadata": {
    "id": "arJgv28zHizG"
   },
   "source": [
    "### 3. Points as Vectors and Cosine Similarity\n",
    "\n",
    "Before we can talk about the cosine similarity, we need to take a step back and talk about points, vectors, and the dot product.\n",
    "\n",
    "First, consider the case of 3 points in a two dimensional space:"
   ]
  },
  {
   "cell_type": "code",
   "execution_count": 6,
   "metadata": {
    "id": "lP5TfRU0HizG"
   },
   "outputs": [],
   "source": [
    "p = (0.5, 0.5)\n",
    "q = (2.0, 2.4)\n",
    "r = (-0.3, -0.3)"
   ]
  },
  {
   "cell_type": "markdown",
   "metadata": {
    "id": "oOjwlpbeHizG"
   },
   "source": [
    "Let's plot them in space, and let's also plot the point $O = (0.0, 0.0)$."
   ]
  },
  {
   "cell_type": "code",
   "execution_count": 7,
   "metadata": {
    "id": "_9Z2FmtXHizG",
    "outputId": "2bc5e4b9-d01f-4ffc-af65-01ecbd7cd35c"
   },
   "outputs": [
    {
     "data": {
      "image/png": "[encoded data removed]",
      "text/plain": [
       "<Figure size 720x360 with 1 Axes>"
      ]
     },
     "metadata": {
      "needs_background": "light"
     },
     "output_type": "display_data"
    }
   ],
   "source": [
    "x = [p[0], q[0], r[0]]\n",
    "y = [p[1], q[1], r[1]]\n",
    "\n",
    "plt.figure(figsize=(10,5))\n",
    "plt.scatter(p[0], p[1], c = \"blue\", s=100, label=f'p=({p[0]},{p[1]})')\n",
    "plt.scatter(q[0], q[1], c = \"red\", s=100, label=f'q=({q[0]},{q[1]})')\n",
    "plt.scatter(r[0], r[1], c = \"orange\",s=100, label=f'r=({r[0]},{r[1]})')\n",
    "plt.scatter(0.0, 0.0, c = \"black\",s=100, label=\"O\")\n",
    "plt.legend()\n",
    "plt.show();"
   ]
  },
  {
   "cell_type": "markdown",
   "metadata": {
    "id": "B07UR_CcHizH"
   },
   "source": [
    "It's very clear point $p$ is closer to point $r$ than it is to point $p$. However, what if we are not interested in the points themselves, but in the vectors they represent."
   ]
  },
  {
   "cell_type": "markdown",
   "metadata": {
    "id": "GDBSnqhyHizH",
    "toc-hr-collapsed": true
   },
   "source": [
    "When we describe vectors we usually refer to an object that has a quantity and a direction (e.g. speed, distance traveled). Every point $p = (p_1, p_2, ..., p_n)$ can be considered as a vector from the origin to that point as shown in the plot below:"
   ]
  },
  {
   "cell_type": "code",
   "execution_count": 8,
   "metadata": {
    "id": "8nUAf3BAHizH",
    "outputId": "76eb3475-d86e-4c10-b11c-b3ba2bd10b25"
   },
   "outputs": [
    {
     "data": {
      "image/png": "[encoded data removed]",
      "text/plain": [
       "<Figure size 720x360 with 1 Axes>"
      ]
     },
     "metadata": {
      "needs_background": "light"
     },
     "output_type": "display_data"
    }
   ],
   "source": [
    "x = [p[0], q[0], r[0]]\n",
    "y = [p[1], q[1], r[1]]\n",
    "\n",
    "plt.figure(figsize=(10,5))\n",
    "plt.scatter(p[0], p[1], c = \"blue\", s=100, label=f'p=({p[0]},{p[1]})')\n",
    "plt.scatter(q[0], q[1], c = \"red\", s=100, label=f'q=({q[0]},{q[1]})')\n",
    "plt.scatter(r[0], r[1], c = \"orange\",s=100, label=f'r=({r[0]},{r[1]})')\n",
    "plt.scatter(0.0, 0.0, c = \"black\",s=100, label=\"O\")\n",
    "plt.arrow(0.0, 0.0, p[0]-0.05, p[1]-0.05, head_width=0.05, color=\"blue\")\n",
    "plt.arrow(0.0, 0.0, q[0]-0.05, q[1]-0.05, head_width=0.05, color=\"red\")\n",
    "plt.arrow(0.0, 0.0, r[0]+0.05, r[1]+0.05, head_width=0.05, color=\"orange\")\n",
    "plt.legend()\n",
    "plt.show();"
   ]
  },
  {
   "cell_type": "markdown",
   "metadata": {
    "id": "2VRyIywpHizH"
   },
   "source": [
    "Instead of looking at the distance between the endpoints of the vectors, we can ask \"What is the angle between the red and blue vectors (vector $p$ and vector $q$)?\" or \"Does vector $p$ point in a more similar direction to vector $q$ or vector $r$?\"\n",
    "\n",
    "To answer these questions, we employ the cosine similarity. The **cosine similarity of $p$ and $q$** is defined as the cosine of the angle $\\alpha$ between $p$ and $q$:\n",
    "\n",
    "\n",
    "$$\n",
    "\\begin{align}\n",
    "\\text{similarity}(p,q) & = cos(\\alpha)\n",
    "\\end{align}\n",
    "$$\n",
    "\n",
    " This formula gives a value between $-1$ and $1$.\n",
    "\n",
    "   - A value of -1 means the vectors are pointing in opposite directions as $\\cos(180^\\circ) = \\cos(-180^\\circ) = -1$.\n",
    "   \n",
    "   - A value of 0 means the vectors are orthogonal (right angles) from each other as $\\cos(90^\\circ) = \\cos(-90^\\circ) = 0$.\n",
    "   \n",
    "   - A value of 1 means the vectors are pointing in the same direction as $\\cos(0^\\circ)= \\cos(360^\\circ) = 1$. "
   ]
  },
  {
   "cell_type": "markdown",
   "metadata": {
    "id": "YHyOew2nHizI"
   },
   "source": [
    "There is a very efficient way of calculating this value using the **dot** product and length of the vectors."
   ]
  },
  {
   "cell_type": "markdown",
   "metadata": {
    "id": "5yVTgszTHizI"
   },
   "source": [
    "#### The Dot Product\n",
    "\n",
    "The dot product between two vectors is a sum of their element-wise product. Simply put, if we have two vectors $p$ and $q$ their dot product is:\n",
    "\n",
    "$$p \\cdot q = (p_1 \\times q_1) + (p_2 \\times q_2) + ... + (p_n \\times q_n)$$\n",
    "\n",
    "In our case the dot product between vectors $p$ and $q$ is:\n",
    "\n",
    "$$p \\cdot q = (0.5 \\times 2.0) + (0.5 \\times 2.4) = 2.2$$"
   ]
  },
  {
   "cell_type": "markdown",
   "metadata": {
    "id": "VEnvYHV-HizI"
   },
   "source": [
    "#### The Length of the Vector\n",
    "\n",
    "Calculating the length of the vector is fairly simple: it's simply the L2 norm of the vector itself.\n",
    "\n",
    "$$|p| = \\sqrt{p_1^2 + p_2^2 + ... + p_n^2}$$\n",
    "\n",
    "For our vector $p$ it would be:\n",
    "\n",
    "$$|p| = \\sqrt{0.5^2 + 0.5^2} \\approx 0.707$$"
   ]
  },
  {
   "cell_type": "markdown",
   "metadata": {
    "id": "ZUTMNecqHizI"
   },
   "source": [
    "#### The Cosine Similarity and Cosine Distance\n",
    "\n",
    "Now that we know the dot product and the length of the vector we can calculate the cosine similarity between two vectors as follows:\n",
    "\n",
    "$$\\text{similarity}(p,q) = cos(\\alpha) = \\frac{p \\cdot q}{|p|\\times |q|}$$\n",
    "\n",
    "To make this measure act more like a standard distance metric, where a larger number indicates more 'distant' vectors,  many implementations will calculate a *cosine distance* as:\n",
    "\n",
    "$$\\text{cosine distance} = 1 - \\text{cosine similarity}$$\n",
    "\n",
    "Using this cosine distance metric, the smaller the value, the more the two vectors point in the same direction down to a minimum distance of 0. The larger the value, the more they point in opposite directions, up to a max of 2. \n",
    "\n",
    "\n",
    "It may not be immediately obvious why this measure is important, but consider a collection of ratings for products as an example of three 5-dimensional vectors. "
   ]
  },
  {
   "cell_type": "code",
   "execution_count": 9,
   "metadata": {
    "id": "d6T94ywIHizJ"
   },
   "outputs": [],
   "source": [
    "ratings_person1 = [3,3,3,5,5]\n",
    "ratings_person2 = [1,1,1,3,3]\n",
    "ratings_person3 = [4,4,3,2,3]"
   ]
  },
  {
   "cell_type": "code",
   "execution_count": 10,
   "metadata": {
    "id": "wMpsSxiKHizJ",
    "outputId": "d7050743-7c55-4274-df08-05e4d7cb354a"
   },
   "outputs": [
    {
     "data": {
      "text/html": [
       "<div>\n",
       "<style scoped>\n",
       "    .dataframe tbody tr th:only-of-type {\n",
       "        vertical-align: middle;\n",
       "    }\n",
       "\n",
       "    .dataframe tbody tr th {\n",
       "        vertical-align: top;\n",
       "    }\n",
       "\n",
       "    .dataframe thead th {\n",
       "        text-align: right;\n",
       "    }\n",
       "</style>\n",
       "<table border=\"1\" class=\"dataframe\">\n",
       "  <thead>\n",
       "    <tr style=\"text-align: right;\">\n",
       "      <th></th>\n",
       "      <th>item 1</th>\n",
       "      <th>item 2</th>\n",
       "      <th>item 3</th>\n",
       "      <th>item 4</th>\n",
       "      <th>item 5</th>\n",
       "    </tr>\n",
       "  </thead>\n",
       "  <tbody>\n",
       "    <tr>\n",
       "      <th>0</th>\n",
       "      <td>3</td>\n",
       "      <td>3</td>\n",
       "      <td>3</td>\n",
       "      <td>5</td>\n",
       "      <td>5</td>\n",
       "    </tr>\n",
       "    <tr>\n",
       "      <th>1</th>\n",
       "      <td>1</td>\n",
       "      <td>1</td>\n",
       "      <td>1</td>\n",
       "      <td>3</td>\n",
       "      <td>3</td>\n",
       "    </tr>\n",
       "    <tr>\n",
       "      <th>2</th>\n",
       "      <td>4</td>\n",
       "      <td>4</td>\n",
       "      <td>3</td>\n",
       "      <td>2</td>\n",
       "      <td>3</td>\n",
       "    </tr>\n",
       "  </tbody>\n",
       "</table>\n",
       "</div>"
      ],
      "text/plain": [
       "   item 1  item 2  item 3  item 4  item 5\n",
       "0       3       3       3       5       5\n",
       "1       1       1       1       3       3\n",
       "2       4       4       3       2       3"
      ]
     },
     "execution_count": 10,
     "metadata": {},
     "output_type": "execute_result"
    }
   ],
   "source": [
    "ratings_df = pd.DataFrame([ratings_person1,ratings_person2,ratings_person3],\n",
    "                          columns=[f\"item {i}\" for i in range(1,6)])\n",
    "ratings_df"
   ]
  },
  {
   "cell_type": "markdown",
   "metadata": {
    "id": "WWLB-DQUHizJ"
   },
   "source": [
    "\n",
    "\n",
    "While the reviews of Person 1 and 2 are different numerically, they seem to value the same items, preferring the first three over the last two. Person 1 and Person 3 gave close review scores but the overall sentiment is clearly different: Person 3 prefers the first two items over the last three.\n",
    "\n",
    "Let's see which metric detects this better:"
   ]
  },
  {
   "cell_type": "code",
   "execution_count": 11,
   "metadata": {
    "id": "iROs18X6HizJ"
   },
   "outputs": [],
   "source": [
    "def euclidean_distance(a, b):\n",
    "    the_sum = 0.0\n",
    "    for i in range(len(a)):\n",
    "        the_sum += (a[i] - b[i])**2\n",
    "        \n",
    "    return math.sqrt(the_sum)"
   ]
  },
  {
   "cell_type": "code",
   "execution_count": 12,
   "metadata": {
    "id": "rOWIB69jHizJ"
   },
   "outputs": [],
   "source": [
    "def cosine_distance(a,b):\n",
    "    numerator = 0.0\n",
    "    for i in range(len(a)):\n",
    "        numerator += a[i]*b[i]\n",
    "        \n",
    "    len_a = 0.0\n",
    "    for i in range(len(a)):\n",
    "        len_a += a[i]**2\n",
    "    len_a = math.sqrt(len_a)\n",
    "    \n",
    "    len_b = 0.0\n",
    "    for i in range(len(b)):\n",
    "        len_b += b[i]**2\n",
    "    len_b = math.sqrt(len_b)\n",
    "    \n",
    "    cosine_similarity = numerator/(len_a*len_b)\n",
    "    \n",
    "    return 1 - cosine_similarity\n",
    "    "
   ]
  },
  {
   "cell_type": "markdown",
   "metadata": {
    "id": "MCwyok4dHizK"
   },
   "source": [
    "Let's compare how all people relate using the cosine distance."
   ]
  },
  {
   "cell_type": "code",
   "execution_count": 13,
   "metadata": {
    "id": "44hw-5f0HizK",
    "outputId": "2ab670e7-1487-4de4-f757-bc7f18d5c1ef"
   },
   "outputs": [
    {
     "name": "stdout",
     "output_type": "stream",
     "text": [
      "Cosine distance between person 1 and person 2 is 0.030138773961112086\n",
      "Cosine distance between person 1 and person 3 is 0.10053192994814486\n",
      "Cosine distance between person 2 and person 3 is 0.22791196780855172\n"
     ]
    }
   ],
   "source": [
    "print(f'Cosine distance between person 1 and person 2 is {cosine_distance(ratings_person1, ratings_person2)}')\n",
    "print(f'Cosine distance between person 1 and person 3 is {cosine_distance(ratings_person1, ratings_person3)}')\n",
    "print(f'Cosine distance between person 2 and person 3 is {cosine_distance(ratings_person2, ratings_person3)}')"
   ]
  },
  {
   "cell_type": "markdown",
   "metadata": {
    "id": "pU3ps4AlHizK"
   },
   "source": [
    "And the Euclidean distance."
   ]
  },
  {
   "cell_type": "code",
   "execution_count": 14,
   "metadata": {
    "id": "3gHaDUbGHizK",
    "outputId": "2cb660db-f721-42c9-ad91-99b41c6617d8"
   },
   "outputs": [
    {
     "name": "stdout",
     "output_type": "stream",
     "text": [
      "Euclidean distance between person 1 and person 2 is 4.47213595499958\n",
      "Euclidean distance between person 1 and person 3 is 3.872983346207417\n",
      "Euclidean distance between person 2 and person 3 is 4.795831523312719\n"
     ]
    }
   ],
   "source": [
    "print(f'Euclidean distance between person 1 and person 2 is {euclidean_distance(ratings_person1, ratings_person2)}')\n",
    "print(f'Euclidean distance between person 1 and person 3 is {euclidean_distance(ratings_person1, ratings_person3)}')\n",
    "print(f'Euclidean distance between person 2 and person 3 is {euclidean_distance(ratings_person2, ratings_person3)}')"
   ]
  },
  {
   "cell_type": "markdown",
   "metadata": {
    "id": "LJuFegUOHizK"
   },
   "source": [
    "While the cosine distance between Person 1 and Person 2 is the smallest, the smallest Euclidean distance is in fact between Person 1 and Person 3. Often times, we use the cosine distance to compare these kind of similarities in trend rather than distance between the points."
   ]
  },
  {
   "cell_type": "markdown",
   "metadata": {
    "id": "RSxnp2aJHizL"
   },
   "source": [
    "So far we've been discussing distance between points in space, or between vectors. However, all of these measures are applied to numeric values.\n",
    "\n",
    "Consider trying to find the distance between words such as \"cat\" and \"hat\", or more complex strings. The need for distance between strings or sequences of characters comes up in several applications, most notable of which is genetics where the \"distance\" between genetic material from different sources needs to be quantified."
   ]
  },
  {
   "cell_type": "markdown",
   "metadata": {
    "id": "FCgxmmvHHizL"
   },
   "source": [
    "### 4. Levenshtein Distance\n",
    "\n",
    "The Levenshtein distance is one distance measure which quantifies the number of steps required to get from one string to another string.\n",
    "\n",
    "Some simple examples are quite easy to quantify:<br>\n",
    "The distance from **cat** to **hat** is 1 (replace \"c\" with \"h\")<br>\n",
    "The distance from **cat** to **car** is also 1 (replace \"t\" with \"r\")<br>\n",
    "The distance from **cat** to **can't** is 2 (insert \"n'\" between \"a\" and \"t\")<br>\n",
    "\n",
    "What about the distance from \"encyclopedia\" to \"cyclops\"?<br>\n",
    "What about the more practical case of the distance from a mouse genome to a rat genome? What if we wanted to find out, from a genetic standpoint, the distance between dolphins and sharks, dolphins and people, and sharks and people?"
   ]
  },
  {
   "cell_type": "markdown",
   "metadata": {
    "id": "EVjDK_gCHizL"
   },
   "source": [
    "The mathematical definition for the Levenshtein distance between strings $a$ and $b$ up to positions $i$ and $j$, respectively can be denoted as $lev(a,b,i,j)$. It can be expressed as:\n",
    "\n",
    " $$ lev(a,b,i,j)=   \\left\\{\n",
    "\\begin{array}{ll}\n",
    "      max(i,j) & \\text{if i=0 or j=0} \\\\\n",
    "      min \\left\\{\n",
    "      \\begin{array}{ll}\n",
    "      lev(a,b,i-1, j) & +1 \\\\\n",
    "      lev(a,b,i,j-1) & +1 \\\\\n",
    "      lev(a,b,i-1,j-1) & + I(a[i-1]\\ne b[j-1]) \\\\\n",
    "      \\end{array} \n",
    "      \\right. & otherwise\n",
    "\\end{array} \n",
    "\\right.  $$\n",
    "\n",
    "You will notice the definition is recursive at its core. To implement this in code we would define the following function:"
   ]
  },
  {
   "cell_type": "code",
   "execution_count": 15,
   "metadata": {
    "id": "HebPCNraHizL"
   },
   "outputs": [],
   "source": [
    "def levenshtein_distance(a,b, i=None, j=None):\n",
    "    if (i is None):\n",
    "        i = len(a)\n",
    "    if (j is None):\n",
    "        j = len(b)\n",
    "        \n",
    "    if (i == 0) or (j == 0):\n",
    "        return_value = max(i, j)\n",
    "    else:\n",
    "        score1 = levenshtein_distance(a, b, i - 1, j) + 1\n",
    "        score2 = levenshtein_distance(a, b, i, j - 1) + 1      \n",
    "        score3 = levenshtein_distance(a, b, i - 1, j - 1) + (a[i - 1] != b[j - 1]) # a!=b is 1 if it is true \n",
    "                                                                         # and 0 if it is false\n",
    "        return_value = min(score1, score2, score3)\n",
    "    \n",
    "    return return_value"
   ]
  },
  {
   "cell_type": "code",
   "execution_count": 16,
   "metadata": {
    "id": "ZHEZi-B4HizL"
   },
   "outputs": [
    {
     "data": {
      "text/plain": [
       "1"
      ]
     },
     "execution_count": 16,
     "metadata": {},
     "output_type": "execute_result"
    }
   ],
   "source": [
    "levenshtein_distance(\"cat\", \"hat\")"
   ]
  },
  {
   "cell_type": "code",
   "execution_count": 17,
   "metadata": {
    "id": "50_tKIEsHizL"
   },
   "outputs": [
    {
     "data": {
      "text/plain": [
       "1"
      ]
     },
     "execution_count": 17,
     "metadata": {},
     "output_type": "execute_result"
    }
   ],
   "source": [
    "levenshtein_distance(\"cat\", \"car\")"
   ]
  },
  {
   "cell_type": "code",
   "execution_count": 18,
   "metadata": {
    "id": "YwClddnaHizM"
   },
   "outputs": [
    {
     "data": {
      "text/plain": [
       "2"
      ]
     },
     "execution_count": 18,
     "metadata": {},
     "output_type": "execute_result"
    }
   ],
   "source": [
    "levenshtein_distance(\"cat\", \"can't\")"
   ]
  },
  {
   "cell_type": "code",
   "execution_count": 19,
   "metadata": {
    "id": "aglv4G7lHizM"
   },
   "outputs": [
    {
     "data": {
      "text/plain": [
       "6"
      ]
     },
     "execution_count": 19,
     "metadata": {},
     "output_type": "execute_result"
    }
   ],
   "source": [
    "# Notice this takes a while even though the words are not very long\n",
    "levenshtein_distance(\"encyclopedia\", \"cyclops\")"
   ]
  },
  {
   "cell_type": "code",
   "execution_count": 20,
   "metadata": {
    "id": "ZA5-jIQuHizM"
   },
   "outputs": [],
   "source": [
    "# This will take a very long time\n",
    "#levenshtein_distance(\"encyclopedia\", \"cyclopamine\")"
   ]
  },
  {
   "cell_type": "markdown",
   "metadata": {
    "id": "1FRGhrccHizM"
   },
   "source": [
    "You will notice the Levenshtein distance metric implementation shown here here is fairly slow. Faster implementation use [Dynamic Programming](https://en.wikipedia.org/wiki/Dynamic_programming). There are other text-based distance metrics available, but they all answer the same basic question, \"How many operations does it take to transform one string into another?\""
   ]
  },
  {
   "cell_type": "markdown",
   "metadata": {
    "id": "j5mau2qdHizM"
   },
   "source": [
    "Most metrics we covered here are available in `sklearn` via the [sklearn.metrics.DistanceMetric](https://scikit-learn.org/stable/modules/generated/sklearn.metrics.DistanceMetric.html) class. Though currently `sklearn` does not support string based distances (a good implementation of Levenshtein distance is available [here](https://stackabuse.com/levenshtein-distance-and-text-similarity-in-python/)).\n",
    "\n",
    "Distance measures are important for many algorithms, but looking at distance in high-dimensional space has a fundamental weakness which we explore next, as well as its solution."
   ]
  },
  {
   "cell_type": "markdown",
   "metadata": {
    "id": "K68PcLKKHizM",
    "toc-hr-collapsed": true
   },
   "source": [
    "## Scaling Data\n",
    "\n",
    "Let's consider our loans dataset from before."
   ]
  },
  {
   "cell_type": "code",
   "execution_count": 21,
   "metadata": {
    "id": "stT5MDYUHizN"
   },
   "outputs": [
    {
     "data": {
      "image/png": "[encoded data removed]",
      "text/plain": [
       "<Figure size 504x504 with 1 Axes>"
      ]
     },
     "metadata": {
      "needs_background": "light"
     },
     "output_type": "display_data"
    }
   ],
   "source": [
    "approved_mask = loans_df[\"Approval\"] == 1\n",
    "\n",
    "plt.figure(figsize=(7,7))\n",
    "plt.scatter(loans_df[\"Credit Score\"][approved_mask], \n",
    "            loans_df[\"Loan Request Amount\"][approved_mask], \n",
    "            c = \"blue\",\n",
    "            s=100,\n",
    "            label=\"Approved Requests\")\n",
    "plt.scatter(loans_df[\"Credit Score\"][~approved_mask], \n",
    "            loans_df[\"Loan Request Amount\"][~approved_mask], \n",
    "            c = \"red\",\n",
    "            s=100,\n",
    "            label=\"Unapproved Requests\")\n",
    "plt.legend(loc=\"upper right\")\n",
    "plt.xlabel(\"x1 - Credit Score\", fontsize=\"20\")\n",
    "plt.ylabel(\"x2 - Loan Request Amount\", fontsize=\"20\")\n",
    "plt.show();"
   ]
  },
  {
   "cell_type": "markdown",
   "metadata": {
    "id": "0FYwL4iAHizN"
   },
   "source": [
    "Look at the $x_1$ and $x_2$ axes; they are on a slightly different scale. If we plotted both values on a scale of 0 to 1200 we would see the following:"
   ]
  },
  {
   "cell_type": "code",
   "execution_count": 22,
   "metadata": {
    "id": "ynwKDqPEHizN"
   },
   "outputs": [
    {
     "data": {
      "image/png": "[encoded data removed]",
      "text/plain": [
       "<Figure size 504x504 with 1 Axes>"
      ]
     },
     "metadata": {
      "needs_background": "light"
     },
     "output_type": "display_data"
    }
   ],
   "source": [
    "approved_mask = loans_df[\"Approval\"] == 1\n",
    "\n",
    "plt.figure(figsize=(7,7))\n",
    "plt.scatter(loans_df[\"Credit Score\"][approved_mask], \n",
    "            loans_df[\"Loan Request Amount\"][approved_mask], \n",
    "            c = \"blue\",\n",
    "            s=100,\n",
    "            label=\"Approved Requests\")\n",
    "plt.scatter(loans_df[\"Credit Score\"][~approved_mask], \n",
    "            loans_df[\"Loan Request Amount\"][~approved_mask], \n",
    "            c = \"red\",\n",
    "            s=100,\n",
    "            label=\"Unapproved Requests\")\n",
    "plt.legend(loc=\"upper right\")\n",
    "plt.xlim(0, 1200)\n",
    "plt.ylim(0, 1200)\n",
    "plt.xlabel(\"x1 - Credit Score\", fontsize=\"20\")\n",
    "plt.ylabel(\"x2 - Loan Request Amount\", fontsize=\"20\")\n",
    "plt.show();"
   ]
  },
  {
   "cell_type": "markdown",
   "metadata": {
    "id": "Ei1JKsQpHizN"
   },
   "source": [
    "You notice the data is much wider than it is tall. In fact, looking at it this way, we see that the different \"areas\" for each class are almost entirely determined by the $x_1$ value.\n",
    "\n",
    "Let's look at a worse example from the `sklearn` wine dataset available."
   ]
  },
  {
   "cell_type": "code",
   "execution_count": 23,
   "metadata": {
    "id": "fhdkLhRBHizN"
   },
   "outputs": [],
   "source": [
    "from sklearn.datasets import load_wine\n",
    "\n",
    "wine = load_wine()\n",
    "\n",
    "X = wine.data\n",
    "y = wine.target"
   ]
  },
  {
   "cell_type": "markdown",
   "metadata": {
    "id": "JdDeAI0SHizN"
   },
   "source": [
    "Let's try and visualize the data using only the 2nd column and last column (The Malic Acid % and Proline concentration)."
   ]
  },
  {
   "cell_type": "code",
   "execution_count": 24,
   "metadata": {
    "id": "-kU0QGEsHizN"
   },
   "outputs": [
    {
     "data": {
      "image/png": "[encoded data removed]",
      "text/plain": [
       "<Figure size 504x504 with 1 Axes>"
      ]
     },
     "metadata": {
      "needs_background": "light"
     },
     "output_type": "display_data"
    }
   ],
   "source": [
    "wine_1_mask = y==0\n",
    "wine_2_mask = y==1\n",
    "wine_3_mask = y==2\n",
    "\n",
    "\n",
    "plot_X = X[:, [1, -1]]\n",
    "\n",
    "plt.figure(figsize=(7,7))\n",
    "plt.scatter(plot_X[wine_1_mask][:, 0], \n",
    "            plot_X[wine_1_mask][:, 1], \n",
    "            c = \"blue\",\n",
    "            s=100,\n",
    "            label=\"Wine 1\")\n",
    "plt.scatter(plot_X[wine_2_mask][:, 0], \n",
    "            plot_X[wine_2_mask][:, 1], \n",
    "            c = \"green\",\n",
    "            s=100,\n",
    "            label=\"Wine 2\")\n",
    "plt.scatter(plot_X[wine_3_mask][:, 0], \n",
    "            plot_X[wine_3_mask][:, 1], \n",
    "            c = \"orange\",\n",
    "            s=100,\n",
    "            label=\"Wine 3\")\n",
    "plt.legend(loc=\"upper right\")\n",
    "plt.xlabel(\"x1 - Malic Acid\", fontsize=\"20\")\n",
    "plt.ylabel(\"x2 - Proline\", fontsize=\"20\")\n",
    "plt.show();"
   ]
  },
  {
   "cell_type": "markdown",
   "metadata": {
    "id": "Xd3hPGDvHizO"
   },
   "source": [
    "Distinguishing the three wine types can be difficult here based on distance, but more importantly, notice the scales again. If we plotted both values on the same scale (-100 to 1600)"
   ]
  },
  {
   "cell_type": "code",
   "execution_count": 25,
   "metadata": {
    "id": "1l6k6pDrHizO"
   },
   "outputs": [
    {
     "data": {
      "image/png": "[encoded data removed]",
      "text/plain": [
       "<Figure size 504x504 with 1 Axes>"
      ]
     },
     "metadata": {
      "needs_background": "light"
     },
     "output_type": "display_data"
    }
   ],
   "source": [
    "wine_1_mask = y==0\n",
    "wine_2_mask = y==1\n",
    "wine_3_mask = y==2\n",
    "\n",
    "plot_X = X[:, [1, -1]]\n",
    "\n",
    "plt.figure(figsize=(7,7))\n",
    "plt.scatter(plot_X[wine_1_mask][:, 0], \n",
    "            plot_X[wine_1_mask][:, 1], \n",
    "            c = \"blue\",\n",
    "            s=100,\n",
    "            label=\"Wine 1\")\n",
    "plt.scatter(plot_X[wine_2_mask][:, 0], \n",
    "            plot_X[wine_2_mask][:, 1], \n",
    "            c = \"green\",\n",
    "            s=100,\n",
    "            label=\"Wine 2\")\n",
    "plt.scatter(plot_X[wine_3_mask][:, 0], \n",
    "            plot_X[wine_3_mask][:, 1], \n",
    "            c = \"orange\",\n",
    "            s=100,\n",
    "            label=\"Wine 3\")\n",
    "plt.legend(loc=\"upper right\")\n",
    "plt.xlim(-100, 1600)\n",
    "plt.ylim(-100, 1600)\n",
    "plt.xlabel(\"x1 - Malic Acid\", fontsize=\"20\")\n",
    "plt.ylabel(\"x2 - Proline\", fontsize=\"20\")\n",
    "plt.show();"
   ]
  },
  {
   "cell_type": "markdown",
   "metadata": {
    "id": "fK5Fz_2eHizO"
   },
   "source": [
    "This is terrible!\n",
    "\n",
    "When looking at this in the same scale the data is entirely dominated by the proline concentration!\n",
    "\n",
    "`matplotlib` is smart enough, when we ask it to plot, to draw the data in different scales. However, some machine learning techniques will be stumbled by this issue.\n",
    "\n",
    "To prepare the data we often scale it using a Scaler. We will look at two types of scalers from `sklearn`:\n",
    "\n",
    "\n",
    "1. [MinMax Scaler](https://scikit-learn.org/stable/modules/generated/sklearn.preprocessing.MinMaxScaler.html#sklearn.preprocessing.MinMaxScaler.html)\n",
    "2. [Standard Scaler](https://scikit-learn.org/stable/modules/generated/sklearn.preprocessing.StandardScaler.html)"
   ]
  },
  {
   "cell_type": "code",
   "execution_count": 26,
   "metadata": {
    "id": "A7-y2xbFHizO"
   },
   "outputs": [],
   "source": [
    "import warnings\n",
    "warnings.filterwarnings(\"ignore\")"
   ]
  },
  {
   "cell_type": "markdown",
   "metadata": {
    "id": "QCRYkCauHizO"
   },
   "source": [
    "### MinMax Scaler\n",
    "\n",
    "The `MinMaxScaler` scales the data such that each feature, or each dimension, lies exactly between 0 and 1. \n",
    "\n",
    "\n",
    "Mathematically, for each feature (or dimension), we find the maximum value $max_f$, and minimum value $min_f$, and then each value in that feature gets transformed by the following formula:\n",
    "\n",
    "$$x_{new} = \\frac{x_{old} - min_f}{max_f - min_f}$$\n",
    "\n",
    "Let's look at the effect of the scaler on the loans data."
   ]
  },
  {
   "cell_type": "code",
   "execution_count": 27,
   "metadata": {
    "id": "kZtOmB_OHizO"
   },
   "outputs": [
    {
     "data": {
      "text/html": [
       "<div>\n",
       "<style scoped>\n",
       "    .dataframe tbody tr th:only-of-type {\n",
       "        vertical-align: middle;\n",
       "    }\n",
       "\n",
       "    .dataframe tbody tr th {\n",
       "        vertical-align: top;\n",
       "    }\n",
       "\n",
       "    .dataframe thead th {\n",
       "        text-align: right;\n",
       "    }\n",
       "</style>\n",
       "<table border=\"1\" class=\"dataframe\">\n",
       "  <thead>\n",
       "    <tr style=\"text-align: right;\">\n",
       "      <th></th>\n",
       "      <th>Credit Score</th>\n",
       "      <th>Loan Request Amount</th>\n",
       "    </tr>\n",
       "  </thead>\n",
       "  <tbody>\n",
       "    <tr>\n",
       "      <th>0</th>\n",
       "      <td>0.411074</td>\n",
       "      <td>0.139640</td>\n",
       "    </tr>\n",
       "    <tr>\n",
       "      <th>1</th>\n",
       "      <td>0.540268</td>\n",
       "      <td>0.644144</td>\n",
       "    </tr>\n",
       "    <tr>\n",
       "      <th>2</th>\n",
       "      <td>1.000000</td>\n",
       "      <td>0.954955</td>\n",
       "    </tr>\n",
       "    <tr>\n",
       "      <th>3</th>\n",
       "      <td>0.511745</td>\n",
       "      <td>0.265766</td>\n",
       "    </tr>\n",
       "    <tr>\n",
       "      <th>4</th>\n",
       "      <td>0.805369</td>\n",
       "      <td>0.040541</td>\n",
       "    </tr>\n",
       "  </tbody>\n",
       "</table>\n",
       "</div>"
      ],
      "text/plain": [
       "   Credit Score  Loan Request Amount\n",
       "0      0.411074             0.139640\n",
       "1      0.540268             0.644144\n",
       "2      1.000000             0.954955\n",
       "3      0.511745             0.265766\n",
       "4      0.805369             0.040541"
      ]
     },
     "execution_count": 27,
     "metadata": {},
     "output_type": "execute_result"
    }
   ],
   "source": [
    "from sklearn.preprocessing import MinMaxScaler # 1. Import the scaler\n",
    "\n",
    "# 2. make a scaler\n",
    "my_minmax_scaler = MinMaxScaler()\n",
    "\n",
    "# 3. fit the scaler\n",
    "my_minmax_scaler.fit(loans_df[[\"Credit Score\", \"Loan Request Amount\"]])\n",
    "\n",
    "# 4. transform the data. Notice we get back a numpy array even if we put in a dataframe\n",
    "scaled_loans_data = my_minmax_scaler.transform(loans_df[[\"Credit Score\", \"Loan Request Amount\"]])\n",
    "\n",
    "\n",
    "scaled_loans_df = pd.DataFrame(columns=[\"Credit Score\", \"Loan Request Amount\"], data=scaled_loans_data)\n",
    "scaled_loans_df.head()"
   ]
  },
  {
   "cell_type": "code",
   "execution_count": 28,
   "metadata": {
    "id": "Z6volrRxHizP"
   },
   "outputs": [
    {
     "data": {
      "image/png": "[encoded data removed]",
      "text/plain": [
       "<Figure size 504x504 with 1 Axes>"
      ]
     },
     "metadata": {
      "needs_background": "light"
     },
     "output_type": "display_data"
    }
   ],
   "source": [
    "approved_mask = loans_df[\"Approval\"] == 1\n",
    "\n",
    "plt.figure(figsize=(7,7))\n",
    "plt.scatter(scaled_loans_df[\"Credit Score\"][approved_mask], \n",
    "            scaled_loans_df[\"Loan Request Amount\"][approved_mask], \n",
    "            c = \"blue\",\n",
    "            s=100,\n",
    "            label=\"Approved Requests\")\n",
    "plt.scatter(scaled_loans_df[\"Credit Score\"][~approved_mask], \n",
    "            scaled_loans_df[\"Loan Request Amount\"][~approved_mask], \n",
    "            c = \"red\",\n",
    "            s=100,\n",
    "            label=\"Unapproved Requests\")\n",
    "plt.xlim(0.0, 1.0)\n",
    "plt.ylim(0.0, 1.0)\n",
    "plt.legend(loc=\"upper right\")\n",
    "plt.xlabel(\"x1 - Scaled Credit Score\", fontsize=\"20\")\n",
    "plt.ylabel(\"x2 - Scaled Loan Request Amount\", fontsize=\"20\")\n",
    "plt.show();"
   ]
  },
  {
   "cell_type": "markdown",
   "metadata": {
    "id": "8gaRfPaCHizP"
   },
   "source": [
    "Notice the scales on both $x_1$ and $x_2$ is the same, it is 0.0 to 1.0. The downside is that we've lost the absolute values of the data, but now looking at distances, both features contribute equally."
   ]
  },
  {
   "cell_type": "markdown",
   "metadata": {
    "id": "HPO_n9VSHizP"
   },
   "source": [
    "### Standard Scaler\n",
    "\n",
    "In practice, people use the Standard scaler rather than the MinMax scaler. While the ,MinMax scaler scales the data such that it lies between 0 and 1, the standard scaler scales the data such that it is centered at 0, and has a variance (as well as standard deviation) of 1.0\n",
    "\n",
    "Mathematically, for each feature (or dimension), we find the mean/average value $\\mu_f$, and standard deviation $\\sigma_f$, and then each value in that feature gets transformed by the following formula:\n",
    "\n",
    "$$x_{new} = \\frac{x_{old} - \\mu_f}{\\sigma_f}$$\n",
    "\n",
    "\n",
    "Let's look at the scaler in action:"
   ]
  },
  {
   "cell_type": "code",
   "execution_count": 29,
   "metadata": {
    "id": "QrCskiOMHizP"
   },
   "outputs": [
    {
     "data": {
      "text/html": [
       "<div>\n",
       "<style scoped>\n",
       "    .dataframe tbody tr th:only-of-type {\n",
       "        vertical-align: middle;\n",
       "    }\n",
       "\n",
       "    .dataframe tbody tr th {\n",
       "        vertical-align: top;\n",
       "    }\n",
       "\n",
       "    .dataframe thead th {\n",
       "        text-align: right;\n",
       "    }\n",
       "</style>\n",
       "<table border=\"1\" class=\"dataframe\">\n",
       "  <thead>\n",
       "    <tr style=\"text-align: right;\">\n",
       "      <th></th>\n",
       "      <th>Credit Score</th>\n",
       "      <th>Loan Request Amount</th>\n",
       "    </tr>\n",
       "  </thead>\n",
       "  <tbody>\n",
       "    <tr>\n",
       "      <th>0</th>\n",
       "      <td>-0.468109</td>\n",
       "      <td>-1.102474</td>\n",
       "    </tr>\n",
       "    <tr>\n",
       "      <th>1</th>\n",
       "      <td>-0.013003</td>\n",
       "      <td>0.409244</td>\n",
       "    </tr>\n",
       "    <tr>\n",
       "      <th>2</th>\n",
       "      <td>1.606464</td>\n",
       "      <td>1.340570</td>\n",
       "    </tr>\n",
       "    <tr>\n",
       "      <th>3</th>\n",
       "      <td>-0.113481</td>\n",
       "      <td>-0.724545</td>\n",
       "    </tr>\n",
       "    <tr>\n",
       "      <th>4</th>\n",
       "      <td>0.920850</td>\n",
       "      <td>-1.399419</td>\n",
       "    </tr>\n",
       "  </tbody>\n",
       "</table>\n",
       "</div>"
      ],
      "text/plain": [
       "   Credit Score  Loan Request Amount\n",
       "0     -0.468109            -1.102474\n",
       "1     -0.013003             0.409244\n",
       "2      1.606464             1.340570\n",
       "3     -0.113481            -0.724545\n",
       "4      0.920850            -1.399419"
      ]
     },
     "execution_count": 29,
     "metadata": {},
     "output_type": "execute_result"
    }
   ],
   "source": [
    "from sklearn.preprocessing import StandardScaler # 1. Import the scaler\n",
    "\n",
    "# 2. make a scaler\n",
    "my_standard_scaler = StandardScaler()\n",
    "\n",
    "# 3. fit the scaler\n",
    "my_standard_scaler.fit(loans_df[[\"Credit Score\", \"Loan Request Amount\"]])\n",
    "\n",
    "# 4. transform the data. Notice we get back a numpy array even if we put in a dataframe\n",
    "scaled_loans_data = my_standard_scaler.transform(loans_df[[\"Credit Score\", \"Loan Request Amount\"]])\n",
    "\n",
    "\n",
    "scaled_loans_df2 = pd.DataFrame(columns=[\"Credit Score\", \"Loan Request Amount\"], data=scaled_loans_data)\n",
    "scaled_loans_df2.head()"
   ]
  },
  {
   "cell_type": "code",
   "execution_count": 30,
   "metadata": {
    "id": "tQxji56VHizP"
   },
   "outputs": [
    {
     "data": {
      "image/png": "[encoded data removed]",
      "text/plain": [
       "<Figure size 504x504 with 1 Axes>"
      ]
     },
     "metadata": {
      "needs_background": "light"
     },
     "output_type": "display_data"
    }
   ],
   "source": [
    "approved_mask = loans_df[\"Approval\"] == 1\n",
    "\n",
    "plt.figure(figsize=(7,7))\n",
    "plt.scatter(scaled_loans_df2[\"Credit Score\"][approved_mask], \n",
    "            scaled_loans_df2[\"Loan Request Amount\"][approved_mask], \n",
    "            c = \"blue\",\n",
    "            s=100,\n",
    "            label=\"Approved Requests\")\n",
    "plt.scatter(scaled_loans_df2[\"Credit Score\"][~approved_mask], \n",
    "            scaled_loans_df2[\"Loan Request Amount\"][~approved_mask], \n",
    "            c = \"red\",\n",
    "            s=100,\n",
    "            label=\"Unapproved Requests\")\n",
    "plt.xlim(-2.0, 2.0)\n",
    "plt.ylim(-2.0, 2.0)\n",
    "plt.legend(loc=\"upper right\")\n",
    "plt.xlabel(\"x1 - Scaled Credit Score\", fontsize=\"20\")\n",
    "plt.ylabel(\"x2 - Scaled Loan Request Amount\", fontsize=\"20\")\n",
    "plt.show();"
   ]
  },
  {
   "cell_type": "markdown",
   "metadata": {
    "id": "hsnrcVZaHizP"
   },
   "source": [
    "Notice the scale of the data is similar, but not identical ($x_1$ extends from -2.0 to 1.5, while $x_2$ extends from -1.5 to 1.5). Notice also the data is centered around the point (0,0). \n",
    "\n",
    "In practice, the standard scaler has a better performance on many machine learning models. However, the `MinMaxScaler` would have better run-time performance."
   ]
  },
  {
   "cell_type": "markdown",
   "metadata": {
    "id": "NpUVWBcxHizQ"
   },
   "source": [
    "Scaling usually removes any skew in the data as well by centering it. Consider the following example where the original data is colored in blue, and the scaled data in orange:\n",
    "\n",
    "![dataUnskewed](https://drive.google.com/uc?export=view&id=1lVdIoetld03P9GqMPrQLjkp5XFj0Izuc)\n",
    "\n",
    "and scaling does not just squish the data, it can also expand it outwards:\n",
    "\n",
    "\n",
    "![dataStretched](https://drive.google.com/uc?export=view&id=1Ed85zYnx1fOKiBqAhzcY6olk8JyN3CtJ)"
   ]
  },
  {
   "cell_type": "markdown",
   "metadata": {
    "id": "TksH-AK8HizS"
   },
   "source": [
    "## Scaling and Train/Test Split\n",
    "\n",
    "When we use scalers, we want to be careful with how we employ them. It might be more convenient to first scale and then perform a train/test split, but that methodology would have two flaws in it:\n",
    "\n",
    "* You would inevitably inject information about your test data into your train data (since they are scaled at the same time)\n",
    "* What if your real-life data, after the model is deployed, comes in one point at a time? would you re-attach it to the test data, rescale, and retrain your model?\n",
    "\n",
    "The correct order of operations is:\n",
    "\n",
    "------------\n",
    "\n",
    "1. Train-Test Split\n",
    "2. Pre-process \n",
    "    1. Fit scaler on train data\n",
    "    2. Transform train data\n",
    "    3. Transform test data using the same scaler\n",
    "3. Train model on scaled train data\n",
    "4. Test model on scaled test data\n",
    "\n",
    "------------\n",
    "\n",
    "This ensures you'll end up with an unbiased estimate of your model using the test set AND you now have a scaler which you can re-use on every data point as it comes in."
   ]
  },
  {
   "cell_type": "markdown",
   "metadata": {
    "id": "d2Cw1uxeHizS"
   },
   "source": [
    "### Scale and Regularization\n",
    "\n",
    "Regressions, logistic and linear, are somewhat immune to changes in data scale. If the range of values for some feature is shrunk down then a model can compensate by having smaller weights, in this case performance will not be impacted. But this is not always the case.\n",
    "\n",
    "Let's actually look at an example where scale impacts the accuracy of our models. Recall in regularization we penalize models which learn to use heavy weight parameters. If the weights we learn in regression must be adjusted for data scale then this can have an impact on model performance.\n",
    "\n",
    "First let's load up two (slightly modified) dimensions of the cancer dataset:"
   ]
  },
  {
   "cell_type": "code",
   "execution_count": 31,
   "metadata": {
    "id": "Cn2a7uJVHizS"
   },
   "outputs": [],
   "source": [
    "from sklearn.datasets import load_breast_cancer\n",
    "from sklearn.model_selection import train_test_split\n",
    "\n",
    "cancer = load_breast_cancer()\n",
    "x = cancer.data\n",
    "y = cancer.target\n",
    "\n",
    "\n",
    "x = np.stack([x[:,0], x[:,14]],axis=1)\n",
    "X_train, X_test, y_train, y_test = train_test_split(x,y, test_size=0.5, random_state=1)"
   ]
  },
  {
   "cell_type": "markdown",
   "metadata": {
    "id": "Nf4SQqtyHizS"
   },
   "source": [
    "Let's fit a logistic regression to the data:"
   ]
  },
  {
   "cell_type": "code",
   "execution_count": 32,
   "metadata": {
    "id": "Vh2DM2L-HizS"
   },
   "outputs": [],
   "source": [
    "from sklearn.linear_model import LogisticRegression\n",
    "\n",
    "my_logreg_model = LogisticRegression(C=0.1, random_state=1).fit(X_train, y_train)"
   ]
  },
  {
   "cell_type": "markdown",
   "metadata": {
    "id": "Ej9ugsYiHizT"
   },
   "source": [
    "Now let's do the same, but first we scale the data:"
   ]
  },
  {
   "cell_type": "code",
   "execution_count": 33,
   "metadata": {
    "id": "-hAJTdYMHizT"
   },
   "outputs": [],
   "source": [
    "cancer = load_breast_cancer()\n",
    "x = cancer.data\n",
    "y = cancer.target\n",
    "\n",
    "x = np.stack([x[:,0], x[:,14]],axis=1)\n",
    "\n",
    "scaler = StandardScaler()\n",
    "scaler.fit(X_train)\n",
    "X_scaled_train = scaler.transform(X_train)\n",
    "X_scaled_test = scaler.transform(X_test)\n",
    "\n",
    "my_logreg_model_scaled = LogisticRegression(C=0.1, random_state=1).fit(X_scaled_train, y_train)"
   ]
  },
  {
   "cell_type": "code",
   "execution_count": 34,
   "metadata": {
    "id": "fD8tSsPVHizT"
   },
   "outputs": [
    {
     "name": "stdout",
     "output_type": "stream",
     "text": [
      "0.8666666666666667\n",
      "0.8807017543859649\n"
     ]
    }
   ],
   "source": [
    "print(my_logreg_model.score(X_test,y_test))\n",
    "print(my_logreg_model_scaled.score(X_scaled_test,y_test))"
   ]
  },
  {
   "cell_type": "markdown",
   "metadata": {
    "id": "dCStA1oLHizT"
   },
   "source": [
    "The model fitted to the scaled data did better. Because of the wide range of values in the unscaled data our regularization really had an impact on the model fitting!"
   ]
  },
  {
   "cell_type": "markdown",
   "metadata": {},
   "source": [
    "---\n",
    "#### Exercise 3\n",
    "\n",
    "In many retail scenarios, we model sales as a response of other factors, like price, rain, holidays, competitor sales, etc. However, its not always the case that sales is linearly related to these factors. Let's investigate what happens when we try to fit a linear model to data that does not have linear relationships. \n",
    "\n",
    "For this exercise please use OLS from StatsModel.\n",
    "\n",
    "Use the data from [here.](https://drive.google.com/file/d/1AR21EACLjQ8iDsBWrAFauS-5bO_0aA4J/view?usp=sharing )\n",
    "\n",
    "1. Plot the data on a linear scale - how does sales total vary with price?\n",
    "2. Carry out a linear regression on the untransformed data - what can we conclude from the analysis?\n",
    "3. Check the model residuals of the linear regression. Are they normal and homoscedastic? \n",
    "4. Take the log of the sales data and plot log(sales) and price. \n",
    "5. Carry out a linear regression on the price and transformed sales data and check the residuals? How do these compare to the residuals of your initial model?\n",
    "6. How would you interpret the coefficients for this model?\n",
    "\n",
    "---"
   ]
  },
  {
   "cell_type": "markdown",
   "metadata": {},
   "source": [
    "Below we demonstrate how an exponential relationship can be transformed into a linear representation by taking the log of the dependant variable."
   ]
  },
  {
   "cell_type": "code",
   "execution_count": 35,
   "metadata": {},
   "outputs": [
    {
     "data": {
      "image/png": "[encoded data removed]",
      "text/plain": [
       "<Figure size 1080x360 with 2 Axes>"
      ]
     },
     "metadata": {
      "needs_background": "light"
     },
     "output_type": "display_data"
    }
   ],
   "source": [
    "x = np.linspace(-2.0, 2.0, num=300)\n",
    "y = np.exp(-x) # y is an exponential function of x\n",
    "\n",
    "plt.subplots(1, 2, figsize=(15, 5))\n",
    "\n",
    "plt.subplot(1, 2, 1)\n",
    "plt.plot(x, y) #If we simply plot out y as a function of x we get an exponential curve\n",
    "plt.title('Exponential Relationship', fontsize=18)\n",
    "plt.xlabel('x', fontsize=15)\n",
    "plt.ylabel('y', fontsize=15) \n",
    "\n",
    "plt.subplot(1, 2, 2)\n",
    "plt.plot(x, np.log(y), c='orange') #If we take the log of y, we then transform the exponential relationship into a linear relationship\n",
    "plt.title('Linear Relationship', fontsize=18)\n",
    "plt.xlabel('x', fontsize=15)\n",
    "plt.ylabel('log(y)', fontsize=15)\n",
    "\n",
    "plt.show()"
   ]
  },
  {
   "cell_type": "markdown",
   "metadata": {},
   "source": [
    "### Transformations \n",
    "\n",
    "We saw how applying a transformation to our data can help fix issues we may have with non-normal and heteroscedastic residuals. Modelling using variables that do not have linear relationships with the dependent is one of the main causes of heteroscedasticity.\n",
    "\n",
    "Transforming data is a very deep topic area and we will be covering more robust techniques later in the course. The main gist behind transformations is to apply some form of mathematical function to all values in a variable to yield a *transformed* variable. There is a wide range of popular functions commonly applied when modelling data that have been shown to empircally improve model performance. It is not always clear which transformation is best. In Exercise 3, it was quite clear that the relationship was exponential. In many cases this may not be the case so we may need to try a range of transformations and compare results.\n",
    "\n",
    "**What about interpretability?**\n",
    "\n",
    "The major downside to transforming variables is the impact on interpretability. We no longer can say a unit increase in price leads to a $\\beta_i$ increase in sales. Instead we have to say a unit increase in price leads to a $\\beta_i$ increase in $log(sales)$. This is far less intuitive than standard linear regression interpretation. We would then need to take the reverse transformation to get our actual $\\hat{y}$. \n",
    "\n",
    "**Example from Exercise 3:**\n",
    "\n",
    "**Step 1** : Original regression equation\n",
    "\n",
    "$$ y = \\beta_0 + \\beta_1 x_1 $$ </inline>\n",
    "\n",
    "**Step 2**: Regression equation after taking the log of sales\n",
    "\n",
    "$$ log(y) = \\beta_0 + \\beta_1 x_1 $$\n",
    "\n",
    "**Step 3**: Take the inverse of the log function to  get the actual value of our sales prediction $\\hat{y}$.\n",
    "\n",
    "$$ \\hat{y} = e^{(\\beta_0 + \\beta_1 x_1)} $$\n",
    "\n",
    "#### Practical implementation:\n",
    "\n",
    "- Plotting scatterplots of your independent variables against the dependent variable will help you visually identify whether there is a non-linear relationship. It may also help you work out which transformation to apply.\n",
    "\n",
    "---"
   ]
  },
  {
   "cell_type": "markdown",
   "metadata": {
    "jp-MarkdownHeadingCollapsed": true,
    "tags": []
   },
   "source": [
    "### Other Useful Transformations\n",
    "\n",
    "\n",
    "The following table summarizes the most common transformations that are applied before regression modelling - keep in mind that the aim is to create a linear relationship between the transformed dependent and independent variables.\n",
    "\n",
    "|    &nbsp; &nbsp; &nbsp; &nbsp;                 | Transformation &nbsp; &nbsp; &nbsp;         | New Equation &nbsp; &nbsp; &nbsp;  | Inverse-transformed Equation  &nbsp; &nbsp; &nbsp; |\n",
    "|----------------------------|-------------------------|-----------------------|------------------------|\n",
    "| No transformation |                     | $$ y = \\beta_0 + \\beta_1 x $$        | $$ \\hat{y} = \\beta_0 + \\beta_1 x $$|\n",
    "| Root transformation            | $$ \\sqrt{y} $$            | $$ \\sqrt{y} = \\beta_0 + \\beta_1 x $$    | $$ \\hat{y} = {(\\beta_0 + \\beta_1 x)}^2 $$       |\n",
    "| Reciprocal tranformation           | $$ \\frac{1}{y} $$               | $$ \\frac{1}{y} = \\beta_0 + \\beta_1 x $$         | $$ \\hat{y} = \\frac{1}{\\beta_0 + \\beta_1 x} $$  |\n",
    "| Log transformations          | $$ log(y) $$             | $$ log(y) = \\beta_0 + \\beta_1 x $$     | $$ \\hat{y} = e^{(\\beta_0 + \\beta_1 x)} $$      |\n",
    "|           | $$ log(x)$$             | $$ y = \\beta_0 + \\beta_1 log(x) $$     | $$ \\hat{y} = \\beta_0 + \\beta_1 log(x) $$      |\n",
    "| Log-log regression                | $log(y)$ and $log(x)$ | $$ log(y) = \\beta_0 + \\beta_1 log(x) $$ | $$ \\hat{y} = e^{\\beta_0}x^{\\beta_1} $$ |\n",
    "\n",
    "The last column shows how one can express the original response $y$ based on the transformed equation - this helps to understand how a unit change in $x$ will affect the original dependent variable $y$. For a given data set, in order to find the best transformation, one can inspect the residual plots and correlation coefficients."
   ]
  },
  {
   "cell_type": "markdown",
   "metadata": {
    "id": "kqS7u_ypHizT"
   },
   "source": [
    "### So which scaler should I use?\n",
    "\n",
    "Generally, people use standard scaler unless there is a physical limitation to using that (such as a very large dataset). You should start with the standard scaler and consider changing to min-max scaler if the run time is too long. \n",
    "\n",
    "Realistically the choice of which scaler to use will have negligible effect compared to using a scaler versus not using a scaler."
   ]
  },
  {
   "cell_type": "markdown",
   "metadata": {
    "id": "pJIxL0pGHizT",
    "toc-hr-collapsed": true
   },
   "source": [
    "### ... and which distance metric?\n",
    "\n",
    "Most algorithms use Euclidean distance or Cosine similarity, and the default usually works quite well. However you should be aware that distance is not a fixed notion and that sometimes a custom method of measuring distance is required."
   ]
  },
  {
   "cell_type": "markdown",
   "metadata": {
    "id": "2j9EuRY0HizT"
   },
   "source": [
    "<div id=\"container\" style=\"position:relative;\">\n",
    "<div style=\"position:relative; float:right\"><img style=\"height:25px\"\"width: 50px\" src =\"https://drive.google.com/uc?export=view&id=14VoXUJftgptWtdNhtNYVm6cjVmEWpki1\" />\n",
    "</div>\n",
    "</div>\n"
   ]
  }
 ],
 "metadata": {
  "colab": {
   "collapsed_sections": [],
   "name": "Distance and Scaling.ipynb",
   "provenance": []
  },
  "hide_input": false,
  "kernelspec": {
   "display_name": "Python 3 (ipykernel)",
   "language": "python",
   "name": "python3"
  },
  "language_info": {
   "codemirror_mode": {
    "name": "ipython",
    "version": 3
   },
   "file_extension": ".py",
   "mimetype": "text/x-python",
   "name": "python",
   "nbconvert_exporter": "python",
   "pygments_lexer": "ipython3",
   "version": "3.9.12"
  },
  "toc": {
   "base_numbering": 1,
   "nav_menu": {},
   "number_sections": false,
   "sideBar": true,
   "skip_h1_title": true,
   "title_cell": "Table of Contents",
   "title_sidebar": "Contents",
   "toc_cell": false,
   "toc_position": {},
   "toc_section_display": true,
   "toc_window_display": false
  },
  "toc-autonumbering": true,
  "toc-showmarkdowntxt": false,
  "toc-showtags": false
 },
 "nbformat": 4,
 "nbformat_minor": 4
}
