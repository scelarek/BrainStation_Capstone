{
 "cells": [
  {
   "cell_type": "markdown",
   "metadata": {},
   "source": [
    "# Data Wrangling Template"
   ]
  },
  {
   "cell_type": "markdown",
   "metadata": {},
   "source": [
    "## Gather"
   ]
  },
  {
   "cell_type": "code",
   "execution_count": 410,
   "metadata": {
    "collapsed": true
   },
   "outputs": [],
   "source": [
    "import pandas as pd\n",
    "import zipfile as zf\n",
    "import numpy as np\n",
    "# Load the data\n",
    "\n",
    "with zf.ZipFile('archive.zip', 'r') as myzip:\n",
    "    myzip.extractall()\n",
    "\n",
    "df = pd.read_csv('online-job-postings.csv')"
   ]
  },
  {
   "cell_type": "markdown",
   "metadata": {},
   "source": [
    "## Assess"
   ]
  },
  {
   "cell_type": "code",
   "execution_count": 411,
   "metadata": {},
   "outputs": [
    {
     "name": "stdout",
     "output_type": "stream",
     "text": [
      "                                             jobpost          date  \\\n",
      "0  AMERIA Investment Consulting Company\\r\\nJOB TI...   Jan 5, 2004   \n",
      "1  International Research & Exchanges Board (IREX...   Jan 7, 2004   \n",
      "2  Caucasus Environmental NGO Network (CENN)\\r\\nJ...   Jan 7, 2004   \n",
      "3  Manoff Group\\r\\nJOB TITLE:  BCC Specialist\\r\\n...   Jan 7, 2004   \n",
      "4  Yerevan Brandy Company\\r\\nJOB TITLE:  Software...  Jan 10, 2004   \n",
      "\n",
      "                                               Title  \\\n",
      "0                            Chief Financial Officer   \n",
      "1  Full-time Community Connections Intern (paid i...   \n",
      "2                                Country Coordinator   \n",
      "3                                     BCC Specialist   \n",
      "4                                 Software Developer   \n",
      "\n",
      "                                           Company AnnouncementCode Term  \\\n",
      "0             AMERIA Investment Consulting Company              NaN  NaN   \n",
      "1  International Research & Exchanges Board (IREX)              NaN  NaN   \n",
      "2        Caucasus Environmental NGO Network (CENN)              NaN  NaN   \n",
      "3                                     Manoff Group              NaN  NaN   \n",
      "4                           Yerevan Brandy Company              NaN  NaN   \n",
      "\n",
      "  Eligibility Audience StartDate                               Duration  ...  \\\n",
      "0         NaN      NaN       NaN                                    NaN  ...   \n",
      "1         NaN      NaN       NaN                               3 months  ...   \n",
      "2         NaN      NaN       NaN  Renewable annual contract\\r\\nPOSITION  ...   \n",
      "3         NaN      NaN       NaN                                    NaN  ...   \n",
      "4         NaN      NaN       NaN                                    NaN  ...   \n",
      "\n",
      "  Salary                                       ApplicationP OpeningDate  \\\n",
      "0    NaN  To apply for this position, please submit a\\r\\...         NaN   \n",
      "1    NaN  Please submit a cover letter and resume to:\\r\\...         NaN   \n",
      "2    NaN  Please send resume or CV toursula.kazarian@......         NaN   \n",
      "3    NaN  Please send cover letter and resume to Amy\\r\\n...         NaN   \n",
      "4    NaN  Successful candidates should submit\\r\\n- CV; \\...         NaN   \n",
      "\n",
      "                                        Deadline Notes  \\\n",
      "0                                26 January 2004   NaN   \n",
      "1                                12 January 2004   NaN   \n",
      "2  20 January 2004\\r\\nSTART DATE:  February 2004   NaN   \n",
      "3      23 January 2004\\r\\nSTART DATE:  Immediate   NaN   \n",
      "4                         20 January 2004, 18:00   NaN   \n",
      "\n",
      "                                              AboutC Attach  Year Month     IT  \n",
      "0                                                NaN    NaN  2004     1  False  \n",
      "1  The International Research & Exchanges Board (...    NaN  2004     1  False  \n",
      "2  The Caucasus Environmental NGO Network is a\\r\\...    NaN  2004     1  False  \n",
      "3                                                NaN    NaN  2004     1  False  \n",
      "4                                                NaN    NaN  2004     1   True  \n",
      "\n",
      "[5 rows x 24 columns]\n",
      "<class 'pandas.core.frame.DataFrame'>\n",
      "RangeIndex: 19001 entries, 0 to 19000\n",
      "Data columns (total 24 columns):\n",
      " #   Column            Non-Null Count  Dtype \n",
      "---  ------            --------------  ----- \n",
      " 0   jobpost           19001 non-null  object\n",
      " 1   date              19001 non-null  object\n",
      " 2   Title             18973 non-null  object\n",
      " 3   Company           18994 non-null  object\n",
      " 4   AnnouncementCode  1208 non-null   object\n",
      " 5   Term              7676 non-null   object\n",
      " 6   Eligibility       4930 non-null   object\n",
      " 7   Audience          640 non-null    object\n",
      " 8   StartDate         9675 non-null   object\n",
      " 9   Duration          10798 non-null  object\n",
      " 10  Location          18969 non-null  object\n",
      " 11  JobDescription    15109 non-null  object\n",
      " 12  JobRequirment     16479 non-null  object\n",
      " 13  RequiredQual      18517 non-null  object\n",
      " 14  Salary            9622 non-null   object\n",
      " 15  ApplicationP      18941 non-null  object\n",
      " 16  OpeningDate       18295 non-null  object\n",
      " 17  Deadline          18936 non-null  object\n",
      " 18  Notes             2211 non-null   object\n",
      " 19  AboutC            12470 non-null  object\n",
      " 20  Attach            1559 non-null   object\n",
      " 21  Year              19001 non-null  int64 \n",
      " 22  Month             19001 non-null  int64 \n",
      " 23  IT                19001 non-null  bool  \n",
      "dtypes: bool(1), int64(2), object(21)\n",
      "memory usage: 3.4+ MB\n",
      "               Year         Month\n",
      "count  19001.000000  19001.000000\n",
      "mean    2010.274722      6.493869\n",
      "std        3.315609      3.405503\n",
      "min     2004.000000      1.000000\n",
      "25%     2008.000000      3.000000\n",
      "50%     2011.000000      7.000000\n",
      "75%     2013.000000      9.000000\n",
      "max     2015.000000     12.000000\n",
      "jobpost             18892\n",
      "date                 4391\n",
      "Title                8636\n",
      "Company              4554\n",
      "AnnouncementCode     1014\n",
      "Term                  411\n",
      "Eligibility           663\n",
      "Audience              216\n",
      "StartDate            1186\n",
      "Duration             1515\n",
      "Location              759\n",
      "JobDescription      12861\n",
      "JobRequirment       14182\n",
      "RequiredQual        16688\n",
      "Salary               2692\n",
      "ApplicationP        14187\n",
      "OpeningDate          3344\n",
      "Deadline             5202\n",
      "Notes                1031\n",
      "AboutC               6016\n",
      "Attach               1495\n",
      "Year                   12\n",
      "Month                  12\n",
      "IT                      2\n",
      "dtype: int64\n",
      "2012    2149\n",
      "2013    2009\n",
      "2015    2009\n",
      "2014    1983\n",
      "2008    1785\n",
      "2011    1697\n",
      "2007    1538\n",
      "2010    1511\n",
      "2009    1191\n",
      "2005    1138\n",
      "2006    1116\n",
      "2004     875\n",
      "Name: Year, dtype: int64\n"
     ]
    }
   ],
   "source": [
    "# Visual Assessment\n",
    "print(df.head())\n",
    "# Programmatic Assessment\n",
    "df.info()\n",
    "print(df.describe())\n",
    "\n",
    "print(df.nunique())\n",
    "\n",
    "print(df.Year.value_counts())"
   ]
  },
  {
   "attachments": {},
   "cell_type": "markdown",
   "metadata": {},
   "source": [
    "Problems\n",
    "1. Missing values (NaN)\n",
    "2. Some columns have duplicate information (date vs year and month columns)\n",
    "3. Nondescriptive column headers (ApplicationP, AboutC, RequiredQual ... and also JobRequirment)\n",
    "4. StartDate inconsistencies (ASAP)\n"
   ]
  },
  {
   "cell_type": "markdown",
   "metadata": {},
   "source": [
    "## Clean"
   ]
  },
  {
   "cell_type": "code",
   "execution_count": 412,
   "metadata": {
    "collapsed": true
   },
   "outputs": [],
   "source": [
    "df_clean = df.copy()"
   ]
  },
  {
   "attachments": {},
   "cell_type": "markdown",
   "metadata": {},
   "source": [
    "### Issue 1"
   ]
  },
  {
   "attachments": {},
   "cell_type": "markdown",
   "metadata": {},
   "source": [
    "#### Define\n",
    "\n",
    "Define Cleaning Plan\n",
    "1. Nothing, but note for programming later!  \n",
    "2. Nothing for now otherwise I could do .string.replace() or .drop()\n",
    "3. **Select all nondescriptive and misspelled column headers (JobRequirment, RequiredQual, ApplicationP, AboutC) Replace Column names with Full Words (JobRequirement, RequiredQualifications, ApplicationProcedure, AboutCompany)**\n",
    "\n",
    "4. Select all records with ASAP, Immediately, or other like phrases and replace with 'ASAP'\n"
   ]
  },
  {
   "attachments": {},
   "cell_type": "markdown",
   "metadata": {},
   "source": [
    "#### Code\n",
    "\n",
    "3. Select all nondescriptive and misspelled column headers (JobRequirment, RequiredQual, ApplicationP, AboutC) Replace Column names with Full Words (JobRequirement, RequiredQualifications, ApplicationProcedure, AboutCompany)\n"
   ]
  },
  {
   "cell_type": "code",
   "execution_count": 413,
   "metadata": {},
   "outputs": [
    {
     "data": {
      "text/plain": [
       "Index(['jobpost', 'date', 'Title', 'Company', 'AnnouncementCode', 'Term',\n",
       "       'Eligibility', 'Audience', 'StartDate', 'Duration', 'Location',\n",
       "       'JobDescription', 'JobRequirment', 'RequiredQual', 'Salary',\n",
       "       'ApplicationP', 'OpeningDate', 'Deadline', 'Notes', 'AboutC', 'Attach',\n",
       "       'Year', 'Month', 'IT'],\n",
       "      dtype='object')"
      ]
     },
     "execution_count": 413,
     "metadata": {},
     "output_type": "execute_result"
    }
   ],
   "source": [
    "df_clean.columns\n"
   ]
  },
  {
   "cell_type": "code",
   "execution_count": 414,
   "metadata": {},
   "outputs": [],
   "source": [
    "\n",
    "df_clean = df_clean.rename(columns={'JobRequirment':'JobRequirement', \\\n",
    "                                    'ApplicationP': 'ApplicationProcedure', 'AboutC':'AboutCompany', \\\n",
    "                                    'RequiredQual':'RequiredQualifications'})\n"
   ]
  },
  {
   "cell_type": "markdown",
   "metadata": {},
   "source": [
    "#### Test"
   ]
  },
  {
   "cell_type": "code",
   "execution_count": 415,
   "metadata": {
    "collapsed": true
   },
   "outputs": [
    {
     "data": {
      "text/plain": [
       "Index(['jobpost', 'date', 'Title', 'Company', 'AnnouncementCode', 'Term',\n",
       "       'Eligibility', 'Audience', 'StartDate', 'Duration', 'Location',\n",
       "       'JobDescription', 'JobRequirement', 'RequiredQualifications', 'Salary',\n",
       "       'ApplicationProcedure', 'OpeningDate', 'Deadline', 'Notes',\n",
       "       'AboutCompany', 'Attach', 'Year', 'Month', 'IT'],\n",
       "      dtype='object')"
      ]
     },
     "execution_count": 415,
     "metadata": {},
     "output_type": "execute_result"
    }
   ],
   "source": [
    "df_clean.columns"
   ]
  },
  {
   "attachments": {},
   "cell_type": "markdown",
   "metadata": {},
   "source": [
    "### Issue 2"
   ]
  },
  {
   "attachments": {},
   "cell_type": "markdown",
   "metadata": {},
   "source": [
    "#### Define\n",
    "\n",
    "Define Cleaning Plan\n",
    "1. Nothing, but note for programming later!  \n",
    "2. Nothing for now otherwise I could do .string.replace() or .drop()\n",
    "3. Select all nondescriptive and misspelled column headers (JobRequirment, RequiredQual, ApplicationP, AboutC) Replace Column names with Full Words (JobRequirement, RequiredQualifications, ApplicationProcedure, AboutCompany)\n",
    "4. **Select all records with ASAP, Immediately, or other like phrases and replace with 'ASAP'**\n"
   ]
  },
  {
   "attachments": {},
   "cell_type": "markdown",
   "metadata": {},
   "source": [
    "#### Code\n",
    "\n",
    "4. **Select all records with ASAP, Immediately, or other like phrases in the StartDate column and replace with 'ASAP'**\n"
   ]
  },
  {
   "cell_type": "code",
   "execution_count": 416,
   "metadata": {},
   "outputs": [
    {
     "data": {
      "text/plain": [
       "ASAP                              4754\n",
       "Immediately                        773\n",
       "As soon as possible                543\n",
       "Upon hiring                        261\n",
       "Immediate                          259\n",
       "                                  ... \n",
       "Flexible                             1\n",
       "11 April 2010                        1\n",
       "ASAP starting 10 February 2006       1\n",
       "07 April 2010                        1\n",
       "15 March 2009                        1\n",
       "Name: StartDate, Length: 1186, dtype: int64"
      ]
     },
     "execution_count": 416,
     "metadata": {},
     "output_type": "execute_result"
    }
   ],
   "source": [
    "df_clean.StartDate.value_counts()"
   ]
  },
  {
   "cell_type": "code",
   "execution_count": 417,
   "metadata": {},
   "outputs": [
    {
     "data": {
      "text/plain": [
       "{'01 April 2014 or ASAP',\n",
       " '01 September 2014 or ASAP',\n",
       " '12 November 2012 or ASAP',\n",
       " '15 April 2013 or ASAP',\n",
       " '20 November 2014 or ASAP',\n",
       " 'ASA',\n",
       " 'ASAP',\n",
       " 'ASAP preferred',\n",
       " 'ASAP starting 10 February 2006',\n",
       " 'ASAP with 3 months probation period.',\n",
       " 'Anticipated starting date of the assignment is March\\r\\n2008.',\n",
       " 'Applicants must be able to start no later than July\\r\\n19, 2004. Position to be filled as soon as possible; will remain open\\r\\nuntil filled',\n",
       " 'April 2005 or as agreed',\n",
       " 'April 2014 or ASAP',\n",
       " 'As agreed with the trainer',\n",
       " 'As soon as Possible',\n",
       " 'As soon as posible',\n",
       " 'As soon as possible',\n",
       " 'As soon as possible.',\n",
       " 'As soon as practical',\n",
       " 'As soon as the shop opens',\n",
       " 'Asap',\n",
       " 'December 2008 (we are planning to conduct the\\r\\ntrainings on Christmas days/ 24-25 December)',\n",
       " 'February 2005 or as agreed.',\n",
       " 'Immediate employment after passing the interview',\n",
       " 'Immediate employment, after passing the interview.',\n",
       " 'Immediately or as per agreement',\n",
       " 'June 2005 or as agreed',\n",
       " 'May 2005 or as agreed.',\n",
       " 'November 2005 or as agreed.',\n",
       " 'September 2014 or ASAP',\n",
       " 'Successful applicants will be periodically employed \\r\\nduring the next 24 months, depending on the need, as part of the DePo\\r\\nprogram funded by USAID.',\n",
       " 'The assignment will commence on October 1, 2004.',\n",
       " 'The position is open immediately but has a flexible\\r\\nstart date depending on the candidates earliest availability.',\n",
       " 'When-actually-employed basis.',\n",
       " 'as soon as possible',\n",
       " nan}"
      ]
     },
     "execution_count": 417,
     "metadata": {},
     "output_type": "execute_result"
    }
   ],
   "source": [
    "set1 = set(df_clean.StartDate[df_clean.StartDate.str.lower().str.contains('as').astype(bool)])\n",
    "\n",
    "set1"
   ]
  },
  {
   "cell_type": "code",
   "execution_count": 418,
   "metadata": {},
   "outputs": [
    {
     "data": {
      "text/plain": [
       "{'Approximate start date is 25 January 2007',\n",
       " 'Approximately 06 February 2012',\n",
       " 'Approximately 15 February 2012',\n",
       " 'Approximately September 2008 and position is subject\\r\\nto ACDI/VOCA being awarded the activity.',\n",
       " 'Estimated start date of employment 2nd Quarter 2004',\n",
       " 'Full time',\n",
       " 'Fulll-time',\n",
       " 'Imediately',\n",
       " 'Immadiate',\n",
       " 'Immediate',\n",
       " 'Immediate employment',\n",
       " 'Immediate employment after passing the interview',\n",
       " 'Immediate employment opportunity',\n",
       " 'Immediate employment opportunity.',\n",
       " 'Immediate employment, after passing the interview.',\n",
       " 'Immediate employment.',\n",
       " 'Immediate hire',\n",
       " 'Immediate hiring',\n",
       " 'Immediate job opening',\n",
       " 'Immediate job opportunity',\n",
       " 'Immediate or earliest possible',\n",
       " 'Immediatelly',\n",
       " 'Immediately',\n",
       " 'Immediately or as per agreement',\n",
       " 'Immediately upon agreement',\n",
       " 'Immediately upon selection or no later than November\\r\\n15, 2009.',\n",
       " 'Immediately upon selection, latest July 1, 2007',\n",
       " 'Immediately with 2 months probation period',\n",
       " 'Immediately/ upon agreement',\n",
       " 'Immidiately',\n",
       " 'Immidiatly',\n",
       " 'Immidietly',\n",
       " 'Imminent',\n",
       " 'Tentative time: Spring 2005',\n",
       " 'The expected start time is October 2007',\n",
       " 'The position is open immediately but has a flexible\\r\\nstart date depending on the candidates earliest availability.',\n",
       " 'immediate',\n",
       " 'immediately',\n",
       " nan}"
      ]
     },
     "execution_count": 418,
     "metadata": {},
     "output_type": "execute_result"
    }
   ],
   "source": [
    "set2 = set(df_clean.StartDate[df_clean.StartDate.str.lower().str.contains('im').astype(bool)])\n",
    "\n",
    "set2\n"
   ]
  },
  {
   "cell_type": "code",
   "execution_count": 419,
   "metadata": {},
   "outputs": [
    {
     "data": {
      "text/plain": [
       "{'01 March 2005 or earlier if possible',\n",
       " '01 October 2005 or earlier',\n",
       " '1 December 2010 or earlier',\n",
       " 'Earliest  possible',\n",
       " 'Early 2006',\n",
       " 'Early August 2004',\n",
       " 'Early December',\n",
       " 'Immediate or earliest possible',\n",
       " 'In the near future',\n",
       " 'Preferably early-November 2013',\n",
       " 'The position is open immediately but has a flexible\\r\\nstart date depending on the candidates earliest availability.',\n",
       " 'in the nearest future',\n",
       " nan}"
      ]
     },
     "execution_count": 419,
     "metadata": {},
     "output_type": "execute_result"
    }
   ],
   "source": [
    "set4 = set(df_clean.StartDate[df_clean.StartDate.str.lower().str.contains('ear').astype(bool)])\n",
    "\n",
    "set4"
   ]
  },
  {
   "cell_type": "code",
   "execution_count": 420,
   "metadata": {},
   "outputs": [
    {
     "data": {
      "text/plain": [
       "{'01 April 2014 or ASAP',\n",
       " '01 September 2014 or ASAP',\n",
       " '12 November 2012 or ASAP',\n",
       " '15 April 2013 or ASAP',\n",
       " '20 November 2014 or ASAP',\n",
       " 'ASA',\n",
       " 'ASAP',\n",
       " 'ASAP preferred',\n",
       " 'ASAP starting 10 February 2006',\n",
       " 'ASAP with 3 months probation period.',\n",
       " 'Applicants must be able to start no later than July\\r\\n19, 2004. Position to be filled as soon as possible; will remain open\\r\\nuntil filled',\n",
       " 'As soon as Possible',\n",
       " 'As soon as posible',\n",
       " 'As soon as possible',\n",
       " 'As soon as possible.',\n",
       " 'As soon as practical',\n",
       " 'Asap',\n",
       " 'Earliest  possible',\n",
       " 'Imediately',\n",
       " 'Immadiate',\n",
       " 'Immediate',\n",
       " 'Immediate employment',\n",
       " 'Immediate employment after passing the interview',\n",
       " 'Immediate employment opportunity',\n",
       " 'Immediate employment opportunity.',\n",
       " 'Immediate employment, after passing the interview.',\n",
       " 'Immediate employment.',\n",
       " 'Immediate hire',\n",
       " 'Immediate hiring',\n",
       " 'Immediate job opening',\n",
       " 'Immediate job opportunity',\n",
       " 'Immediate or earliest possible',\n",
       " 'Immediatelly',\n",
       " 'Immediately',\n",
       " 'Immediately or as per agreement',\n",
       " 'Immediately upon agreement',\n",
       " 'Immediately upon selection or no later than November\\r\\n15, 2009.',\n",
       " 'Immediately upon selection, latest July 1, 2007',\n",
       " 'Immediately with 2 months probation period',\n",
       " 'Immediately/ upon agreement',\n",
       " 'Immidiately',\n",
       " 'Immidiatly',\n",
       " 'Immidietly',\n",
       " 'Imminent',\n",
       " 'September 2014 or ASAP',\n",
       " 'The position is open immediately but has a flexible\\r\\nstart date depending on the candidates earliest availability.',\n",
       " 'as soon as possible',\n",
       " 'immediate',\n",
       " 'immediately',\n",
       " nan}"
      ]
     },
     "execution_count": 420,
     "metadata": {},
     "output_type": "execute_result"
    }
   ],
   "source": [
    "all_sets = set1 | set2\n",
    "\n",
    "all_sets = all_sets - {'Anticipated starting date of the assignment is March\\r\\n2008.', 'Approximate start date is 25 January 2007',\n",
    " 'Approximately 06 February 2012',\n",
    " 'Approximately 15 February 2012',\n",
    " 'Approximately September 2008 and position is subject\\r\\nto ACDI/VOCA being awarded the activity.',  'As agreed with the trainer',\n",
    " 'December 2008 (we are planning to conduct the\\r\\ntrainings on Christmas days/ 24-25 December)',\n",
    " 'Estimated start date of employment 2nd Quarter 2004',\n",
    " 'February 2005 or as agreed.',\n",
    " 'Full time',\n",
    " 'Fulll-time','June 2005 or as agreed',\n",
    " 'May 2005 or as agreed.',\n",
    " 'November 2005 or as agreed.',  'Successful applicants will be periodically employed \\r\\nduring the next 24 months, depending on the need, as part of the DePo\\r\\nprogram funded by USAID.',\n",
    " 'Tentative time: Spring 2005',\n",
    " 'The assignment will commence on October 1, 2004.',\n",
    " 'The expected start time is October 2007',\n",
    " 'When-actually-employed basis.',  'April 2014 or ASAP',  'As soon as the shop opens',  'April 2005 or as agreed'}\n",
    "\n",
    "all_sets\n"
   ]
  },
  {
   "cell_type": "code",
   "execution_count": 421,
   "metadata": {},
   "outputs": [],
   "source": [
    "old_asap = {'Immediately', 'As soon as possible', 'Upon hiring',\n",
    "             'Immediate', 'Immediate employment', 'As soon as possible.', 'Immediate job opportunity',\n",
    "             '\"Immediate employment, after passing the interview.\"',\n",
    "             'ASAP preferred', 'Employment contract signature date',\n",
    "             'Immediate employment opportunity', 'Immidiately', 'ASA',\n",
    "             'Asap', '\"The position is open immediately but has a flexible start date depending on the candidates earliest availability.\"',\n",
    "             'Immediately upon agreement', '20 November 2014 or ASAP',\n",
    "             'immediately', 'Immediatelly',\n",
    "             '\"Immediately upon selection or no later than November 15, 2009.\"',\n",
    "             'Immediate job opening', 'Immediate hiring', 'Upon selection',\n",
    "             'As soon as practical', 'Immadiate', 'As soon as posible',\n",
    "             'Immediately with 2 months probation period',\n",
    "             '12 November 2012 or ASAP', 'Immediate employment after passing the interview',\n",
    "             'Immediately/ upon agreement', '01 September 2014 or ASAP',\n",
    "             'Immediately or as per agreement', 'as soon as possible',\n",
    "             'As soon as Possible', 'in the nearest future', 'immediate',\n",
    "             '01 April 2014 or ASAP', 'Immidiatly', 'Urgent',\n",
    "             'Immediate or earliest possible', 'Immediate hire',\n",
    "             'Earliest  possible', 'ASAP with 3 months probation period.',\n",
    "             'Immediate employment opportunity.', 'Immediate employment.',\n",
    "             'Immidietly', 'Imminent', 'September 2014 or ASAP', 'Imediately'}"
   ]
  },
  {
   "cell_type": "code",
   "execution_count": 423,
   "metadata": {},
   "outputs": [
    {
     "data": {
      "text/plain": [
       "{'\"Immediate employment, after passing the interview.\"',\n",
       " '\"Immediately upon selection or no later than November 15, 2009.\"',\n",
       " '\"The position is open immediately but has a flexible start date depending on the candidates earliest availability.\"',\n",
       " '01 April 2014 or ASAP',\n",
       " '01 September 2014 or ASAP',\n",
       " '12 November 2012 or ASAP',\n",
       " '15 April 2013 or ASAP',\n",
       " '20 November 2014 or ASAP',\n",
       " 'ASA',\n",
       " 'ASAP preferred',\n",
       " 'ASAP starting 10 February 2006',\n",
       " 'ASAP with 3 months probation period.',\n",
       " 'Applicants must be able to start no later than July\\r\\n19, 2004. Position to be filled as soon as possible; will remain open\\r\\nuntil filled',\n",
       " 'As soon as Possible',\n",
       " 'As soon as posible',\n",
       " 'As soon as possible',\n",
       " 'As soon as possible.',\n",
       " 'As soon as practical',\n",
       " 'Asap',\n",
       " 'Earliest  possible',\n",
       " 'Employment contract signature date',\n",
       " 'Imediately',\n",
       " 'Immadiate',\n",
       " 'Immediate',\n",
       " 'Immediate employment',\n",
       " 'Immediate employment after passing the interview',\n",
       " 'Immediate employment opportunity',\n",
       " 'Immediate employment opportunity.',\n",
       " 'Immediate employment, after passing the interview.',\n",
       " 'Immediate employment.',\n",
       " 'Immediate hire',\n",
       " 'Immediate hiring',\n",
       " 'Immediate job opening',\n",
       " 'Immediate job opportunity',\n",
       " 'Immediate or earliest possible',\n",
       " 'Immediatelly',\n",
       " 'Immediately',\n",
       " 'Immediately or as per agreement',\n",
       " 'Immediately upon agreement',\n",
       " 'Immediately upon selection or no later than November\\r\\n15, 2009.',\n",
       " 'Immediately upon selection, latest July 1, 2007',\n",
       " 'Immediately with 2 months probation period',\n",
       " 'Immediately/ upon agreement',\n",
       " 'Immidiately',\n",
       " 'Immidiatly',\n",
       " 'Immidietly',\n",
       " 'Imminent',\n",
       " 'September 2014 or ASAP',\n",
       " 'The position is open immediately but has a flexible\\r\\nstart date depending on the candidates earliest availability.',\n",
       " 'Upon hiring',\n",
       " 'Upon selection',\n",
       " 'Urgent',\n",
       " 'as soon as possible',\n",
       " 'immediate',\n",
       " 'immediately',\n",
       " 'in the nearest future'}"
      ]
     },
     "execution_count": 423,
     "metadata": {},
     "output_type": "execute_result"
    }
   ],
   "source": [
    "all_sets = all_sets | old_asap\n",
    "\n",
    "# remove nan value in set\n",
    "all_sets = all_sets - {np.nan, 'ASAP'}\n",
    "\n",
    "all_sets"
   ]
  },
  {
   "cell_type": "code",
   "execution_count": 424,
   "metadata": {},
   "outputs": [],
   "source": [
    "for old in all_sets:\n",
    "    df_clean.StartDate.replace(to_replace=old, value='ASAP', inplace=True)\n",
    "    \n"
   ]
  },
  {
   "cell_type": "markdown",
   "metadata": {},
   "source": [
    "#### Test"
   ]
  },
  {
   "cell_type": "code",
   "execution_count": 425,
   "metadata": {},
   "outputs": [
    {
     "data": {
      "text/plain": [
       "ASAP                       6876\n",
       "01 September 2012            31\n",
       "March 2006                   27\n",
       "November 2006                22\n",
       "January 2010                 19\n",
       "                           ... \n",
       "11 April 2010                 1\n",
       "Beginning of March 2006       1\n",
       "07 April 2010                 1\n",
       "3-21 July 2006                1\n",
       "25 March 2009                 1\n",
       "Name: StartDate, Length: 1133, dtype: int64"
      ]
     },
     "execution_count": 425,
     "metadata": {},
     "output_type": "execute_result"
    }
   ],
   "source": [
    "df_clean.StartDate.value_counts()"
   ]
  },
  {
   "cell_type": "code",
   "execution_count": 427,
   "metadata": {},
   "outputs": [],
   "source": [
    "for old in all_sets:\n",
    "    assert old not in df_clean.StartDate.values\n"
   ]
  },
  {
   "attachments": {},
   "cell_type": "markdown",
   "metadata": {},
   "source": [
    "## Analysis and Visualization"
   ]
  },
  {
   "cell_type": "code",
   "execution_count": 428,
   "metadata": {},
   "outputs": [
    {
     "data": {
      "text/plain": [
       "<AxesSubplot:ylabel='StartDate'>"
      ]
     },
     "execution_count": 428,
     "metadata": {},
     "output_type": "execute_result"
    },
    {
     "data": {
      "image/png": "[encoded data removed]",
      "text/plain": [
       "<Figure size 640x480 with 1 Axes>"
      ]
     },
     "metadata": {},
     "output_type": "display_data"
    }
   ],
   "source": [
    "%matplotlib inline\n",
    "labels = np.full(len(df_clean.StartDate.value_counts()), \"\", dtype=object)\n",
    "labels[0] = 'ASAP'\n",
    "df_clean.StartDate.value_counts().plot(kind=\"pie\", labels=labels)\n"
   ]
  },
  {
   "cell_type": "code",
   "execution_count": null,
   "metadata": {},
   "outputs": [],
   "source": []
  }
 ],
 "metadata": {
  "kernelspec": {
   "display_name": "Python 3",
   "language": "python",
   "name": "python3"
  },
  "language_info": {
   "codemirror_mode": {
    "name": "ipython",
    "version": 3
   },
   "file_extension": ".py",
   "mimetype": "text/x-python",
   "name": "python",
   "nbconvert_exporter": "python",
   "pygments_lexer": "ipython3",
   "version": "3.9.13"
  }
 },
 "nbformat": 4,
 "nbformat_minor": 2
}
