{
 "cells": [
  {
   "cell_type": "code",
   "execution_count": null,
   "metadata": {
    "vscode": {
     "languageId": "sql"
    }
   },
   "outputs": [],
   "source": [
    "SELECT sub_query.title, sub_query.gender, sub_query.AVG(total_earned) \n",
    "FROM (SELECT emp.id as 'identity', emp.employee_title as 'title', emp.sex as 'gender', (AVG(emp.salary) + SUM(bon.bonus)) as 'total_earned'\n",
    "FROM sf_employees as emp\n",
    "INNER JOIN sf_bonus as bon\n",
    "ON emp.id = bon.worker_ref_id\n",
    "GROUP BY id, title, gender) as sub_query\n",
    "GROUP BY sub_query.title, sub_query.gender\n",
    "ORDER BY sub_query.AVG(total_earned) DESC;"
   ]
  },
  {
   "cell_type": "code",
   "execution_count": null,
   "metadata": {
    "vscode": {
     "languageId": "sql"
    }
   },
   "outputs": [],
   "source": [
    "\n",
    "SELECT id, CASE\n",
    "    WHEN p_id is null THEN 'Root'\n",
    "    WHEN id in (SELECT p_id FROM 'Tree table') THEN 'Inner'\n",
    "    ELSE 'Leaf' END AS type\n",
    "FROM 'Tree table'\n",
    "ORDER BY id ASC;\n"
   ]
  },
  {
   "cell_type": "code",
   "execution_count": 23,
   "metadata": {},
   "outputs": [],
   "source": [
    "import pandas as pd\n",
    "import numpy as np\n",
    "import functools as ft"
   ]
  },
  {
   "cell_type": "code",
   "execution_count": 63,
   "metadata": {},
   "outputs": [
    {
     "data": {
      "text/plain": [
       "array([6, 6, 6, 6, 5, 5])"
      ]
     },
     "execution_count": 63,
     "metadata": {},
     "output_type": "execute_result"
    }
   ],
   "source": [
    "seats_1 = np.array(\n",
    "    [[1 ,2 ,3 ,2 ,1 ,1],\n",
    "    [2, 4, 4, 3, 2, 2],\n",
    "    [5, 5, 5, 4, 4, 3],\n",
    "    [6, 6, 6, 6, 5, 5]])\n",
    "\n",
    "ft.reduce(lambda x, y: y if all(x < y) else False, seats_1)\n"
   ]
  },
  {
   "cell_type": "code",
   "execution_count": 61,
   "metadata": {},
   "outputs": [
    {
     "data": {
      "text/plain": [
       "False"
      ]
     },
     "execution_count": 61,
     "metadata": {},
     "output_type": "execute_result"
    }
   ],
   "source": [
    "\n",
    "seats_2 = np.array(\n",
    "    [[1, 2, 3, 2, 1, 1],\n",
    "    [2, 4, 4, 3, 2, 2],\n",
    "    [5, 5, 5, 10, 4, 4],\n",
    "    [6, 6, 7, 6, 5, 5]])\n",
    "\n",
    "ft.reduce(lambda x, y: y if all(x < y) else False, seats_2)"
   ]
  },
  {
   "cell_type": "code",
   "execution_count": 57,
   "metadata": {},
   "outputs": [
    {
     "data": {
      "text/plain": [
       "False"
      ]
     },
     "execution_count": 57,
     "metadata": {},
     "output_type": "execute_result"
    }
   ],
   "source": [
    "git config --global user.name \"Sam Celarek\"\n",
    "git config --global user.email \"scelarek@gmail.com\"\n",
    "git config --global init.defaultBranch \"main\"\n",
    "git config --global color.ui \"auto\"\n",
    "git config --global core.autocrlf true\n"
   ]
  },
  {
   "cell_type": "code",
   "execution_count": null,
   "metadata": {},
   "outputs": [],
   "source": [
    "git init\n",
    "git status\n"
   ]
  },
  {
   "cell_type": "code",
   "execution_count": 3,
   "metadata": {},
   "outputs": [],
   "source": [
    "def stage_view(seating= list):\n",
    "    \"\"\"\n",
    "    Check if the values in the columns of the seating list are ordered in ascending order.\n",
    "    \n",
    "    Args:\n",
    "        seating (list): A 2D list representing the seating arrangement.\n",
    "        \n",
    "    Returns:\n",
    "        bool: True if the values in all columns are ordered in ascending order, False otherwise.\n",
    "    \"\"\"\n",
    "    assert isinstance(seating, list) and all(isinstance(row, list) and all(isinstance(x, int) for x in row) for row in seating)\n",
    "    \n",
    "    rows = len(seating)\n",
    "    cols = len(seating[0])\n",
    "    \n",
    "    for y in range(cols):  # Iterate over columns\n",
    "        for x in range(1, rows):  # Iterate over rows starting from the second row\n",
    "            # Compare current value with previous value in the column\n",
    "            if seating[x][y] < seating[x-1][y]:\n",
    "                return False  # Column is not ordered in ascending order\n",
    "    \n",
    "    return True  # All columns are ordered in ascending order"
   ]
  }
 ],
 "metadata": {
  "kernelspec": {
   "display_name": "base",
   "language": "python",
   "name": "python3"
  },
  "language_info": {
   "codemirror_mode": {
    "name": "ipython",
    "version": 3
   },
   "file_extension": ".py",
   "mimetype": "text/x-python",
   "name": "python",
   "nbconvert_exporter": "python",
   "pygments_lexer": "ipython3",
   "version": "3.9.16"
  },
  "orig_nbformat": 4
 },
 "nbformat": 4,
 "nbformat_minor": 2
}
